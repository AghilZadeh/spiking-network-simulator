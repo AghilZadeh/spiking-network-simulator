import numpy as np
from tqdm import tqdm


####################################
def create_Cmat(NN_P, CP_P, CW_P):
    """
    returns a random weighted connectivity matrix of several 
    neuronal populations with 'NN_P' as list of neuron population
    numbers, 'CP_P' as connectivity probability matrix and 'CW_P'
    as connectivity weight matrix on the population level.
    
    Examples are: 
    NN_P = np.array([490, 490, 20])
    CP_P = np.array([[0.26, 0.27, 0.53], 
                  [0.06, 0.36, 0.36], 
                  [0, 0, 0.58]]) 
    CW_P = np.array([[-0.4, -1.3, -5], 
                  [-1.1, -1.1, -5], 
                  [0, 0, -0.6]])  #inhibitory
    """
    
    
    nntotal = np.sum(NN_P) # total number of neurons
    npopulation = len(NN_P) # number of populations 
    
    
    Cmat = np.array([]) 
    for ind1 in range(npopulation):        
        Rowblock = np.array([])
        for ind2 in range(npopulation):
            # creating weighted connectivity matrix block 
            # of population ind2 to ind1  
            w = CW_P[ind1, ind2]
            Size = (NN_P[ind1], NN_P[ind2]) 
            Prob = [CP_P[ind1, ind2], 1-CP_P[ind1, ind2]] # connection probability
            Block = np.random.choice([1, 0], Size, p=Prob)*w # individual block
            Rowblock = np.concatenate((Rowblock, Block), axis=1) if Rowblock.size else Block
        Cmat = np.concatenate((Cmat, Rowblock), axis=0) if Cmat.size else Rowblock
    
    return(Cmat)


####################################
def phi(inp, beta, thr):
    """
    nonlinear function used for firing rate update equation
    for input 'inp'
    """
    
    if inp>2*thr: 
        r = beta*(inp-thr)
    else:
        r = beta*thr*np.exp((inp-2*thr)/thr)
        
    return(r)


####################################
def update_neurons(Rate, Cmat, Ix, Tau, dt, Beta, Thr):
    """
    updates the firing rate of all neurons with initial firing 
    rate 'Rate', weighted connectivity matrix 'Cmat', 
    external inputs 'Ix',  time constants 'Tau', time step 'dt'
    and 'Beta' and 'Thr' as nonlinear function parameters 
    of neurons.
    """

    mod = 1
    
    Curr = (Ix + np.matmul(Cmat, Rate.transpose()))*mod
    Currphi = np.array([phi(Curr[i], Beta[i], Thr[i]) for i in range(Rate.size)])
    Drate = np.divide((Currphi-Rate), Tau)*dt
    Newrate = Rate + Drate
    
    return(Newrate)



####################################
def run_dynamics_mat(Rateinit, tmax, dt, NN_P, CP_P, CW_P, Ix_P, Tau_P, Beta_P, Thr_P):
    """
    runs the dynamics, returning the rate arrays at each time
    """
    
    # neurons tags and variables
    Ntag = np.array([i for i in range(NN_P.size) for j in range(NN_P[i])])
    Tau = np.array([Tau_P[i] for i in Ntag])
    Thr = np.array([Tau_P[i] for i in Ntag])
    Beta = np.array([Beta_P[i] for i in Ntag])
    Ix = np.array([Ix_P[i] for i in Ntag])
    
    
    Cmat = create_Cmat(NN_P, CP_P, CW_P)
    Rate = Rateinit
    Ratemat = [Rateinit]
    for step in tqdm(range(round(tmax/dt))):
        Rate = update_neurons(Rate, Cmat, Ix, Tau, dt, Beta, Thr)
        Ratemat = np.concatenate((Ratemat, [Rate]), axis=0)
        
    return(Ratemat)



####################################
def run_dynamics(Rateinit, tmax, dt, NN_P, CP_P, CW_P, Ix_P, Tau_P, Beta_P, Thr_P):
    """
    runs the dynamics, returning the rate array at the final time
    """
    # neurons tags and variables
    Ntag = np.array([i for i in range(NN_P.size) for j in range(NN_P[i])])
    Tau = np.array([Tau_P[i] for i in Ntag])
    Thr = np.array([Tau_P[i] for i in Ntag])
    Beta = np.array([Beta_P[i] for i in Ntag])
    Ix = np.array([Ix_P[i] for i in Ntag])

    
    
    Cmat = create_Cmat(NN_P, CP_P, CW_P)
    Rate = Rateinit
    for step in tqdm(range(round(tmax/dt))):
        Rate = update_neurons(Rate, Cmat, Ix, Tau, dt, Beta, Thr)
        
    return(Rate)



####################################
def hist_ave_rate(Ratemat, NN_P, pno):
    """
    plots the histogram of average activity for each population in 'Ratemat' with population neuron numbers 'NN_P' for the specific population 'pno'
    """
    
    import matplotlib.pyplot as plt
    
    
    Rateave = np.average(Ratemat, axis=1)
    initind = NN_P[pno-1] if pno>0 else 0
    finalind = NN_P[pno] + initind
    Rateavepop = Rateave[initind:finalind]
    
    plt.hist(Rateavepop, bins='auto');
    
