{
 "cells": [
  {
   "cell_type": "markdown",
   "metadata": {},
   "source": [
    "## Straitum simulation"
   ]
  },
  {
   "cell_type": "code",
   "execution_count": 1,
   "metadata": {},
   "outputs": [],
   "source": [
    "import neurosimulator as ns"
   ]
  },
  {
   "cell_type": "code",
   "execution_count": 29,
   "metadata": {},
   "outputs": [],
   "source": [
    "from populations import Striatum\n",
    "ns.initNetwork(Striatum)"
   ]
  },
  {
   "cell_type": "code",
   "execution_count": 31,
   "metadata": {
    "scrolled": false
   },
   "outputs": [
    {
     "data": {
      "application/vnd.jupyter.widget-view+json": {
       "model_id": "9a1cc4677c554b52b56e82979176f11a",
       "version_major": 2,
       "version_minor": 0
      },
      "text/plain": [
       "HBox(children=(IntProgress(value=0, max=50000), HTML(value='')))"
      ]
     },
     "metadata": {},
     "output_type": "display_data"
    },
    {
     "name": "stdout",
     "output_type": "stream",
     "text": [
      "\n"
     ]
    },
    {
     "data": {
      "application/javascript": [
       "/* Put everything inside the global mpl namespace */\n",
       "window.mpl = {};\n",
       "\n",
       "\n",
       "mpl.get_websocket_type = function() {\n",
       "    if (typeof(WebSocket) !== 'undefined') {\n",
       "        return WebSocket;\n",
       "    } else if (typeof(MozWebSocket) !== 'undefined') {\n",
       "        return MozWebSocket;\n",
       "    } else {\n",
       "        alert('Your browser does not have WebSocket support.' +\n",
       "              'Please try Chrome, Safari or Firefox ≥ 6. ' +\n",
       "              'Firefox 4 and 5 are also supported but you ' +\n",
       "              'have to enable WebSockets in about:config.');\n",
       "    };\n",
       "}\n",
       "\n",
       "mpl.figure = function(figure_id, websocket, ondownload, parent_element) {\n",
       "    this.id = figure_id;\n",
       "\n",
       "    this.ws = websocket;\n",
       "\n",
       "    this.supports_binary = (this.ws.binaryType != undefined);\n",
       "\n",
       "    if (!this.supports_binary) {\n",
       "        var warnings = document.getElementById(\"mpl-warnings\");\n",
       "        if (warnings) {\n",
       "            warnings.style.display = 'block';\n",
       "            warnings.textContent = (\n",
       "                \"This browser does not support binary websocket messages. \" +\n",
       "                    \"Performance may be slow.\");\n",
       "        }\n",
       "    }\n",
       "\n",
       "    this.imageObj = new Image();\n",
       "\n",
       "    this.context = undefined;\n",
       "    this.message = undefined;\n",
       "    this.canvas = undefined;\n",
       "    this.rubberband_canvas = undefined;\n",
       "    this.rubberband_context = undefined;\n",
       "    this.format_dropdown = undefined;\n",
       "\n",
       "    this.image_mode = 'full';\n",
       "\n",
       "    this.root = $('<div/>');\n",
       "    this._root_extra_style(this.root)\n",
       "    this.root.attr('style', 'display: inline-block');\n",
       "\n",
       "    $(parent_element).append(this.root);\n",
       "\n",
       "    this._init_header(this);\n",
       "    this._init_canvas(this);\n",
       "    this._init_toolbar(this);\n",
       "\n",
       "    var fig = this;\n",
       "\n",
       "    this.waiting = false;\n",
       "\n",
       "    this.ws.onopen =  function () {\n",
       "            fig.send_message(\"supports_binary\", {value: fig.supports_binary});\n",
       "            fig.send_message(\"send_image_mode\", {});\n",
       "            if (mpl.ratio != 1) {\n",
       "                fig.send_message(\"set_dpi_ratio\", {'dpi_ratio': mpl.ratio});\n",
       "            }\n",
       "            fig.send_message(\"refresh\", {});\n",
       "        }\n",
       "\n",
       "    this.imageObj.onload = function() {\n",
       "            if (fig.image_mode == 'full') {\n",
       "                // Full images could contain transparency (where diff images\n",
       "                // almost always do), so we need to clear the canvas so that\n",
       "                // there is no ghosting.\n",
       "                fig.context.clearRect(0, 0, fig.canvas.width, fig.canvas.height);\n",
       "            }\n",
       "            fig.context.drawImage(fig.imageObj, 0, 0);\n",
       "        };\n",
       "\n",
       "    this.imageObj.onunload = function() {\n",
       "        fig.ws.close();\n",
       "    }\n",
       "\n",
       "    this.ws.onmessage = this._make_on_message_function(this);\n",
       "\n",
       "    this.ondownload = ondownload;\n",
       "}\n",
       "\n",
       "mpl.figure.prototype._init_header = function() {\n",
       "    var titlebar = $(\n",
       "        '<div class=\"ui-dialog-titlebar ui-widget-header ui-corner-all ' +\n",
       "        'ui-helper-clearfix\"/>');\n",
       "    var titletext = $(\n",
       "        '<div class=\"ui-dialog-title\" style=\"width: 100%; ' +\n",
       "        'text-align: center; padding: 3px;\"/>');\n",
       "    titlebar.append(titletext)\n",
       "    this.root.append(titlebar);\n",
       "    this.header = titletext[0];\n",
       "}\n",
       "\n",
       "\n",
       "\n",
       "mpl.figure.prototype._canvas_extra_style = function(canvas_div) {\n",
       "\n",
       "}\n",
       "\n",
       "\n",
       "mpl.figure.prototype._root_extra_style = function(canvas_div) {\n",
       "\n",
       "}\n",
       "\n",
       "mpl.figure.prototype._init_canvas = function() {\n",
       "    var fig = this;\n",
       "\n",
       "    var canvas_div = $('<div/>');\n",
       "\n",
       "    canvas_div.attr('style', 'position: relative; clear: both; outline: 0');\n",
       "\n",
       "    function canvas_keyboard_event(event) {\n",
       "        return fig.key_event(event, event['data']);\n",
       "    }\n",
       "\n",
       "    canvas_div.keydown('key_press', canvas_keyboard_event);\n",
       "    canvas_div.keyup('key_release', canvas_keyboard_event);\n",
       "    this.canvas_div = canvas_div\n",
       "    this._canvas_extra_style(canvas_div)\n",
       "    this.root.append(canvas_div);\n",
       "\n",
       "    var canvas = $('<canvas/>');\n",
       "    canvas.addClass('mpl-canvas');\n",
       "    canvas.attr('style', \"left: 0; top: 0; z-index: 0; outline: 0\")\n",
       "\n",
       "    this.canvas = canvas[0];\n",
       "    this.context = canvas[0].getContext(\"2d\");\n",
       "\n",
       "    var backingStore = this.context.backingStorePixelRatio ||\n",
       "\tthis.context.webkitBackingStorePixelRatio ||\n",
       "\tthis.context.mozBackingStorePixelRatio ||\n",
       "\tthis.context.msBackingStorePixelRatio ||\n",
       "\tthis.context.oBackingStorePixelRatio ||\n",
       "\tthis.context.backingStorePixelRatio || 1;\n",
       "\n",
       "    mpl.ratio = (window.devicePixelRatio || 1) / backingStore;\n",
       "\n",
       "    var rubberband = $('<canvas/>');\n",
       "    rubberband.attr('style', \"position: absolute; left: 0; top: 0; z-index: 1;\")\n",
       "\n",
       "    var pass_mouse_events = true;\n",
       "\n",
       "    canvas_div.resizable({\n",
       "        start: function(event, ui) {\n",
       "            pass_mouse_events = false;\n",
       "        },\n",
       "        resize: function(event, ui) {\n",
       "            fig.request_resize(ui.size.width, ui.size.height);\n",
       "        },\n",
       "        stop: function(event, ui) {\n",
       "            pass_mouse_events = true;\n",
       "            fig.request_resize(ui.size.width, ui.size.height);\n",
       "        },\n",
       "    });\n",
       "\n",
       "    function mouse_event_fn(event) {\n",
       "        if (pass_mouse_events)\n",
       "            return fig.mouse_event(event, event['data']);\n",
       "    }\n",
       "\n",
       "    rubberband.mousedown('button_press', mouse_event_fn);\n",
       "    rubberband.mouseup('button_release', mouse_event_fn);\n",
       "    // Throttle sequential mouse events to 1 every 20ms.\n",
       "    rubberband.mousemove('motion_notify', mouse_event_fn);\n",
       "\n",
       "    rubberband.mouseenter('figure_enter', mouse_event_fn);\n",
       "    rubberband.mouseleave('figure_leave', mouse_event_fn);\n",
       "\n",
       "    canvas_div.on(\"wheel\", function (event) {\n",
       "        event = event.originalEvent;\n",
       "        event['data'] = 'scroll'\n",
       "        if (event.deltaY < 0) {\n",
       "            event.step = 1;\n",
       "        } else {\n",
       "            event.step = -1;\n",
       "        }\n",
       "        mouse_event_fn(event);\n",
       "    });\n",
       "\n",
       "    canvas_div.append(canvas);\n",
       "    canvas_div.append(rubberband);\n",
       "\n",
       "    this.rubberband = rubberband;\n",
       "    this.rubberband_canvas = rubberband[0];\n",
       "    this.rubberband_context = rubberband[0].getContext(\"2d\");\n",
       "    this.rubberband_context.strokeStyle = \"#000000\";\n",
       "\n",
       "    this._resize_canvas = function(width, height) {\n",
       "        // Keep the size of the canvas, canvas container, and rubber band\n",
       "        // canvas in synch.\n",
       "        canvas_div.css('width', width)\n",
       "        canvas_div.css('height', height)\n",
       "\n",
       "        canvas.attr('width', width * mpl.ratio);\n",
       "        canvas.attr('height', height * mpl.ratio);\n",
       "        canvas.attr('style', 'width: ' + width + 'px; height: ' + height + 'px;');\n",
       "\n",
       "        rubberband.attr('width', width);\n",
       "        rubberband.attr('height', height);\n",
       "    }\n",
       "\n",
       "    // Set the figure to an initial 600x600px, this will subsequently be updated\n",
       "    // upon first draw.\n",
       "    this._resize_canvas(600, 600);\n",
       "\n",
       "    // Disable right mouse context menu.\n",
       "    $(this.rubberband_canvas).bind(\"contextmenu\",function(e){\n",
       "        return false;\n",
       "    });\n",
       "\n",
       "    function set_focus () {\n",
       "        canvas.focus();\n",
       "        canvas_div.focus();\n",
       "    }\n",
       "\n",
       "    window.setTimeout(set_focus, 100);\n",
       "}\n",
       "\n",
       "mpl.figure.prototype._init_toolbar = function() {\n",
       "    var fig = this;\n",
       "\n",
       "    var nav_element = $('<div/>')\n",
       "    nav_element.attr('style', 'width: 100%');\n",
       "    this.root.append(nav_element);\n",
       "\n",
       "    // Define a callback function for later on.\n",
       "    function toolbar_event(event) {\n",
       "        return fig.toolbar_button_onclick(event['data']);\n",
       "    }\n",
       "    function toolbar_mouse_event(event) {\n",
       "        return fig.toolbar_button_onmouseover(event['data']);\n",
       "    }\n",
       "\n",
       "    for(var toolbar_ind in mpl.toolbar_items) {\n",
       "        var name = mpl.toolbar_items[toolbar_ind][0];\n",
       "        var tooltip = mpl.toolbar_items[toolbar_ind][1];\n",
       "        var image = mpl.toolbar_items[toolbar_ind][2];\n",
       "        var method_name = mpl.toolbar_items[toolbar_ind][3];\n",
       "\n",
       "        if (!name) {\n",
       "            // put a spacer in here.\n",
       "            continue;\n",
       "        }\n",
       "        var button = $('<button/>');\n",
       "        button.addClass('ui-button ui-widget ui-state-default ui-corner-all ' +\n",
       "                        'ui-button-icon-only');\n",
       "        button.attr('role', 'button');\n",
       "        button.attr('aria-disabled', 'false');\n",
       "        button.click(method_name, toolbar_event);\n",
       "        button.mouseover(tooltip, toolbar_mouse_event);\n",
       "\n",
       "        var icon_img = $('<span/>');\n",
       "        icon_img.addClass('ui-button-icon-primary ui-icon');\n",
       "        icon_img.addClass(image);\n",
       "        icon_img.addClass('ui-corner-all');\n",
       "\n",
       "        var tooltip_span = $('<span/>');\n",
       "        tooltip_span.addClass('ui-button-text');\n",
       "        tooltip_span.html(tooltip);\n",
       "\n",
       "        button.append(icon_img);\n",
       "        button.append(tooltip_span);\n",
       "\n",
       "        nav_element.append(button);\n",
       "    }\n",
       "\n",
       "    var fmt_picker_span = $('<span/>');\n",
       "\n",
       "    var fmt_picker = $('<select/>');\n",
       "    fmt_picker.addClass('mpl-toolbar-option ui-widget ui-widget-content');\n",
       "    fmt_picker_span.append(fmt_picker);\n",
       "    nav_element.append(fmt_picker_span);\n",
       "    this.format_dropdown = fmt_picker[0];\n",
       "\n",
       "    for (var ind in mpl.extensions) {\n",
       "        var fmt = mpl.extensions[ind];\n",
       "        var option = $(\n",
       "            '<option/>', {selected: fmt === mpl.default_extension}).html(fmt);\n",
       "        fmt_picker.append(option)\n",
       "    }\n",
       "\n",
       "    // Add hover states to the ui-buttons\n",
       "    $( \".ui-button\" ).hover(\n",
       "        function() { $(this).addClass(\"ui-state-hover\");},\n",
       "        function() { $(this).removeClass(\"ui-state-hover\");}\n",
       "    );\n",
       "\n",
       "    var status_bar = $('<span class=\"mpl-message\"/>');\n",
       "    nav_element.append(status_bar);\n",
       "    this.message = status_bar[0];\n",
       "}\n",
       "\n",
       "mpl.figure.prototype.request_resize = function(x_pixels, y_pixels) {\n",
       "    // Request matplotlib to resize the figure. Matplotlib will then trigger a resize in the client,\n",
       "    // which will in turn request a refresh of the image.\n",
       "    this.send_message('resize', {'width': x_pixels, 'height': y_pixels});\n",
       "}\n",
       "\n",
       "mpl.figure.prototype.send_message = function(type, properties) {\n",
       "    properties['type'] = type;\n",
       "    properties['figure_id'] = this.id;\n",
       "    this.ws.send(JSON.stringify(properties));\n",
       "}\n",
       "\n",
       "mpl.figure.prototype.send_draw_message = function() {\n",
       "    if (!this.waiting) {\n",
       "        this.waiting = true;\n",
       "        this.ws.send(JSON.stringify({type: \"draw\", figure_id: this.id}));\n",
       "    }\n",
       "}\n",
       "\n",
       "\n",
       "mpl.figure.prototype.handle_save = function(fig, msg) {\n",
       "    var format_dropdown = fig.format_dropdown;\n",
       "    var format = format_dropdown.options[format_dropdown.selectedIndex].value;\n",
       "    fig.ondownload(fig, format);\n",
       "}\n",
       "\n",
       "\n",
       "mpl.figure.prototype.handle_resize = function(fig, msg) {\n",
       "    var size = msg['size'];\n",
       "    if (size[0] != fig.canvas.width || size[1] != fig.canvas.height) {\n",
       "        fig._resize_canvas(size[0], size[1]);\n",
       "        fig.send_message(\"refresh\", {});\n",
       "    };\n",
       "}\n",
       "\n",
       "mpl.figure.prototype.handle_rubberband = function(fig, msg) {\n",
       "    var x0 = msg['x0'] / mpl.ratio;\n",
       "    var y0 = (fig.canvas.height - msg['y0']) / mpl.ratio;\n",
       "    var x1 = msg['x1'] / mpl.ratio;\n",
       "    var y1 = (fig.canvas.height - msg['y1']) / mpl.ratio;\n",
       "    x0 = Math.floor(x0) + 0.5;\n",
       "    y0 = Math.floor(y0) + 0.5;\n",
       "    x1 = Math.floor(x1) + 0.5;\n",
       "    y1 = Math.floor(y1) + 0.5;\n",
       "    var min_x = Math.min(x0, x1);\n",
       "    var min_y = Math.min(y0, y1);\n",
       "    var width = Math.abs(x1 - x0);\n",
       "    var height = Math.abs(y1 - y0);\n",
       "\n",
       "    fig.rubberband_context.clearRect(\n",
       "        0, 0, fig.canvas.width, fig.canvas.height);\n",
       "\n",
       "    fig.rubberband_context.strokeRect(min_x, min_y, width, height);\n",
       "}\n",
       "\n",
       "mpl.figure.prototype.handle_figure_label = function(fig, msg) {\n",
       "    // Updates the figure title.\n",
       "    fig.header.textContent = msg['label'];\n",
       "}\n",
       "\n",
       "mpl.figure.prototype.handle_cursor = function(fig, msg) {\n",
       "    var cursor = msg['cursor'];\n",
       "    switch(cursor)\n",
       "    {\n",
       "    case 0:\n",
       "        cursor = 'pointer';\n",
       "        break;\n",
       "    case 1:\n",
       "        cursor = 'default';\n",
       "        break;\n",
       "    case 2:\n",
       "        cursor = 'crosshair';\n",
       "        break;\n",
       "    case 3:\n",
       "        cursor = 'move';\n",
       "        break;\n",
       "    }\n",
       "    fig.rubberband_canvas.style.cursor = cursor;\n",
       "}\n",
       "\n",
       "mpl.figure.prototype.handle_message = function(fig, msg) {\n",
       "    fig.message.textContent = msg['message'];\n",
       "}\n",
       "\n",
       "mpl.figure.prototype.handle_draw = function(fig, msg) {\n",
       "    // Request the server to send over a new figure.\n",
       "    fig.send_draw_message();\n",
       "}\n",
       "\n",
       "mpl.figure.prototype.handle_image_mode = function(fig, msg) {\n",
       "    fig.image_mode = msg['mode'];\n",
       "}\n",
       "\n",
       "mpl.figure.prototype.updated_canvas_event = function() {\n",
       "    // Called whenever the canvas gets updated.\n",
       "    this.send_message(\"ack\", {});\n",
       "}\n",
       "\n",
       "// A function to construct a web socket function for onmessage handling.\n",
       "// Called in the figure constructor.\n",
       "mpl.figure.prototype._make_on_message_function = function(fig) {\n",
       "    return function socket_on_message(evt) {\n",
       "        if (evt.data instanceof Blob) {\n",
       "            /* FIXME: We get \"Resource interpreted as Image but\n",
       "             * transferred with MIME type text/plain:\" errors on\n",
       "             * Chrome.  But how to set the MIME type?  It doesn't seem\n",
       "             * to be part of the websocket stream */\n",
       "            evt.data.type = \"image/png\";\n",
       "\n",
       "            /* Free the memory for the previous frames */\n",
       "            if (fig.imageObj.src) {\n",
       "                (window.URL || window.webkitURL).revokeObjectURL(\n",
       "                    fig.imageObj.src);\n",
       "            }\n",
       "\n",
       "            fig.imageObj.src = (window.URL || window.webkitURL).createObjectURL(\n",
       "                evt.data);\n",
       "            fig.updated_canvas_event();\n",
       "            fig.waiting = false;\n",
       "            return;\n",
       "        }\n",
       "        else if (typeof evt.data === 'string' && evt.data.slice(0, 21) == \"data:image/png;base64\") {\n",
       "            fig.imageObj.src = evt.data;\n",
       "            fig.updated_canvas_event();\n",
       "            fig.waiting = false;\n",
       "            return;\n",
       "        }\n",
       "\n",
       "        var msg = JSON.parse(evt.data);\n",
       "        var msg_type = msg['type'];\n",
       "\n",
       "        // Call the  \"handle_{type}\" callback, which takes\n",
       "        // the figure and JSON message as its only arguments.\n",
       "        try {\n",
       "            var callback = fig[\"handle_\" + msg_type];\n",
       "        } catch (e) {\n",
       "            console.log(\"No handler for the '\" + msg_type + \"' message type: \", msg);\n",
       "            return;\n",
       "        }\n",
       "\n",
       "        if (callback) {\n",
       "            try {\n",
       "                // console.log(\"Handling '\" + msg_type + \"' message: \", msg);\n",
       "                callback(fig, msg);\n",
       "            } catch (e) {\n",
       "                console.log(\"Exception inside the 'handler_\" + msg_type + \"' callback:\", e, e.stack, msg);\n",
       "            }\n",
       "        }\n",
       "    };\n",
       "}\n",
       "\n",
       "// from http://stackoverflow.com/questions/1114465/getting-mouse-location-in-canvas\n",
       "mpl.findpos = function(e) {\n",
       "    //this section is from http://www.quirksmode.org/js/events_properties.html\n",
       "    var targ;\n",
       "    if (!e)\n",
       "        e = window.event;\n",
       "    if (e.target)\n",
       "        targ = e.target;\n",
       "    else if (e.srcElement)\n",
       "        targ = e.srcElement;\n",
       "    if (targ.nodeType == 3) // defeat Safari bug\n",
       "        targ = targ.parentNode;\n",
       "\n",
       "    // jQuery normalizes the pageX and pageY\n",
       "    // pageX,Y are the mouse positions relative to the document\n",
       "    // offset() returns the position of the element relative to the document\n",
       "    var x = e.pageX - $(targ).offset().left;\n",
       "    var y = e.pageY - $(targ).offset().top;\n",
       "\n",
       "    return {\"x\": x, \"y\": y};\n",
       "};\n",
       "\n",
       "/*\n",
       " * return a copy of an object with only non-object keys\n",
       " * we need this to avoid circular references\n",
       " * http://stackoverflow.com/a/24161582/3208463\n",
       " */\n",
       "function simpleKeys (original) {\n",
       "  return Object.keys(original).reduce(function (obj, key) {\n",
       "    if (typeof original[key] !== 'object')\n",
       "        obj[key] = original[key]\n",
       "    return obj;\n",
       "  }, {});\n",
       "}\n",
       "\n",
       "mpl.figure.prototype.mouse_event = function(event, name) {\n",
       "    var canvas_pos = mpl.findpos(event)\n",
       "\n",
       "    if (name === 'button_press')\n",
       "    {\n",
       "        this.canvas.focus();\n",
       "        this.canvas_div.focus();\n",
       "    }\n",
       "\n",
       "    var x = canvas_pos.x * mpl.ratio;\n",
       "    var y = canvas_pos.y * mpl.ratio;\n",
       "\n",
       "    this.send_message(name, {x: x, y: y, button: event.button,\n",
       "                             step: event.step,\n",
       "                             guiEvent: simpleKeys(event)});\n",
       "\n",
       "    /* This prevents the web browser from automatically changing to\n",
       "     * the text insertion cursor when the button is pressed.  We want\n",
       "     * to control all of the cursor setting manually through the\n",
       "     * 'cursor' event from matplotlib */\n",
       "    event.preventDefault();\n",
       "    return false;\n",
       "}\n",
       "\n",
       "mpl.figure.prototype._key_event_extra = function(event, name) {\n",
       "    // Handle any extra behaviour associated with a key event\n",
       "}\n",
       "\n",
       "mpl.figure.prototype.key_event = function(event, name) {\n",
       "\n",
       "    // Prevent repeat events\n",
       "    if (name == 'key_press')\n",
       "    {\n",
       "        if (event.which === this._key)\n",
       "            return;\n",
       "        else\n",
       "            this._key = event.which;\n",
       "    }\n",
       "    if (name == 'key_release')\n",
       "        this._key = null;\n",
       "\n",
       "    var value = '';\n",
       "    if (event.ctrlKey && event.which != 17)\n",
       "        value += \"ctrl+\";\n",
       "    if (event.altKey && event.which != 18)\n",
       "        value += \"alt+\";\n",
       "    if (event.shiftKey && event.which != 16)\n",
       "        value += \"shift+\";\n",
       "\n",
       "    value += 'k';\n",
       "    value += event.which.toString();\n",
       "\n",
       "    this._key_event_extra(event, name);\n",
       "\n",
       "    this.send_message(name, {key: value,\n",
       "                             guiEvent: simpleKeys(event)});\n",
       "    return false;\n",
       "}\n",
       "\n",
       "mpl.figure.prototype.toolbar_button_onclick = function(name) {\n",
       "    if (name == 'download') {\n",
       "        this.handle_save(this, null);\n",
       "    } else {\n",
       "        this.send_message(\"toolbar_button\", {name: name});\n",
       "    }\n",
       "};\n",
       "\n",
       "mpl.figure.prototype.toolbar_button_onmouseover = function(tooltip) {\n",
       "    this.message.textContent = tooltip;\n",
       "};\n",
       "mpl.toolbar_items = [[\"Home\", \"Reset original view\", \"fa fa-home icon-home\", \"home\"], [\"Back\", \"Back to previous view\", \"fa fa-arrow-left icon-arrow-left\", \"back\"], [\"Forward\", \"Forward to next view\", \"fa fa-arrow-right icon-arrow-right\", \"forward\"], [\"\", \"\", \"\", \"\"], [\"Pan\", \"Pan axes with left mouse, zoom with right\", \"fa fa-arrows icon-move\", \"pan\"], [\"Zoom\", \"Zoom to rectangle\", \"fa fa-square-o icon-check-empty\", \"zoom\"], [\"\", \"\", \"\", \"\"], [\"Download\", \"Download plot\", \"fa fa-floppy-o icon-save\", \"download\"]];\n",
       "\n",
       "mpl.extensions = [\"eps\", \"jpeg\", \"pdf\", \"png\", \"ps\", \"raw\", \"svg\", \"tif\"];\n",
       "\n",
       "mpl.default_extension = \"png\";var comm_websocket_adapter = function(comm) {\n",
       "    // Create a \"websocket\"-like object which calls the given IPython comm\n",
       "    // object with the appropriate methods. Currently this is a non binary\n",
       "    // socket, so there is still some room for performance tuning.\n",
       "    var ws = {};\n",
       "\n",
       "    ws.close = function() {\n",
       "        comm.close()\n",
       "    };\n",
       "    ws.send = function(m) {\n",
       "        //console.log('sending', m);\n",
       "        comm.send(m);\n",
       "    };\n",
       "    // Register the callback with on_msg.\n",
       "    comm.on_msg(function(msg) {\n",
       "        //console.log('receiving', msg['content']['data'], msg);\n",
       "        // Pass the mpl event to the overridden (by mpl) onmessage function.\n",
       "        ws.onmessage(msg['content']['data'])\n",
       "    });\n",
       "    return ws;\n",
       "}\n",
       "\n",
       "mpl.mpl_figure_comm = function(comm, msg) {\n",
       "    // This is the function which gets called when the mpl process\n",
       "    // starts-up an IPython Comm through the \"matplotlib\" channel.\n",
       "\n",
       "    var id = msg.content.data.id;\n",
       "    // Get hold of the div created by the display call when the Comm\n",
       "    // socket was opened in Python.\n",
       "    var element = $(\"#\" + id);\n",
       "    var ws_proxy = comm_websocket_adapter(comm)\n",
       "\n",
       "    function ondownload(figure, format) {\n",
       "        window.open(figure.imageObj.src);\n",
       "    }\n",
       "\n",
       "    var fig = new mpl.figure(id, ws_proxy,\n",
       "                           ondownload,\n",
       "                           element.get(0));\n",
       "\n",
       "    // Call onopen now - mpl needs it, as it is assuming we've passed it a real\n",
       "    // web socket which is closed, not our websocket->open comm proxy.\n",
       "    ws_proxy.onopen();\n",
       "\n",
       "    fig.parent_element = element.get(0);\n",
       "    fig.cell_info = mpl.find_output_cell(\"<div id='\" + id + \"'></div>\");\n",
       "    if (!fig.cell_info) {\n",
       "        console.error(\"Failed to find cell for figure\", id, fig);\n",
       "        return;\n",
       "    }\n",
       "\n",
       "    var output_index = fig.cell_info[2]\n",
       "    var cell = fig.cell_info[0];\n",
       "\n",
       "};\n",
       "\n",
       "mpl.figure.prototype.handle_close = function(fig, msg) {\n",
       "    var width = fig.canvas.width/mpl.ratio\n",
       "    fig.root.unbind('remove')\n",
       "\n",
       "    // Update the output cell to use the data from the current canvas.\n",
       "    fig.push_to_output();\n",
       "    var dataURL = fig.canvas.toDataURL();\n",
       "    // Re-enable the keyboard manager in IPython - without this line, in FF,\n",
       "    // the notebook keyboard shortcuts fail.\n",
       "    IPython.keyboard_manager.enable()\n",
       "    $(fig.parent_element).html('<img src=\"' + dataURL + '\" width=\"' + width + '\">');\n",
       "    fig.close_ws(fig, msg);\n",
       "}\n",
       "\n",
       "mpl.figure.prototype.close_ws = function(fig, msg){\n",
       "    fig.send_message('closing', msg);\n",
       "    // fig.ws.close()\n",
       "}\n",
       "\n",
       "mpl.figure.prototype.push_to_output = function(remove_interactive) {\n",
       "    // Turn the data on the canvas into data in the output cell.\n",
       "    var width = this.canvas.width/mpl.ratio\n",
       "    var dataURL = this.canvas.toDataURL();\n",
       "    this.cell_info[1]['text/html'] = '<img src=\"' + dataURL + '\" width=\"' + width + '\">';\n",
       "}\n",
       "\n",
       "mpl.figure.prototype.updated_canvas_event = function() {\n",
       "    // Tell IPython that the notebook contents must change.\n",
       "    IPython.notebook.set_dirty(true);\n",
       "    this.send_message(\"ack\", {});\n",
       "    var fig = this;\n",
       "    // Wait a second, then push the new image to the DOM so\n",
       "    // that it is saved nicely (might be nice to debounce this).\n",
       "    setTimeout(function () { fig.push_to_output() }, 1000);\n",
       "}\n",
       "\n",
       "mpl.figure.prototype._init_toolbar = function() {\n",
       "    var fig = this;\n",
       "\n",
       "    var nav_element = $('<div/>')\n",
       "    nav_element.attr('style', 'width: 100%');\n",
       "    this.root.append(nav_element);\n",
       "\n",
       "    // Define a callback function for later on.\n",
       "    function toolbar_event(event) {\n",
       "        return fig.toolbar_button_onclick(event['data']);\n",
       "    }\n",
       "    function toolbar_mouse_event(event) {\n",
       "        return fig.toolbar_button_onmouseover(event['data']);\n",
       "    }\n",
       "\n",
       "    for(var toolbar_ind in mpl.toolbar_items){\n",
       "        var name = mpl.toolbar_items[toolbar_ind][0];\n",
       "        var tooltip = mpl.toolbar_items[toolbar_ind][1];\n",
       "        var image = mpl.toolbar_items[toolbar_ind][2];\n",
       "        var method_name = mpl.toolbar_items[toolbar_ind][3];\n",
       "\n",
       "        if (!name) { continue; };\n",
       "\n",
       "        var button = $('<button class=\"btn btn-default\" href=\"#\" title=\"' + name + '\"><i class=\"fa ' + image + ' fa-lg\"></i></button>');\n",
       "        button.click(method_name, toolbar_event);\n",
       "        button.mouseover(tooltip, toolbar_mouse_event);\n",
       "        nav_element.append(button);\n",
       "    }\n",
       "\n",
       "    // Add the status bar.\n",
       "    var status_bar = $('<span class=\"mpl-message\" style=\"text-align:right; float: right;\"/>');\n",
       "    nav_element.append(status_bar);\n",
       "    this.message = status_bar[0];\n",
       "\n",
       "    // Add the close button to the window.\n",
       "    var buttongrp = $('<div class=\"btn-group inline pull-right\"></div>');\n",
       "    var button = $('<button class=\"btn btn-mini btn-primary\" href=\"#\" title=\"Stop Interaction\"><i class=\"fa fa-power-off icon-remove icon-large\"></i></button>');\n",
       "    button.click(function (evt) { fig.handle_close(fig, {}); } );\n",
       "    button.mouseover('Stop Interaction', toolbar_mouse_event);\n",
       "    buttongrp.append(button);\n",
       "    var titlebar = this.root.find($('.ui-dialog-titlebar'));\n",
       "    titlebar.prepend(buttongrp);\n",
       "}\n",
       "\n",
       "mpl.figure.prototype._root_extra_style = function(el){\n",
       "    var fig = this\n",
       "    el.on(\"remove\", function(){\n",
       "\tfig.close_ws(fig, {});\n",
       "    });\n",
       "}\n",
       "\n",
       "mpl.figure.prototype._canvas_extra_style = function(el){\n",
       "    // this is important to make the div 'focusable\n",
       "    el.attr('tabindex', 0)\n",
       "    // reach out to IPython and tell the keyboard manager to turn it's self\n",
       "    // off when our div gets focus\n",
       "\n",
       "    // location in version 3\n",
       "    if (IPython.notebook.keyboard_manager) {\n",
       "        IPython.notebook.keyboard_manager.register_events(el);\n",
       "    }\n",
       "    else {\n",
       "        // location in version 2\n",
       "        IPython.keyboard_manager.register_events(el);\n",
       "    }\n",
       "\n",
       "}\n",
       "\n",
       "mpl.figure.prototype._key_event_extra = function(event, name) {\n",
       "    var manager = IPython.notebook.keyboard_manager;\n",
       "    if (!manager)\n",
       "        manager = IPython.keyboard_manager;\n",
       "\n",
       "    // Check for shift+enter\n",
       "    if (event.shiftKey && event.which == 13) {\n",
       "        this.canvas_div.blur();\n",
       "        event.shiftKey = false;\n",
       "        // Send a \"J\" for go to next cell\n",
       "        event.which = 74;\n",
       "        event.keyCode = 74;\n",
       "        manager.command_mode();\n",
       "        manager.handle_keydown(event);\n",
       "    }\n",
       "}\n",
       "\n",
       "mpl.figure.prototype.handle_save = function(fig, msg) {\n",
       "    fig.ondownload(fig, null);\n",
       "}\n",
       "\n",
       "\n",
       "mpl.find_output_cell = function(html_output) {\n",
       "    // Return the cell and output element which can be found *uniquely* in the notebook.\n",
       "    // Note - this is a bit hacky, but it is done because the \"notebook_saving.Notebook\"\n",
       "    // IPython event is triggered only after the cells have been serialised, which for\n",
       "    // our purposes (turning an active figure into a static one), is too late.\n",
       "    var cells = IPython.notebook.get_cells();\n",
       "    var ncells = cells.length;\n",
       "    for (var i=0; i<ncells; i++) {\n",
       "        var cell = cells[i];\n",
       "        if (cell.cell_type === 'code'){\n",
       "            for (var j=0; j<cell.output_area.outputs.length; j++) {\n",
       "                var data = cell.output_area.outputs[j];\n",
       "                if (data.data) {\n",
       "                    // IPython >= 3 moved mimebundle to data attribute of output\n",
       "                    data = data.data;\n",
       "                }\n",
       "                if (data['text/html'] == html_output) {\n",
       "                    return [cell, data, j];\n",
       "                }\n",
       "            }\n",
       "        }\n",
       "    }\n",
       "}\n",
       "\n",
       "// Register the function which deals with the matplotlib target/channel.\n",
       "// The kernel may be null if the page has been refreshed.\n",
       "if (IPython.notebook.kernel != null) {\n",
       "    IPython.notebook.kernel.comm_manager.register_target('matplotlib', mpl.mpl_figure_comm);\n",
       "}\n"
      ],
      "text/plain": [
       "<IPython.core.display.Javascript object>"
      ]
     },
     "metadata": {},
     "output_type": "display_data"
    },
    {
     "data": {
      "text/html": [
       "<img src=\"data:image/png;base64,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\" width=\"639.5657841543434\">"
      ],
      "text/plain": [
       "<IPython.core.display.HTML object>"
      ]
     },
     "metadata": {},
     "output_type": "display_data"
    },
    {
     "data": {
      "application/javascript": [
       "/* Put everything inside the global mpl namespace */\n",
       "window.mpl = {};\n",
       "\n",
       "\n",
       "mpl.get_websocket_type = function() {\n",
       "    if (typeof(WebSocket) !== 'undefined') {\n",
       "        return WebSocket;\n",
       "    } else if (typeof(MozWebSocket) !== 'undefined') {\n",
       "        return MozWebSocket;\n",
       "    } else {\n",
       "        alert('Your browser does not have WebSocket support.' +\n",
       "              'Please try Chrome, Safari or Firefox ≥ 6. ' +\n",
       "              'Firefox 4 and 5 are also supported but you ' +\n",
       "              'have to enable WebSockets in about:config.');\n",
       "    };\n",
       "}\n",
       "\n",
       "mpl.figure = function(figure_id, websocket, ondownload, parent_element) {\n",
       "    this.id = figure_id;\n",
       "\n",
       "    this.ws = websocket;\n",
       "\n",
       "    this.supports_binary = (this.ws.binaryType != undefined);\n",
       "\n",
       "    if (!this.supports_binary) {\n",
       "        var warnings = document.getElementById(\"mpl-warnings\");\n",
       "        if (warnings) {\n",
       "            warnings.style.display = 'block';\n",
       "            warnings.textContent = (\n",
       "                \"This browser does not support binary websocket messages. \" +\n",
       "                    \"Performance may be slow.\");\n",
       "        }\n",
       "    }\n",
       "\n",
       "    this.imageObj = new Image();\n",
       "\n",
       "    this.context = undefined;\n",
       "    this.message = undefined;\n",
       "    this.canvas = undefined;\n",
       "    this.rubberband_canvas = undefined;\n",
       "    this.rubberband_context = undefined;\n",
       "    this.format_dropdown = undefined;\n",
       "\n",
       "    this.image_mode = 'full';\n",
       "\n",
       "    this.root = $('<div/>');\n",
       "    this._root_extra_style(this.root)\n",
       "    this.root.attr('style', 'display: inline-block');\n",
       "\n",
       "    $(parent_element).append(this.root);\n",
       "\n",
       "    this._init_header(this);\n",
       "    this._init_canvas(this);\n",
       "    this._init_toolbar(this);\n",
       "\n",
       "    var fig = this;\n",
       "\n",
       "    this.waiting = false;\n",
       "\n",
       "    this.ws.onopen =  function () {\n",
       "            fig.send_message(\"supports_binary\", {value: fig.supports_binary});\n",
       "            fig.send_message(\"send_image_mode\", {});\n",
       "            if (mpl.ratio != 1) {\n",
       "                fig.send_message(\"set_dpi_ratio\", {'dpi_ratio': mpl.ratio});\n",
       "            }\n",
       "            fig.send_message(\"refresh\", {});\n",
       "        }\n",
       "\n",
       "    this.imageObj.onload = function() {\n",
       "            if (fig.image_mode == 'full') {\n",
       "                // Full images could contain transparency (where diff images\n",
       "                // almost always do), so we need to clear the canvas so that\n",
       "                // there is no ghosting.\n",
       "                fig.context.clearRect(0, 0, fig.canvas.width, fig.canvas.height);\n",
       "            }\n",
       "            fig.context.drawImage(fig.imageObj, 0, 0);\n",
       "        };\n",
       "\n",
       "    this.imageObj.onunload = function() {\n",
       "        fig.ws.close();\n",
       "    }\n",
       "\n",
       "    this.ws.onmessage = this._make_on_message_function(this);\n",
       "\n",
       "    this.ondownload = ondownload;\n",
       "}\n",
       "\n",
       "mpl.figure.prototype._init_header = function() {\n",
       "    var titlebar = $(\n",
       "        '<div class=\"ui-dialog-titlebar ui-widget-header ui-corner-all ' +\n",
       "        'ui-helper-clearfix\"/>');\n",
       "    var titletext = $(\n",
       "        '<div class=\"ui-dialog-title\" style=\"width: 100%; ' +\n",
       "        'text-align: center; padding: 3px;\"/>');\n",
       "    titlebar.append(titletext)\n",
       "    this.root.append(titlebar);\n",
       "    this.header = titletext[0];\n",
       "}\n",
       "\n",
       "\n",
       "\n",
       "mpl.figure.prototype._canvas_extra_style = function(canvas_div) {\n",
       "\n",
       "}\n",
       "\n",
       "\n",
       "mpl.figure.prototype._root_extra_style = function(canvas_div) {\n",
       "\n",
       "}\n",
       "\n",
       "mpl.figure.prototype._init_canvas = function() {\n",
       "    var fig = this;\n",
       "\n",
       "    var canvas_div = $('<div/>');\n",
       "\n",
       "    canvas_div.attr('style', 'position: relative; clear: both; outline: 0');\n",
       "\n",
       "    function canvas_keyboard_event(event) {\n",
       "        return fig.key_event(event, event['data']);\n",
       "    }\n",
       "\n",
       "    canvas_div.keydown('key_press', canvas_keyboard_event);\n",
       "    canvas_div.keyup('key_release', canvas_keyboard_event);\n",
       "    this.canvas_div = canvas_div\n",
       "    this._canvas_extra_style(canvas_div)\n",
       "    this.root.append(canvas_div);\n",
       "\n",
       "    var canvas = $('<canvas/>');\n",
       "    canvas.addClass('mpl-canvas');\n",
       "    canvas.attr('style', \"left: 0; top: 0; z-index: 0; outline: 0\")\n",
       "\n",
       "    this.canvas = canvas[0];\n",
       "    this.context = canvas[0].getContext(\"2d\");\n",
       "\n",
       "    var backingStore = this.context.backingStorePixelRatio ||\n",
       "\tthis.context.webkitBackingStorePixelRatio ||\n",
       "\tthis.context.mozBackingStorePixelRatio ||\n",
       "\tthis.context.msBackingStorePixelRatio ||\n",
       "\tthis.context.oBackingStorePixelRatio ||\n",
       "\tthis.context.backingStorePixelRatio || 1;\n",
       "\n",
       "    mpl.ratio = (window.devicePixelRatio || 1) / backingStore;\n",
       "\n",
       "    var rubberband = $('<canvas/>');\n",
       "    rubberband.attr('style', \"position: absolute; left: 0; top: 0; z-index: 1;\")\n",
       "\n",
       "    var pass_mouse_events = true;\n",
       "\n",
       "    canvas_div.resizable({\n",
       "        start: function(event, ui) {\n",
       "            pass_mouse_events = false;\n",
       "        },\n",
       "        resize: function(event, ui) {\n",
       "            fig.request_resize(ui.size.width, ui.size.height);\n",
       "        },\n",
       "        stop: function(event, ui) {\n",
       "            pass_mouse_events = true;\n",
       "            fig.request_resize(ui.size.width, ui.size.height);\n",
       "        },\n",
       "    });\n",
       "\n",
       "    function mouse_event_fn(event) {\n",
       "        if (pass_mouse_events)\n",
       "            return fig.mouse_event(event, event['data']);\n",
       "    }\n",
       "\n",
       "    rubberband.mousedown('button_press', mouse_event_fn);\n",
       "    rubberband.mouseup('button_release', mouse_event_fn);\n",
       "    // Throttle sequential mouse events to 1 every 20ms.\n",
       "    rubberband.mousemove('motion_notify', mouse_event_fn);\n",
       "\n",
       "    rubberband.mouseenter('figure_enter', mouse_event_fn);\n",
       "    rubberband.mouseleave('figure_leave', mouse_event_fn);\n",
       "\n",
       "    canvas_div.on(\"wheel\", function (event) {\n",
       "        event = event.originalEvent;\n",
       "        event['data'] = 'scroll'\n",
       "        if (event.deltaY < 0) {\n",
       "            event.step = 1;\n",
       "        } else {\n",
       "            event.step = -1;\n",
       "        }\n",
       "        mouse_event_fn(event);\n",
       "    });\n",
       "\n",
       "    canvas_div.append(canvas);\n",
       "    canvas_div.append(rubberband);\n",
       "\n",
       "    this.rubberband = rubberband;\n",
       "    this.rubberband_canvas = rubberband[0];\n",
       "    this.rubberband_context = rubberband[0].getContext(\"2d\");\n",
       "    this.rubberband_context.strokeStyle = \"#000000\";\n",
       "\n",
       "    this._resize_canvas = function(width, height) {\n",
       "        // Keep the size of the canvas, canvas container, and rubber band\n",
       "        // canvas in synch.\n",
       "        canvas_div.css('width', width)\n",
       "        canvas_div.css('height', height)\n",
       "\n",
       "        canvas.attr('width', width * mpl.ratio);\n",
       "        canvas.attr('height', height * mpl.ratio);\n",
       "        canvas.attr('style', 'width: ' + width + 'px; height: ' + height + 'px;');\n",
       "\n",
       "        rubberband.attr('width', width);\n",
       "        rubberband.attr('height', height);\n",
       "    }\n",
       "\n",
       "    // Set the figure to an initial 600x600px, this will subsequently be updated\n",
       "    // upon first draw.\n",
       "    this._resize_canvas(600, 600);\n",
       "\n",
       "    // Disable right mouse context menu.\n",
       "    $(this.rubberband_canvas).bind(\"contextmenu\",function(e){\n",
       "        return false;\n",
       "    });\n",
       "\n",
       "    function set_focus () {\n",
       "        canvas.focus();\n",
       "        canvas_div.focus();\n",
       "    }\n",
       "\n",
       "    window.setTimeout(set_focus, 100);\n",
       "}\n",
       "\n",
       "mpl.figure.prototype._init_toolbar = function() {\n",
       "    var fig = this;\n",
       "\n",
       "    var nav_element = $('<div/>')\n",
       "    nav_element.attr('style', 'width: 100%');\n",
       "    this.root.append(nav_element);\n",
       "\n",
       "    // Define a callback function for later on.\n",
       "    function toolbar_event(event) {\n",
       "        return fig.toolbar_button_onclick(event['data']);\n",
       "    }\n",
       "    function toolbar_mouse_event(event) {\n",
       "        return fig.toolbar_button_onmouseover(event['data']);\n",
       "    }\n",
       "\n",
       "    for(var toolbar_ind in mpl.toolbar_items) {\n",
       "        var name = mpl.toolbar_items[toolbar_ind][0];\n",
       "        var tooltip = mpl.toolbar_items[toolbar_ind][1];\n",
       "        var image = mpl.toolbar_items[toolbar_ind][2];\n",
       "        var method_name = mpl.toolbar_items[toolbar_ind][3];\n",
       "\n",
       "        if (!name) {\n",
       "            // put a spacer in here.\n",
       "            continue;\n",
       "        }\n",
       "        var button = $('<button/>');\n",
       "        button.addClass('ui-button ui-widget ui-state-default ui-corner-all ' +\n",
       "                        'ui-button-icon-only');\n",
       "        button.attr('role', 'button');\n",
       "        button.attr('aria-disabled', 'false');\n",
       "        button.click(method_name, toolbar_event);\n",
       "        button.mouseover(tooltip, toolbar_mouse_event);\n",
       "\n",
       "        var icon_img = $('<span/>');\n",
       "        icon_img.addClass('ui-button-icon-primary ui-icon');\n",
       "        icon_img.addClass(image);\n",
       "        icon_img.addClass('ui-corner-all');\n",
       "\n",
       "        var tooltip_span = $('<span/>');\n",
       "        tooltip_span.addClass('ui-button-text');\n",
       "        tooltip_span.html(tooltip);\n",
       "\n",
       "        button.append(icon_img);\n",
       "        button.append(tooltip_span);\n",
       "\n",
       "        nav_element.append(button);\n",
       "    }\n",
       "\n",
       "    var fmt_picker_span = $('<span/>');\n",
       "\n",
       "    var fmt_picker = $('<select/>');\n",
       "    fmt_picker.addClass('mpl-toolbar-option ui-widget ui-widget-content');\n",
       "    fmt_picker_span.append(fmt_picker);\n",
       "    nav_element.append(fmt_picker_span);\n",
       "    this.format_dropdown = fmt_picker[0];\n",
       "\n",
       "    for (var ind in mpl.extensions) {\n",
       "        var fmt = mpl.extensions[ind];\n",
       "        var option = $(\n",
       "            '<option/>', {selected: fmt === mpl.default_extension}).html(fmt);\n",
       "        fmt_picker.append(option)\n",
       "    }\n",
       "\n",
       "    // Add hover states to the ui-buttons\n",
       "    $( \".ui-button\" ).hover(\n",
       "        function() { $(this).addClass(\"ui-state-hover\");},\n",
       "        function() { $(this).removeClass(\"ui-state-hover\");}\n",
       "    );\n",
       "\n",
       "    var status_bar = $('<span class=\"mpl-message\"/>');\n",
       "    nav_element.append(status_bar);\n",
       "    this.message = status_bar[0];\n",
       "}\n",
       "\n",
       "mpl.figure.prototype.request_resize = function(x_pixels, y_pixels) {\n",
       "    // Request matplotlib to resize the figure. Matplotlib will then trigger a resize in the client,\n",
       "    // which will in turn request a refresh of the image.\n",
       "    this.send_message('resize', {'width': x_pixels, 'height': y_pixels});\n",
       "}\n",
       "\n",
       "mpl.figure.prototype.send_message = function(type, properties) {\n",
       "    properties['type'] = type;\n",
       "    properties['figure_id'] = this.id;\n",
       "    this.ws.send(JSON.stringify(properties));\n",
       "}\n",
       "\n",
       "mpl.figure.prototype.send_draw_message = function() {\n",
       "    if (!this.waiting) {\n",
       "        this.waiting = true;\n",
       "        this.ws.send(JSON.stringify({type: \"draw\", figure_id: this.id}));\n",
       "    }\n",
       "}\n",
       "\n",
       "\n",
       "mpl.figure.prototype.handle_save = function(fig, msg) {\n",
       "    var format_dropdown = fig.format_dropdown;\n",
       "    var format = format_dropdown.options[format_dropdown.selectedIndex].value;\n",
       "    fig.ondownload(fig, format);\n",
       "}\n",
       "\n",
       "\n",
       "mpl.figure.prototype.handle_resize = function(fig, msg) {\n",
       "    var size = msg['size'];\n",
       "    if (size[0] != fig.canvas.width || size[1] != fig.canvas.height) {\n",
       "        fig._resize_canvas(size[0], size[1]);\n",
       "        fig.send_message(\"refresh\", {});\n",
       "    };\n",
       "}\n",
       "\n",
       "mpl.figure.prototype.handle_rubberband = function(fig, msg) {\n",
       "    var x0 = msg['x0'] / mpl.ratio;\n",
       "    var y0 = (fig.canvas.height - msg['y0']) / mpl.ratio;\n",
       "    var x1 = msg['x1'] / mpl.ratio;\n",
       "    var y1 = (fig.canvas.height - msg['y1']) / mpl.ratio;\n",
       "    x0 = Math.floor(x0) + 0.5;\n",
       "    y0 = Math.floor(y0) + 0.5;\n",
       "    x1 = Math.floor(x1) + 0.5;\n",
       "    y1 = Math.floor(y1) + 0.5;\n",
       "    var min_x = Math.min(x0, x1);\n",
       "    var min_y = Math.min(y0, y1);\n",
       "    var width = Math.abs(x1 - x0);\n",
       "    var height = Math.abs(y1 - y0);\n",
       "\n",
       "    fig.rubberband_context.clearRect(\n",
       "        0, 0, fig.canvas.width, fig.canvas.height);\n",
       "\n",
       "    fig.rubberband_context.strokeRect(min_x, min_y, width, height);\n",
       "}\n",
       "\n",
       "mpl.figure.prototype.handle_figure_label = function(fig, msg) {\n",
       "    // Updates the figure title.\n",
       "    fig.header.textContent = msg['label'];\n",
       "}\n",
       "\n",
       "mpl.figure.prototype.handle_cursor = function(fig, msg) {\n",
       "    var cursor = msg['cursor'];\n",
       "    switch(cursor)\n",
       "    {\n",
       "    case 0:\n",
       "        cursor = 'pointer';\n",
       "        break;\n",
       "    case 1:\n",
       "        cursor = 'default';\n",
       "        break;\n",
       "    case 2:\n",
       "        cursor = 'crosshair';\n",
       "        break;\n",
       "    case 3:\n",
       "        cursor = 'move';\n",
       "        break;\n",
       "    }\n",
       "    fig.rubberband_canvas.style.cursor = cursor;\n",
       "}\n",
       "\n",
       "mpl.figure.prototype.handle_message = function(fig, msg) {\n",
       "    fig.message.textContent = msg['message'];\n",
       "}\n",
       "\n",
       "mpl.figure.prototype.handle_draw = function(fig, msg) {\n",
       "    // Request the server to send over a new figure.\n",
       "    fig.send_draw_message();\n",
       "}\n",
       "\n",
       "mpl.figure.prototype.handle_image_mode = function(fig, msg) {\n",
       "    fig.image_mode = msg['mode'];\n",
       "}\n",
       "\n",
       "mpl.figure.prototype.updated_canvas_event = function() {\n",
       "    // Called whenever the canvas gets updated.\n",
       "    this.send_message(\"ack\", {});\n",
       "}\n",
       "\n",
       "// A function to construct a web socket function for onmessage handling.\n",
       "// Called in the figure constructor.\n",
       "mpl.figure.prototype._make_on_message_function = function(fig) {\n",
       "    return function socket_on_message(evt) {\n",
       "        if (evt.data instanceof Blob) {\n",
       "            /* FIXME: We get \"Resource interpreted as Image but\n",
       "             * transferred with MIME type text/plain:\" errors on\n",
       "             * Chrome.  But how to set the MIME type?  It doesn't seem\n",
       "             * to be part of the websocket stream */\n",
       "            evt.data.type = \"image/png\";\n",
       "\n",
       "            /* Free the memory for the previous frames */\n",
       "            if (fig.imageObj.src) {\n",
       "                (window.URL || window.webkitURL).revokeObjectURL(\n",
       "                    fig.imageObj.src);\n",
       "            }\n",
       "\n",
       "            fig.imageObj.src = (window.URL || window.webkitURL).createObjectURL(\n",
       "                evt.data);\n",
       "            fig.updated_canvas_event();\n",
       "            fig.waiting = false;\n",
       "            return;\n",
       "        }\n",
       "        else if (typeof evt.data === 'string' && evt.data.slice(0, 21) == \"data:image/png;base64\") {\n",
       "            fig.imageObj.src = evt.data;\n",
       "            fig.updated_canvas_event();\n",
       "            fig.waiting = false;\n",
       "            return;\n",
       "        }\n",
       "\n",
       "        var msg = JSON.parse(evt.data);\n",
       "        var msg_type = msg['type'];\n",
       "\n",
       "        // Call the  \"handle_{type}\" callback, which takes\n",
       "        // the figure and JSON message as its only arguments.\n",
       "        try {\n",
       "            var callback = fig[\"handle_\" + msg_type];\n",
       "        } catch (e) {\n",
       "            console.log(\"No handler for the '\" + msg_type + \"' message type: \", msg);\n",
       "            return;\n",
       "        }\n",
       "\n",
       "        if (callback) {\n",
       "            try {\n",
       "                // console.log(\"Handling '\" + msg_type + \"' message: \", msg);\n",
       "                callback(fig, msg);\n",
       "            } catch (e) {\n",
       "                console.log(\"Exception inside the 'handler_\" + msg_type + \"' callback:\", e, e.stack, msg);\n",
       "            }\n",
       "        }\n",
       "    };\n",
       "}\n",
       "\n",
       "// from http://stackoverflow.com/questions/1114465/getting-mouse-location-in-canvas\n",
       "mpl.findpos = function(e) {\n",
       "    //this section is from http://www.quirksmode.org/js/events_properties.html\n",
       "    var targ;\n",
       "    if (!e)\n",
       "        e = window.event;\n",
       "    if (e.target)\n",
       "        targ = e.target;\n",
       "    else if (e.srcElement)\n",
       "        targ = e.srcElement;\n",
       "    if (targ.nodeType == 3) // defeat Safari bug\n",
       "        targ = targ.parentNode;\n",
       "\n",
       "    // jQuery normalizes the pageX and pageY\n",
       "    // pageX,Y are the mouse positions relative to the document\n",
       "    // offset() returns the position of the element relative to the document\n",
       "    var x = e.pageX - $(targ).offset().left;\n",
       "    var y = e.pageY - $(targ).offset().top;\n",
       "\n",
       "    return {\"x\": x, \"y\": y};\n",
       "};\n",
       "\n",
       "/*\n",
       " * return a copy of an object with only non-object keys\n",
       " * we need this to avoid circular references\n",
       " * http://stackoverflow.com/a/24161582/3208463\n",
       " */\n",
       "function simpleKeys (original) {\n",
       "  return Object.keys(original).reduce(function (obj, key) {\n",
       "    if (typeof original[key] !== 'object')\n",
       "        obj[key] = original[key]\n",
       "    return obj;\n",
       "  }, {});\n",
       "}\n",
       "\n",
       "mpl.figure.prototype.mouse_event = function(event, name) {\n",
       "    var canvas_pos = mpl.findpos(event)\n",
       "\n",
       "    if (name === 'button_press')\n",
       "    {\n",
       "        this.canvas.focus();\n",
       "        this.canvas_div.focus();\n",
       "    }\n",
       "\n",
       "    var x = canvas_pos.x * mpl.ratio;\n",
       "    var y = canvas_pos.y * mpl.ratio;\n",
       "\n",
       "    this.send_message(name, {x: x, y: y, button: event.button,\n",
       "                             step: event.step,\n",
       "                             guiEvent: simpleKeys(event)});\n",
       "\n",
       "    /* This prevents the web browser from automatically changing to\n",
       "     * the text insertion cursor when the button is pressed.  We want\n",
       "     * to control all of the cursor setting manually through the\n",
       "     * 'cursor' event from matplotlib */\n",
       "    event.preventDefault();\n",
       "    return false;\n",
       "}\n",
       "\n",
       "mpl.figure.prototype._key_event_extra = function(event, name) {\n",
       "    // Handle any extra behaviour associated with a key event\n",
       "}\n",
       "\n",
       "mpl.figure.prototype.key_event = function(event, name) {\n",
       "\n",
       "    // Prevent repeat events\n",
       "    if (name == 'key_press')\n",
       "    {\n",
       "        if (event.which === this._key)\n",
       "            return;\n",
       "        else\n",
       "            this._key = event.which;\n",
       "    }\n",
       "    if (name == 'key_release')\n",
       "        this._key = null;\n",
       "\n",
       "    var value = '';\n",
       "    if (event.ctrlKey && event.which != 17)\n",
       "        value += \"ctrl+\";\n",
       "    if (event.altKey && event.which != 18)\n",
       "        value += \"alt+\";\n",
       "    if (event.shiftKey && event.which != 16)\n",
       "        value += \"shift+\";\n",
       "\n",
       "    value += 'k';\n",
       "    value += event.which.toString();\n",
       "\n",
       "    this._key_event_extra(event, name);\n",
       "\n",
       "    this.send_message(name, {key: value,\n",
       "                             guiEvent: simpleKeys(event)});\n",
       "    return false;\n",
       "}\n",
       "\n",
       "mpl.figure.prototype.toolbar_button_onclick = function(name) {\n",
       "    if (name == 'download') {\n",
       "        this.handle_save(this, null);\n",
       "    } else {\n",
       "        this.send_message(\"toolbar_button\", {name: name});\n",
       "    }\n",
       "};\n",
       "\n",
       "mpl.figure.prototype.toolbar_button_onmouseover = function(tooltip) {\n",
       "    this.message.textContent = tooltip;\n",
       "};\n",
       "mpl.toolbar_items = [[\"Home\", \"Reset original view\", \"fa fa-home icon-home\", \"home\"], [\"Back\", \"Back to previous view\", \"fa fa-arrow-left icon-arrow-left\", \"back\"], [\"Forward\", \"Forward to next view\", \"fa fa-arrow-right icon-arrow-right\", \"forward\"], [\"\", \"\", \"\", \"\"], [\"Pan\", \"Pan axes with left mouse, zoom with right\", \"fa fa-arrows icon-move\", \"pan\"], [\"Zoom\", \"Zoom to rectangle\", \"fa fa-square-o icon-check-empty\", \"zoom\"], [\"\", \"\", \"\", \"\"], [\"Download\", \"Download plot\", \"fa fa-floppy-o icon-save\", \"download\"]];\n",
       "\n",
       "mpl.extensions = [\"eps\", \"jpeg\", \"pdf\", \"png\", \"ps\", \"raw\", \"svg\", \"tif\"];\n",
       "\n",
       "mpl.default_extension = \"png\";var comm_websocket_adapter = function(comm) {\n",
       "    // Create a \"websocket\"-like object which calls the given IPython comm\n",
       "    // object with the appropriate methods. Currently this is a non binary\n",
       "    // socket, so there is still some room for performance tuning.\n",
       "    var ws = {};\n",
       "\n",
       "    ws.close = function() {\n",
       "        comm.close()\n",
       "    };\n",
       "    ws.send = function(m) {\n",
       "        //console.log('sending', m);\n",
       "        comm.send(m);\n",
       "    };\n",
       "    // Register the callback with on_msg.\n",
       "    comm.on_msg(function(msg) {\n",
       "        //console.log('receiving', msg['content']['data'], msg);\n",
       "        // Pass the mpl event to the overridden (by mpl) onmessage function.\n",
       "        ws.onmessage(msg['content']['data'])\n",
       "    });\n",
       "    return ws;\n",
       "}\n",
       "\n",
       "mpl.mpl_figure_comm = function(comm, msg) {\n",
       "    // This is the function which gets called when the mpl process\n",
       "    // starts-up an IPython Comm through the \"matplotlib\" channel.\n",
       "\n",
       "    var id = msg.content.data.id;\n",
       "    // Get hold of the div created by the display call when the Comm\n",
       "    // socket was opened in Python.\n",
       "    var element = $(\"#\" + id);\n",
       "    var ws_proxy = comm_websocket_adapter(comm)\n",
       "\n",
       "    function ondownload(figure, format) {\n",
       "        window.open(figure.imageObj.src);\n",
       "    }\n",
       "\n",
       "    var fig = new mpl.figure(id, ws_proxy,\n",
       "                           ondownload,\n",
       "                           element.get(0));\n",
       "\n",
       "    // Call onopen now - mpl needs it, as it is assuming we've passed it a real\n",
       "    // web socket which is closed, not our websocket->open comm proxy.\n",
       "    ws_proxy.onopen();\n",
       "\n",
       "    fig.parent_element = element.get(0);\n",
       "    fig.cell_info = mpl.find_output_cell(\"<div id='\" + id + \"'></div>\");\n",
       "    if (!fig.cell_info) {\n",
       "        console.error(\"Failed to find cell for figure\", id, fig);\n",
       "        return;\n",
       "    }\n",
       "\n",
       "    var output_index = fig.cell_info[2]\n",
       "    var cell = fig.cell_info[0];\n",
       "\n",
       "};\n",
       "\n",
       "mpl.figure.prototype.handle_close = function(fig, msg) {\n",
       "    var width = fig.canvas.width/mpl.ratio\n",
       "    fig.root.unbind('remove')\n",
       "\n",
       "    // Update the output cell to use the data from the current canvas.\n",
       "    fig.push_to_output();\n",
       "    var dataURL = fig.canvas.toDataURL();\n",
       "    // Re-enable the keyboard manager in IPython - without this line, in FF,\n",
       "    // the notebook keyboard shortcuts fail.\n",
       "    IPython.keyboard_manager.enable()\n",
       "    $(fig.parent_element).html('<img src=\"' + dataURL + '\" width=\"' + width + '\">');\n",
       "    fig.close_ws(fig, msg);\n",
       "}\n",
       "\n",
       "mpl.figure.prototype.close_ws = function(fig, msg){\n",
       "    fig.send_message('closing', msg);\n",
       "    // fig.ws.close()\n",
       "}\n",
       "\n",
       "mpl.figure.prototype.push_to_output = function(remove_interactive) {\n",
       "    // Turn the data on the canvas into data in the output cell.\n",
       "    var width = this.canvas.width/mpl.ratio\n",
       "    var dataURL = this.canvas.toDataURL();\n",
       "    this.cell_info[1]['text/html'] = '<img src=\"' + dataURL + '\" width=\"' + width + '\">';\n",
       "}\n",
       "\n",
       "mpl.figure.prototype.updated_canvas_event = function() {\n",
       "    // Tell IPython that the notebook contents must change.\n",
       "    IPython.notebook.set_dirty(true);\n",
       "    this.send_message(\"ack\", {});\n",
       "    var fig = this;\n",
       "    // Wait a second, then push the new image to the DOM so\n",
       "    // that it is saved nicely (might be nice to debounce this).\n",
       "    setTimeout(function () { fig.push_to_output() }, 1000);\n",
       "}\n",
       "\n",
       "mpl.figure.prototype._init_toolbar = function() {\n",
       "    var fig = this;\n",
       "\n",
       "    var nav_element = $('<div/>')\n",
       "    nav_element.attr('style', 'width: 100%');\n",
       "    this.root.append(nav_element);\n",
       "\n",
       "    // Define a callback function for later on.\n",
       "    function toolbar_event(event) {\n",
       "        return fig.toolbar_button_onclick(event['data']);\n",
       "    }\n",
       "    function toolbar_mouse_event(event) {\n",
       "        return fig.toolbar_button_onmouseover(event['data']);\n",
       "    }\n",
       "\n",
       "    for(var toolbar_ind in mpl.toolbar_items){\n",
       "        var name = mpl.toolbar_items[toolbar_ind][0];\n",
       "        var tooltip = mpl.toolbar_items[toolbar_ind][1];\n",
       "        var image = mpl.toolbar_items[toolbar_ind][2];\n",
       "        var method_name = mpl.toolbar_items[toolbar_ind][3];\n",
       "\n",
       "        if (!name) { continue; };\n",
       "\n",
       "        var button = $('<button class=\"btn btn-default\" href=\"#\" title=\"' + name + '\"><i class=\"fa ' + image + ' fa-lg\"></i></button>');\n",
       "        button.click(method_name, toolbar_event);\n",
       "        button.mouseover(tooltip, toolbar_mouse_event);\n",
       "        nav_element.append(button);\n",
       "    }\n",
       "\n",
       "    // Add the status bar.\n",
       "    var status_bar = $('<span class=\"mpl-message\" style=\"text-align:right; float: right;\"/>');\n",
       "    nav_element.append(status_bar);\n",
       "    this.message = status_bar[0];\n",
       "\n",
       "    // Add the close button to the window.\n",
       "    var buttongrp = $('<div class=\"btn-group inline pull-right\"></div>');\n",
       "    var button = $('<button class=\"btn btn-mini btn-primary\" href=\"#\" title=\"Stop Interaction\"><i class=\"fa fa-power-off icon-remove icon-large\"></i></button>');\n",
       "    button.click(function (evt) { fig.handle_close(fig, {}); } );\n",
       "    button.mouseover('Stop Interaction', toolbar_mouse_event);\n",
       "    buttongrp.append(button);\n",
       "    var titlebar = this.root.find($('.ui-dialog-titlebar'));\n",
       "    titlebar.prepend(buttongrp);\n",
       "}\n",
       "\n",
       "mpl.figure.prototype._root_extra_style = function(el){\n",
       "    var fig = this\n",
       "    el.on(\"remove\", function(){\n",
       "\tfig.close_ws(fig, {});\n",
       "    });\n",
       "}\n",
       "\n",
       "mpl.figure.prototype._canvas_extra_style = function(el){\n",
       "    // this is important to make the div 'focusable\n",
       "    el.attr('tabindex', 0)\n",
       "    // reach out to IPython and tell the keyboard manager to turn it's self\n",
       "    // off when our div gets focus\n",
       "\n",
       "    // location in version 3\n",
       "    if (IPython.notebook.keyboard_manager) {\n",
       "        IPython.notebook.keyboard_manager.register_events(el);\n",
       "    }\n",
       "    else {\n",
       "        // location in version 2\n",
       "        IPython.keyboard_manager.register_events(el);\n",
       "    }\n",
       "\n",
       "}\n",
       "\n",
       "mpl.figure.prototype._key_event_extra = function(event, name) {\n",
       "    var manager = IPython.notebook.keyboard_manager;\n",
       "    if (!manager)\n",
       "        manager = IPython.keyboard_manager;\n",
       "\n",
       "    // Check for shift+enter\n",
       "    if (event.shiftKey && event.which == 13) {\n",
       "        this.canvas_div.blur();\n",
       "        event.shiftKey = false;\n",
       "        // Send a \"J\" for go to next cell\n",
       "        event.which = 74;\n",
       "        event.keyCode = 74;\n",
       "        manager.command_mode();\n",
       "        manager.handle_keydown(event);\n",
       "    }\n",
       "}\n",
       "\n",
       "mpl.figure.prototype.handle_save = function(fig, msg) {\n",
       "    fig.ondownload(fig, null);\n",
       "}\n",
       "\n",
       "\n",
       "mpl.find_output_cell = function(html_output) {\n",
       "    // Return the cell and output element which can be found *uniquely* in the notebook.\n",
       "    // Note - this is a bit hacky, but it is done because the \"notebook_saving.Notebook\"\n",
       "    // IPython event is triggered only after the cells have been serialised, which for\n",
       "    // our purposes (turning an active figure into a static one), is too late.\n",
       "    var cells = IPython.notebook.get_cells();\n",
       "    var ncells = cells.length;\n",
       "    for (var i=0; i<ncells; i++) {\n",
       "        var cell = cells[i];\n",
       "        if (cell.cell_type === 'code'){\n",
       "            for (var j=0; j<cell.output_area.outputs.length; j++) {\n",
       "                var data = cell.output_area.outputs[j];\n",
       "                if (data.data) {\n",
       "                    // IPython >= 3 moved mimebundle to data attribute of output\n",
       "                    data = data.data;\n",
       "                }\n",
       "                if (data['text/html'] == html_output) {\n",
       "                    return [cell, data, j];\n",
       "                }\n",
       "            }\n",
       "        }\n",
       "    }\n",
       "}\n",
       "\n",
       "// Register the function which deals with the matplotlib target/channel.\n",
       "// The kernel may be null if the page has been refreshed.\n",
       "if (IPython.notebook.kernel != null) {\n",
       "    IPython.notebook.kernel.comm_manager.register_target('matplotlib', mpl.mpl_figure_comm);\n",
       "}\n"
      ],
      "text/plain": [
       "<IPython.core.display.Javascript object>"
      ]
     },
     "metadata": {},
     "output_type": "display_data"
    },
    {
     "data": {
      "text/html": [
       "<img src=\"data:image/png;base64,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\" width=\"639.5657841543434\">"
      ],
      "text/plain": [
       "<IPython.core.display.HTML object>"
      ]
     },
     "metadata": {},
     "output_type": "display_data"
    }
   ],
   "source": [
    "%matplotlib notebook\n",
    "ns.runplot(5000, ns.monitorind([40,40,20]));"
   ]
  },
  {
   "cell_type": "code",
   "execution_count": 10,
   "metadata": {},
   "outputs": [],
   "source": [
    "from matplotlib import pyplot as plt\n",
    "plt.savefig('plot2.png', dpi=1000)"
   ]
  },
  {
   "cell_type": "code",
   "execution_count": 21,
   "metadata": {},
   "outputs": [],
   "source": [
    "from populations import Striatum\n",
    "Striatum.CW[2,2] = -9."
   ]
  },
  {
   "cell_type": "code",
   "execution_count": 23,
   "metadata": {},
   "outputs": [
    {
     "data": {
      "application/vnd.jupyter.widget-view+json": {
       "model_id": "44e95bf1cf9945c6a2f2f515a494cdf2",
       "version_major": 2,
       "version_minor": 0
      },
      "text/plain": [
       "HBox(children=(IntProgress(value=0, max=50000), HTML(value='')))"
      ]
     },
     "metadata": {},
     "output_type": "display_data"
    },
    {
     "name": "stdout",
     "output_type": "stream",
     "text": [
      "\n"
     ]
    },
    {
     "data": {
      "application/javascript": [
       "/* Put everything inside the global mpl namespace */\n",
       "window.mpl = {};\n",
       "\n",
       "\n",
       "mpl.get_websocket_type = function() {\n",
       "    if (typeof(WebSocket) !== 'undefined') {\n",
       "        return WebSocket;\n",
       "    } else if (typeof(MozWebSocket) !== 'undefined') {\n",
       "        return MozWebSocket;\n",
       "    } else {\n",
       "        alert('Your browser does not have WebSocket support.' +\n",
       "              'Please try Chrome, Safari or Firefox ≥ 6. ' +\n",
       "              'Firefox 4 and 5 are also supported but you ' +\n",
       "              'have to enable WebSockets in about:config.');\n",
       "    };\n",
       "}\n",
       "\n",
       "mpl.figure = function(figure_id, websocket, ondownload, parent_element) {\n",
       "    this.id = figure_id;\n",
       "\n",
       "    this.ws = websocket;\n",
       "\n",
       "    this.supports_binary = (this.ws.binaryType != undefined);\n",
       "\n",
       "    if (!this.supports_binary) {\n",
       "        var warnings = document.getElementById(\"mpl-warnings\");\n",
       "        if (warnings) {\n",
       "            warnings.style.display = 'block';\n",
       "            warnings.textContent = (\n",
       "                \"This browser does not support binary websocket messages. \" +\n",
       "                    \"Performance may be slow.\");\n",
       "        }\n",
       "    }\n",
       "\n",
       "    this.imageObj = new Image();\n",
       "\n",
       "    this.context = undefined;\n",
       "    this.message = undefined;\n",
       "    this.canvas = undefined;\n",
       "    this.rubberband_canvas = undefined;\n",
       "    this.rubberband_context = undefined;\n",
       "    this.format_dropdown = undefined;\n",
       "\n",
       "    this.image_mode = 'full';\n",
       "\n",
       "    this.root = $('<div/>');\n",
       "    this._root_extra_style(this.root)\n",
       "    this.root.attr('style', 'display: inline-block');\n",
       "\n",
       "    $(parent_element).append(this.root);\n",
       "\n",
       "    this._init_header(this);\n",
       "    this._init_canvas(this);\n",
       "    this._init_toolbar(this);\n",
       "\n",
       "    var fig = this;\n",
       "\n",
       "    this.waiting = false;\n",
       "\n",
       "    this.ws.onopen =  function () {\n",
       "            fig.send_message(\"supports_binary\", {value: fig.supports_binary});\n",
       "            fig.send_message(\"send_image_mode\", {});\n",
       "            if (mpl.ratio != 1) {\n",
       "                fig.send_message(\"set_dpi_ratio\", {'dpi_ratio': mpl.ratio});\n",
       "            }\n",
       "            fig.send_message(\"refresh\", {});\n",
       "        }\n",
       "\n",
       "    this.imageObj.onload = function() {\n",
       "            if (fig.image_mode == 'full') {\n",
       "                // Full images could contain transparency (where diff images\n",
       "                // almost always do), so we need to clear the canvas so that\n",
       "                // there is no ghosting.\n",
       "                fig.context.clearRect(0, 0, fig.canvas.width, fig.canvas.height);\n",
       "            }\n",
       "            fig.context.drawImage(fig.imageObj, 0, 0);\n",
       "        };\n",
       "\n",
       "    this.imageObj.onunload = function() {\n",
       "        fig.ws.close();\n",
       "    }\n",
       "\n",
       "    this.ws.onmessage = this._make_on_message_function(this);\n",
       "\n",
       "    this.ondownload = ondownload;\n",
       "}\n",
       "\n",
       "mpl.figure.prototype._init_header = function() {\n",
       "    var titlebar = $(\n",
       "        '<div class=\"ui-dialog-titlebar ui-widget-header ui-corner-all ' +\n",
       "        'ui-helper-clearfix\"/>');\n",
       "    var titletext = $(\n",
       "        '<div class=\"ui-dialog-title\" style=\"width: 100%; ' +\n",
       "        'text-align: center; padding: 3px;\"/>');\n",
       "    titlebar.append(titletext)\n",
       "    this.root.append(titlebar);\n",
       "    this.header = titletext[0];\n",
       "}\n",
       "\n",
       "\n",
       "\n",
       "mpl.figure.prototype._canvas_extra_style = function(canvas_div) {\n",
       "\n",
       "}\n",
       "\n",
       "\n",
       "mpl.figure.prototype._root_extra_style = function(canvas_div) {\n",
       "\n",
       "}\n",
       "\n",
       "mpl.figure.prototype._init_canvas = function() {\n",
       "    var fig = this;\n",
       "\n",
       "    var canvas_div = $('<div/>');\n",
       "\n",
       "    canvas_div.attr('style', 'position: relative; clear: both; outline: 0');\n",
       "\n",
       "    function canvas_keyboard_event(event) {\n",
       "        return fig.key_event(event, event['data']);\n",
       "    }\n",
       "\n",
       "    canvas_div.keydown('key_press', canvas_keyboard_event);\n",
       "    canvas_div.keyup('key_release', canvas_keyboard_event);\n",
       "    this.canvas_div = canvas_div\n",
       "    this._canvas_extra_style(canvas_div)\n",
       "    this.root.append(canvas_div);\n",
       "\n",
       "    var canvas = $('<canvas/>');\n",
       "    canvas.addClass('mpl-canvas');\n",
       "    canvas.attr('style', \"left: 0; top: 0; z-index: 0; outline: 0\")\n",
       "\n",
       "    this.canvas = canvas[0];\n",
       "    this.context = canvas[0].getContext(\"2d\");\n",
       "\n",
       "    var backingStore = this.context.backingStorePixelRatio ||\n",
       "\tthis.context.webkitBackingStorePixelRatio ||\n",
       "\tthis.context.mozBackingStorePixelRatio ||\n",
       "\tthis.context.msBackingStorePixelRatio ||\n",
       "\tthis.context.oBackingStorePixelRatio ||\n",
       "\tthis.context.backingStorePixelRatio || 1;\n",
       "\n",
       "    mpl.ratio = (window.devicePixelRatio || 1) / backingStore;\n",
       "\n",
       "    var rubberband = $('<canvas/>');\n",
       "    rubberband.attr('style', \"position: absolute; left: 0; top: 0; z-index: 1;\")\n",
       "\n",
       "    var pass_mouse_events = true;\n",
       "\n",
       "    canvas_div.resizable({\n",
       "        start: function(event, ui) {\n",
       "            pass_mouse_events = false;\n",
       "        },\n",
       "        resize: function(event, ui) {\n",
       "            fig.request_resize(ui.size.width, ui.size.height);\n",
       "        },\n",
       "        stop: function(event, ui) {\n",
       "            pass_mouse_events = true;\n",
       "            fig.request_resize(ui.size.width, ui.size.height);\n",
       "        },\n",
       "    });\n",
       "\n",
       "    function mouse_event_fn(event) {\n",
       "        if (pass_mouse_events)\n",
       "            return fig.mouse_event(event, event['data']);\n",
       "    }\n",
       "\n",
       "    rubberband.mousedown('button_press', mouse_event_fn);\n",
       "    rubberband.mouseup('button_release', mouse_event_fn);\n",
       "    // Throttle sequential mouse events to 1 every 20ms.\n",
       "    rubberband.mousemove('motion_notify', mouse_event_fn);\n",
       "\n",
       "    rubberband.mouseenter('figure_enter', mouse_event_fn);\n",
       "    rubberband.mouseleave('figure_leave', mouse_event_fn);\n",
       "\n",
       "    canvas_div.on(\"wheel\", function (event) {\n",
       "        event = event.originalEvent;\n",
       "        event['data'] = 'scroll'\n",
       "        if (event.deltaY < 0) {\n",
       "            event.step = 1;\n",
       "        } else {\n",
       "            event.step = -1;\n",
       "        }\n",
       "        mouse_event_fn(event);\n",
       "    });\n",
       "\n",
       "    canvas_div.append(canvas);\n",
       "    canvas_div.append(rubberband);\n",
       "\n",
       "    this.rubberband = rubberband;\n",
       "    this.rubberband_canvas = rubberband[0];\n",
       "    this.rubberband_context = rubberband[0].getContext(\"2d\");\n",
       "    this.rubberband_context.strokeStyle = \"#000000\";\n",
       "\n",
       "    this._resize_canvas = function(width, height) {\n",
       "        // Keep the size of the canvas, canvas container, and rubber band\n",
       "        // canvas in synch.\n",
       "        canvas_div.css('width', width)\n",
       "        canvas_div.css('height', height)\n",
       "\n",
       "        canvas.attr('width', width * mpl.ratio);\n",
       "        canvas.attr('height', height * mpl.ratio);\n",
       "        canvas.attr('style', 'width: ' + width + 'px; height: ' + height + 'px;');\n",
       "\n",
       "        rubberband.attr('width', width);\n",
       "        rubberband.attr('height', height);\n",
       "    }\n",
       "\n",
       "    // Set the figure to an initial 600x600px, this will subsequently be updated\n",
       "    // upon first draw.\n",
       "    this._resize_canvas(600, 600);\n",
       "\n",
       "    // Disable right mouse context menu.\n",
       "    $(this.rubberband_canvas).bind(\"contextmenu\",function(e){\n",
       "        return false;\n",
       "    });\n",
       "\n",
       "    function set_focus () {\n",
       "        canvas.focus();\n",
       "        canvas_div.focus();\n",
       "    }\n",
       "\n",
       "    window.setTimeout(set_focus, 100);\n",
       "}\n",
       "\n",
       "mpl.figure.prototype._init_toolbar = function() {\n",
       "    var fig = this;\n",
       "\n",
       "    var nav_element = $('<div/>')\n",
       "    nav_element.attr('style', 'width: 100%');\n",
       "    this.root.append(nav_element);\n",
       "\n",
       "    // Define a callback function for later on.\n",
       "    function toolbar_event(event) {\n",
       "        return fig.toolbar_button_onclick(event['data']);\n",
       "    }\n",
       "    function toolbar_mouse_event(event) {\n",
       "        return fig.toolbar_button_onmouseover(event['data']);\n",
       "    }\n",
       "\n",
       "    for(var toolbar_ind in mpl.toolbar_items) {\n",
       "        var name = mpl.toolbar_items[toolbar_ind][0];\n",
       "        var tooltip = mpl.toolbar_items[toolbar_ind][1];\n",
       "        var image = mpl.toolbar_items[toolbar_ind][2];\n",
       "        var method_name = mpl.toolbar_items[toolbar_ind][3];\n",
       "\n",
       "        if (!name) {\n",
       "            // put a spacer in here.\n",
       "            continue;\n",
       "        }\n",
       "        var button = $('<button/>');\n",
       "        button.addClass('ui-button ui-widget ui-state-default ui-corner-all ' +\n",
       "                        'ui-button-icon-only');\n",
       "        button.attr('role', 'button');\n",
       "        button.attr('aria-disabled', 'false');\n",
       "        button.click(method_name, toolbar_event);\n",
       "        button.mouseover(tooltip, toolbar_mouse_event);\n",
       "\n",
       "        var icon_img = $('<span/>');\n",
       "        icon_img.addClass('ui-button-icon-primary ui-icon');\n",
       "        icon_img.addClass(image);\n",
       "        icon_img.addClass('ui-corner-all');\n",
       "\n",
       "        var tooltip_span = $('<span/>');\n",
       "        tooltip_span.addClass('ui-button-text');\n",
       "        tooltip_span.html(tooltip);\n",
       "\n",
       "        button.append(icon_img);\n",
       "        button.append(tooltip_span);\n",
       "\n",
       "        nav_element.append(button);\n",
       "    }\n",
       "\n",
       "    var fmt_picker_span = $('<span/>');\n",
       "\n",
       "    var fmt_picker = $('<select/>');\n",
       "    fmt_picker.addClass('mpl-toolbar-option ui-widget ui-widget-content');\n",
       "    fmt_picker_span.append(fmt_picker);\n",
       "    nav_element.append(fmt_picker_span);\n",
       "    this.format_dropdown = fmt_picker[0];\n",
       "\n",
       "    for (var ind in mpl.extensions) {\n",
       "        var fmt = mpl.extensions[ind];\n",
       "        var option = $(\n",
       "            '<option/>', {selected: fmt === mpl.default_extension}).html(fmt);\n",
       "        fmt_picker.append(option)\n",
       "    }\n",
       "\n",
       "    // Add hover states to the ui-buttons\n",
       "    $( \".ui-button\" ).hover(\n",
       "        function() { $(this).addClass(\"ui-state-hover\");},\n",
       "        function() { $(this).removeClass(\"ui-state-hover\");}\n",
       "    );\n",
       "\n",
       "    var status_bar = $('<span class=\"mpl-message\"/>');\n",
       "    nav_element.append(status_bar);\n",
       "    this.message = status_bar[0];\n",
       "}\n",
       "\n",
       "mpl.figure.prototype.request_resize = function(x_pixels, y_pixels) {\n",
       "    // Request matplotlib to resize the figure. Matplotlib will then trigger a resize in the client,\n",
       "    // which will in turn request a refresh of the image.\n",
       "    this.send_message('resize', {'width': x_pixels, 'height': y_pixels});\n",
       "}\n",
       "\n",
       "mpl.figure.prototype.send_message = function(type, properties) {\n",
       "    properties['type'] = type;\n",
       "    properties['figure_id'] = this.id;\n",
       "    this.ws.send(JSON.stringify(properties));\n",
       "}\n",
       "\n",
       "mpl.figure.prototype.send_draw_message = function() {\n",
       "    if (!this.waiting) {\n",
       "        this.waiting = true;\n",
       "        this.ws.send(JSON.stringify({type: \"draw\", figure_id: this.id}));\n",
       "    }\n",
       "}\n",
       "\n",
       "\n",
       "mpl.figure.prototype.handle_save = function(fig, msg) {\n",
       "    var format_dropdown = fig.format_dropdown;\n",
       "    var format = format_dropdown.options[format_dropdown.selectedIndex].value;\n",
       "    fig.ondownload(fig, format);\n",
       "}\n",
       "\n",
       "\n",
       "mpl.figure.prototype.handle_resize = function(fig, msg) {\n",
       "    var size = msg['size'];\n",
       "    if (size[0] != fig.canvas.width || size[1] != fig.canvas.height) {\n",
       "        fig._resize_canvas(size[0], size[1]);\n",
       "        fig.send_message(\"refresh\", {});\n",
       "    };\n",
       "}\n",
       "\n",
       "mpl.figure.prototype.handle_rubberband = function(fig, msg) {\n",
       "    var x0 = msg['x0'] / mpl.ratio;\n",
       "    var y0 = (fig.canvas.height - msg['y0']) / mpl.ratio;\n",
       "    var x1 = msg['x1'] / mpl.ratio;\n",
       "    var y1 = (fig.canvas.height - msg['y1']) / mpl.ratio;\n",
       "    x0 = Math.floor(x0) + 0.5;\n",
       "    y0 = Math.floor(y0) + 0.5;\n",
       "    x1 = Math.floor(x1) + 0.5;\n",
       "    y1 = Math.floor(y1) + 0.5;\n",
       "    var min_x = Math.min(x0, x1);\n",
       "    var min_y = Math.min(y0, y1);\n",
       "    var width = Math.abs(x1 - x0);\n",
       "    var height = Math.abs(y1 - y0);\n",
       "\n",
       "    fig.rubberband_context.clearRect(\n",
       "        0, 0, fig.canvas.width, fig.canvas.height);\n",
       "\n",
       "    fig.rubberband_context.strokeRect(min_x, min_y, width, height);\n",
       "}\n",
       "\n",
       "mpl.figure.prototype.handle_figure_label = function(fig, msg) {\n",
       "    // Updates the figure title.\n",
       "    fig.header.textContent = msg['label'];\n",
       "}\n",
       "\n",
       "mpl.figure.prototype.handle_cursor = function(fig, msg) {\n",
       "    var cursor = msg['cursor'];\n",
       "    switch(cursor)\n",
       "    {\n",
       "    case 0:\n",
       "        cursor = 'pointer';\n",
       "        break;\n",
       "    case 1:\n",
       "        cursor = 'default';\n",
       "        break;\n",
       "    case 2:\n",
       "        cursor = 'crosshair';\n",
       "        break;\n",
       "    case 3:\n",
       "        cursor = 'move';\n",
       "        break;\n",
       "    }\n",
       "    fig.rubberband_canvas.style.cursor = cursor;\n",
       "}\n",
       "\n",
       "mpl.figure.prototype.handle_message = function(fig, msg) {\n",
       "    fig.message.textContent = msg['message'];\n",
       "}\n",
       "\n",
       "mpl.figure.prototype.handle_draw = function(fig, msg) {\n",
       "    // Request the server to send over a new figure.\n",
       "    fig.send_draw_message();\n",
       "}\n",
       "\n",
       "mpl.figure.prototype.handle_image_mode = function(fig, msg) {\n",
       "    fig.image_mode = msg['mode'];\n",
       "}\n",
       "\n",
       "mpl.figure.prototype.updated_canvas_event = function() {\n",
       "    // Called whenever the canvas gets updated.\n",
       "    this.send_message(\"ack\", {});\n",
       "}\n",
       "\n",
       "// A function to construct a web socket function for onmessage handling.\n",
       "// Called in the figure constructor.\n",
       "mpl.figure.prototype._make_on_message_function = function(fig) {\n",
       "    return function socket_on_message(evt) {\n",
       "        if (evt.data instanceof Blob) {\n",
       "            /* FIXME: We get \"Resource interpreted as Image but\n",
       "             * transferred with MIME type text/plain:\" errors on\n",
       "             * Chrome.  But how to set the MIME type?  It doesn't seem\n",
       "             * to be part of the websocket stream */\n",
       "            evt.data.type = \"image/png\";\n",
       "\n",
       "            /* Free the memory for the previous frames */\n",
       "            if (fig.imageObj.src) {\n",
       "                (window.URL || window.webkitURL).revokeObjectURL(\n",
       "                    fig.imageObj.src);\n",
       "            }\n",
       "\n",
       "            fig.imageObj.src = (window.URL || window.webkitURL).createObjectURL(\n",
       "                evt.data);\n",
       "            fig.updated_canvas_event();\n",
       "            fig.waiting = false;\n",
       "            return;\n",
       "        }\n",
       "        else if (typeof evt.data === 'string' && evt.data.slice(0, 21) == \"data:image/png;base64\") {\n",
       "            fig.imageObj.src = evt.data;\n",
       "            fig.updated_canvas_event();\n",
       "            fig.waiting = false;\n",
       "            return;\n",
       "        }\n",
       "\n",
       "        var msg = JSON.parse(evt.data);\n",
       "        var msg_type = msg['type'];\n",
       "\n",
       "        // Call the  \"handle_{type}\" callback, which takes\n",
       "        // the figure and JSON message as its only arguments.\n",
       "        try {\n",
       "            var callback = fig[\"handle_\" + msg_type];\n",
       "        } catch (e) {\n",
       "            console.log(\"No handler for the '\" + msg_type + \"' message type: \", msg);\n",
       "            return;\n",
       "        }\n",
       "\n",
       "        if (callback) {\n",
       "            try {\n",
       "                // console.log(\"Handling '\" + msg_type + \"' message: \", msg);\n",
       "                callback(fig, msg);\n",
       "            } catch (e) {\n",
       "                console.log(\"Exception inside the 'handler_\" + msg_type + \"' callback:\", e, e.stack, msg);\n",
       "            }\n",
       "        }\n",
       "    };\n",
       "}\n",
       "\n",
       "// from http://stackoverflow.com/questions/1114465/getting-mouse-location-in-canvas\n",
       "mpl.findpos = function(e) {\n",
       "    //this section is from http://www.quirksmode.org/js/events_properties.html\n",
       "    var targ;\n",
       "    if (!e)\n",
       "        e = window.event;\n",
       "    if (e.target)\n",
       "        targ = e.target;\n",
       "    else if (e.srcElement)\n",
       "        targ = e.srcElement;\n",
       "    if (targ.nodeType == 3) // defeat Safari bug\n",
       "        targ = targ.parentNode;\n",
       "\n",
       "    // jQuery normalizes the pageX and pageY\n",
       "    // pageX,Y are the mouse positions relative to the document\n",
       "    // offset() returns the position of the element relative to the document\n",
       "    var x = e.pageX - $(targ).offset().left;\n",
       "    var y = e.pageY - $(targ).offset().top;\n",
       "\n",
       "    return {\"x\": x, \"y\": y};\n",
       "};\n",
       "\n",
       "/*\n",
       " * return a copy of an object with only non-object keys\n",
       " * we need this to avoid circular references\n",
       " * http://stackoverflow.com/a/24161582/3208463\n",
       " */\n",
       "function simpleKeys (original) {\n",
       "  return Object.keys(original).reduce(function (obj, key) {\n",
       "    if (typeof original[key] !== 'object')\n",
       "        obj[key] = original[key]\n",
       "    return obj;\n",
       "  }, {});\n",
       "}\n",
       "\n",
       "mpl.figure.prototype.mouse_event = function(event, name) {\n",
       "    var canvas_pos = mpl.findpos(event)\n",
       "\n",
       "    if (name === 'button_press')\n",
       "    {\n",
       "        this.canvas.focus();\n",
       "        this.canvas_div.focus();\n",
       "    }\n",
       "\n",
       "    var x = canvas_pos.x * mpl.ratio;\n",
       "    var y = canvas_pos.y * mpl.ratio;\n",
       "\n",
       "    this.send_message(name, {x: x, y: y, button: event.button,\n",
       "                             step: event.step,\n",
       "                             guiEvent: simpleKeys(event)});\n",
       "\n",
       "    /* This prevents the web browser from automatically changing to\n",
       "     * the text insertion cursor when the button is pressed.  We want\n",
       "     * to control all of the cursor setting manually through the\n",
       "     * 'cursor' event from matplotlib */\n",
       "    event.preventDefault();\n",
       "    return false;\n",
       "}\n",
       "\n",
       "mpl.figure.prototype._key_event_extra = function(event, name) {\n",
       "    // Handle any extra behaviour associated with a key event\n",
       "}\n",
       "\n",
       "mpl.figure.prototype.key_event = function(event, name) {\n",
       "\n",
       "    // Prevent repeat events\n",
       "    if (name == 'key_press')\n",
       "    {\n",
       "        if (event.which === this._key)\n",
       "            return;\n",
       "        else\n",
       "            this._key = event.which;\n",
       "    }\n",
       "    if (name == 'key_release')\n",
       "        this._key = null;\n",
       "\n",
       "    var value = '';\n",
       "    if (event.ctrlKey && event.which != 17)\n",
       "        value += \"ctrl+\";\n",
       "    if (event.altKey && event.which != 18)\n",
       "        value += \"alt+\";\n",
       "    if (event.shiftKey && event.which != 16)\n",
       "        value += \"shift+\";\n",
       "\n",
       "    value += 'k';\n",
       "    value += event.which.toString();\n",
       "\n",
       "    this._key_event_extra(event, name);\n",
       "\n",
       "    this.send_message(name, {key: value,\n",
       "                             guiEvent: simpleKeys(event)});\n",
       "    return false;\n",
       "}\n",
       "\n",
       "mpl.figure.prototype.toolbar_button_onclick = function(name) {\n",
       "    if (name == 'download') {\n",
       "        this.handle_save(this, null);\n",
       "    } else {\n",
       "        this.send_message(\"toolbar_button\", {name: name});\n",
       "    }\n",
       "};\n",
       "\n",
       "mpl.figure.prototype.toolbar_button_onmouseover = function(tooltip) {\n",
       "    this.message.textContent = tooltip;\n",
       "};\n",
       "mpl.toolbar_items = [[\"Home\", \"Reset original view\", \"fa fa-home icon-home\", \"home\"], [\"Back\", \"Back to previous view\", \"fa fa-arrow-left icon-arrow-left\", \"back\"], [\"Forward\", \"Forward to next view\", \"fa fa-arrow-right icon-arrow-right\", \"forward\"], [\"\", \"\", \"\", \"\"], [\"Pan\", \"Pan axes with left mouse, zoom with right\", \"fa fa-arrows icon-move\", \"pan\"], [\"Zoom\", \"Zoom to rectangle\", \"fa fa-square-o icon-check-empty\", \"zoom\"], [\"\", \"\", \"\", \"\"], [\"Download\", \"Download plot\", \"fa fa-floppy-o icon-save\", \"download\"]];\n",
       "\n",
       "mpl.extensions = [\"eps\", \"jpeg\", \"pdf\", \"png\", \"ps\", \"raw\", \"svg\", \"tif\"];\n",
       "\n",
       "mpl.default_extension = \"png\";var comm_websocket_adapter = function(comm) {\n",
       "    // Create a \"websocket\"-like object which calls the given IPython comm\n",
       "    // object with the appropriate methods. Currently this is a non binary\n",
       "    // socket, so there is still some room for performance tuning.\n",
       "    var ws = {};\n",
       "\n",
       "    ws.close = function() {\n",
       "        comm.close()\n",
       "    };\n",
       "    ws.send = function(m) {\n",
       "        //console.log('sending', m);\n",
       "        comm.send(m);\n",
       "    };\n",
       "    // Register the callback with on_msg.\n",
       "    comm.on_msg(function(msg) {\n",
       "        //console.log('receiving', msg['content']['data'], msg);\n",
       "        // Pass the mpl event to the overridden (by mpl) onmessage function.\n",
       "        ws.onmessage(msg['content']['data'])\n",
       "    });\n",
       "    return ws;\n",
       "}\n",
       "\n",
       "mpl.mpl_figure_comm = function(comm, msg) {\n",
       "    // This is the function which gets called when the mpl process\n",
       "    // starts-up an IPython Comm through the \"matplotlib\" channel.\n",
       "\n",
       "    var id = msg.content.data.id;\n",
       "    // Get hold of the div created by the display call when the Comm\n",
       "    // socket was opened in Python.\n",
       "    var element = $(\"#\" + id);\n",
       "    var ws_proxy = comm_websocket_adapter(comm)\n",
       "\n",
       "    function ondownload(figure, format) {\n",
       "        window.open(figure.imageObj.src);\n",
       "    }\n",
       "\n",
       "    var fig = new mpl.figure(id, ws_proxy,\n",
       "                           ondownload,\n",
       "                           element.get(0));\n",
       "\n",
       "    // Call onopen now - mpl needs it, as it is assuming we've passed it a real\n",
       "    // web socket which is closed, not our websocket->open comm proxy.\n",
       "    ws_proxy.onopen();\n",
       "\n",
       "    fig.parent_element = element.get(0);\n",
       "    fig.cell_info = mpl.find_output_cell(\"<div id='\" + id + \"'></div>\");\n",
       "    if (!fig.cell_info) {\n",
       "        console.error(\"Failed to find cell for figure\", id, fig);\n",
       "        return;\n",
       "    }\n",
       "\n",
       "    var output_index = fig.cell_info[2]\n",
       "    var cell = fig.cell_info[0];\n",
       "\n",
       "};\n",
       "\n",
       "mpl.figure.prototype.handle_close = function(fig, msg) {\n",
       "    var width = fig.canvas.width/mpl.ratio\n",
       "    fig.root.unbind('remove')\n",
       "\n",
       "    // Update the output cell to use the data from the current canvas.\n",
       "    fig.push_to_output();\n",
       "    var dataURL = fig.canvas.toDataURL();\n",
       "    // Re-enable the keyboard manager in IPython - without this line, in FF,\n",
       "    // the notebook keyboard shortcuts fail.\n",
       "    IPython.keyboard_manager.enable()\n",
       "    $(fig.parent_element).html('<img src=\"' + dataURL + '\" width=\"' + width + '\">');\n",
       "    fig.close_ws(fig, msg);\n",
       "}\n",
       "\n",
       "mpl.figure.prototype.close_ws = function(fig, msg){\n",
       "    fig.send_message('closing', msg);\n",
       "    // fig.ws.close()\n",
       "}\n",
       "\n",
       "mpl.figure.prototype.push_to_output = function(remove_interactive) {\n",
       "    // Turn the data on the canvas into data in the output cell.\n",
       "    var width = this.canvas.width/mpl.ratio\n",
       "    var dataURL = this.canvas.toDataURL();\n",
       "    this.cell_info[1]['text/html'] = '<img src=\"' + dataURL + '\" width=\"' + width + '\">';\n",
       "}\n",
       "\n",
       "mpl.figure.prototype.updated_canvas_event = function() {\n",
       "    // Tell IPython that the notebook contents must change.\n",
       "    IPython.notebook.set_dirty(true);\n",
       "    this.send_message(\"ack\", {});\n",
       "    var fig = this;\n",
       "    // Wait a second, then push the new image to the DOM so\n",
       "    // that it is saved nicely (might be nice to debounce this).\n",
       "    setTimeout(function () { fig.push_to_output() }, 1000);\n",
       "}\n",
       "\n",
       "mpl.figure.prototype._init_toolbar = function() {\n",
       "    var fig = this;\n",
       "\n",
       "    var nav_element = $('<div/>')\n",
       "    nav_element.attr('style', 'width: 100%');\n",
       "    this.root.append(nav_element);\n",
       "\n",
       "    // Define a callback function for later on.\n",
       "    function toolbar_event(event) {\n",
       "        return fig.toolbar_button_onclick(event['data']);\n",
       "    }\n",
       "    function toolbar_mouse_event(event) {\n",
       "        return fig.toolbar_button_onmouseover(event['data']);\n",
       "    }\n",
       "\n",
       "    for(var toolbar_ind in mpl.toolbar_items){\n",
       "        var name = mpl.toolbar_items[toolbar_ind][0];\n",
       "        var tooltip = mpl.toolbar_items[toolbar_ind][1];\n",
       "        var image = mpl.toolbar_items[toolbar_ind][2];\n",
       "        var method_name = mpl.toolbar_items[toolbar_ind][3];\n",
       "\n",
       "        if (!name) { continue; };\n",
       "\n",
       "        var button = $('<button class=\"btn btn-default\" href=\"#\" title=\"' + name + '\"><i class=\"fa ' + image + ' fa-lg\"></i></button>');\n",
       "        button.click(method_name, toolbar_event);\n",
       "        button.mouseover(tooltip, toolbar_mouse_event);\n",
       "        nav_element.append(button);\n",
       "    }\n",
       "\n",
       "    // Add the status bar.\n",
       "    var status_bar = $('<span class=\"mpl-message\" style=\"text-align:right; float: right;\"/>');\n",
       "    nav_element.append(status_bar);\n",
       "    this.message = status_bar[0];\n",
       "\n",
       "    // Add the close button to the window.\n",
       "    var buttongrp = $('<div class=\"btn-group inline pull-right\"></div>');\n",
       "    var button = $('<button class=\"btn btn-mini btn-primary\" href=\"#\" title=\"Stop Interaction\"><i class=\"fa fa-power-off icon-remove icon-large\"></i></button>');\n",
       "    button.click(function (evt) { fig.handle_close(fig, {}); } );\n",
       "    button.mouseover('Stop Interaction', toolbar_mouse_event);\n",
       "    buttongrp.append(button);\n",
       "    var titlebar = this.root.find($('.ui-dialog-titlebar'));\n",
       "    titlebar.prepend(buttongrp);\n",
       "}\n",
       "\n",
       "mpl.figure.prototype._root_extra_style = function(el){\n",
       "    var fig = this\n",
       "    el.on(\"remove\", function(){\n",
       "\tfig.close_ws(fig, {});\n",
       "    });\n",
       "}\n",
       "\n",
       "mpl.figure.prototype._canvas_extra_style = function(el){\n",
       "    // this is important to make the div 'focusable\n",
       "    el.attr('tabindex', 0)\n",
       "    // reach out to IPython and tell the keyboard manager to turn it's self\n",
       "    // off when our div gets focus\n",
       "\n",
       "    // location in version 3\n",
       "    if (IPython.notebook.keyboard_manager) {\n",
       "        IPython.notebook.keyboard_manager.register_events(el);\n",
       "    }\n",
       "    else {\n",
       "        // location in version 2\n",
       "        IPython.keyboard_manager.register_events(el);\n",
       "    }\n",
       "\n",
       "}\n",
       "\n",
       "mpl.figure.prototype._key_event_extra = function(event, name) {\n",
       "    var manager = IPython.notebook.keyboard_manager;\n",
       "    if (!manager)\n",
       "        manager = IPython.keyboard_manager;\n",
       "\n",
       "    // Check for shift+enter\n",
       "    if (event.shiftKey && event.which == 13) {\n",
       "        this.canvas_div.blur();\n",
       "        event.shiftKey = false;\n",
       "        // Send a \"J\" for go to next cell\n",
       "        event.which = 74;\n",
       "        event.keyCode = 74;\n",
       "        manager.command_mode();\n",
       "        manager.handle_keydown(event);\n",
       "    }\n",
       "}\n",
       "\n",
       "mpl.figure.prototype.handle_save = function(fig, msg) {\n",
       "    fig.ondownload(fig, null);\n",
       "}\n",
       "\n",
       "\n",
       "mpl.find_output_cell = function(html_output) {\n",
       "    // Return the cell and output element which can be found *uniquely* in the notebook.\n",
       "    // Note - this is a bit hacky, but it is done because the \"notebook_saving.Notebook\"\n",
       "    // IPython event is triggered only after the cells have been serialised, which for\n",
       "    // our purposes (turning an active figure into a static one), is too late.\n",
       "    var cells = IPython.notebook.get_cells();\n",
       "    var ncells = cells.length;\n",
       "    for (var i=0; i<ncells; i++) {\n",
       "        var cell = cells[i];\n",
       "        if (cell.cell_type === 'code'){\n",
       "            for (var j=0; j<cell.output_area.outputs.length; j++) {\n",
       "                var data = cell.output_area.outputs[j];\n",
       "                if (data.data) {\n",
       "                    // IPython >= 3 moved mimebundle to data attribute of output\n",
       "                    data = data.data;\n",
       "                }\n",
       "                if (data['text/html'] == html_output) {\n",
       "                    return [cell, data, j];\n",
       "                }\n",
       "            }\n",
       "        }\n",
       "    }\n",
       "}\n",
       "\n",
       "// Register the function which deals with the matplotlib target/channel.\n",
       "// The kernel may be null if the page has been refreshed.\n",
       "if (IPython.notebook.kernel != null) {\n",
       "    IPython.notebook.kernel.comm_manager.register_target('matplotlib', mpl.mpl_figure_comm);\n",
       "}\n"
      ],
      "text/plain": [
       "<IPython.core.display.Javascript object>"
      ]
     },
     "metadata": {},
     "output_type": "display_data"
    },
    {
     "data": {
      "text/html": [
       "<img src=\"data:image/png;base64,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\" width=\"639.5657841543434\">"
      ],
      "text/plain": [
       "<IPython.core.display.HTML object>"
      ]
     },
     "metadata": {},
     "output_type": "display_data"
    },
    {
     "data": {
      "application/javascript": [
       "/* Put everything inside the global mpl namespace */\n",
       "window.mpl = {};\n",
       "\n",
       "\n",
       "mpl.get_websocket_type = function() {\n",
       "    if (typeof(WebSocket) !== 'undefined') {\n",
       "        return WebSocket;\n",
       "    } else if (typeof(MozWebSocket) !== 'undefined') {\n",
       "        return MozWebSocket;\n",
       "    } else {\n",
       "        alert('Your browser does not have WebSocket support.' +\n",
       "              'Please try Chrome, Safari or Firefox ≥ 6. ' +\n",
       "              'Firefox 4 and 5 are also supported but you ' +\n",
       "              'have to enable WebSockets in about:config.');\n",
       "    };\n",
       "}\n",
       "\n",
       "mpl.figure = function(figure_id, websocket, ondownload, parent_element) {\n",
       "    this.id = figure_id;\n",
       "\n",
       "    this.ws = websocket;\n",
       "\n",
       "    this.supports_binary = (this.ws.binaryType != undefined);\n",
       "\n",
       "    if (!this.supports_binary) {\n",
       "        var warnings = document.getElementById(\"mpl-warnings\");\n",
       "        if (warnings) {\n",
       "            warnings.style.display = 'block';\n",
       "            warnings.textContent = (\n",
       "                \"This browser does not support binary websocket messages. \" +\n",
       "                    \"Performance may be slow.\");\n",
       "        }\n",
       "    }\n",
       "\n",
       "    this.imageObj = new Image();\n",
       "\n",
       "    this.context = undefined;\n",
       "    this.message = undefined;\n",
       "    this.canvas = undefined;\n",
       "    this.rubberband_canvas = undefined;\n",
       "    this.rubberband_context = undefined;\n",
       "    this.format_dropdown = undefined;\n",
       "\n",
       "    this.image_mode = 'full';\n",
       "\n",
       "    this.root = $('<div/>');\n",
       "    this._root_extra_style(this.root)\n",
       "    this.root.attr('style', 'display: inline-block');\n",
       "\n",
       "    $(parent_element).append(this.root);\n",
       "\n",
       "    this._init_header(this);\n",
       "    this._init_canvas(this);\n",
       "    this._init_toolbar(this);\n",
       "\n",
       "    var fig = this;\n",
       "\n",
       "    this.waiting = false;\n",
       "\n",
       "    this.ws.onopen =  function () {\n",
       "            fig.send_message(\"supports_binary\", {value: fig.supports_binary});\n",
       "            fig.send_message(\"send_image_mode\", {});\n",
       "            if (mpl.ratio != 1) {\n",
       "                fig.send_message(\"set_dpi_ratio\", {'dpi_ratio': mpl.ratio});\n",
       "            }\n",
       "            fig.send_message(\"refresh\", {});\n",
       "        }\n",
       "\n",
       "    this.imageObj.onload = function() {\n",
       "            if (fig.image_mode == 'full') {\n",
       "                // Full images could contain transparency (where diff images\n",
       "                // almost always do), so we need to clear the canvas so that\n",
       "                // there is no ghosting.\n",
       "                fig.context.clearRect(0, 0, fig.canvas.width, fig.canvas.height);\n",
       "            }\n",
       "            fig.context.drawImage(fig.imageObj, 0, 0);\n",
       "        };\n",
       "\n",
       "    this.imageObj.onunload = function() {\n",
       "        fig.ws.close();\n",
       "    }\n",
       "\n",
       "    this.ws.onmessage = this._make_on_message_function(this);\n",
       "\n",
       "    this.ondownload = ondownload;\n",
       "}\n",
       "\n",
       "mpl.figure.prototype._init_header = function() {\n",
       "    var titlebar = $(\n",
       "        '<div class=\"ui-dialog-titlebar ui-widget-header ui-corner-all ' +\n",
       "        'ui-helper-clearfix\"/>');\n",
       "    var titletext = $(\n",
       "        '<div class=\"ui-dialog-title\" style=\"width: 100%; ' +\n",
       "        'text-align: center; padding: 3px;\"/>');\n",
       "    titlebar.append(titletext)\n",
       "    this.root.append(titlebar);\n",
       "    this.header = titletext[0];\n",
       "}\n",
       "\n",
       "\n",
       "\n",
       "mpl.figure.prototype._canvas_extra_style = function(canvas_div) {\n",
       "\n",
       "}\n",
       "\n",
       "\n",
       "mpl.figure.prototype._root_extra_style = function(canvas_div) {\n",
       "\n",
       "}\n",
       "\n",
       "mpl.figure.prototype._init_canvas = function() {\n",
       "    var fig = this;\n",
       "\n",
       "    var canvas_div = $('<div/>');\n",
       "\n",
       "    canvas_div.attr('style', 'position: relative; clear: both; outline: 0');\n",
       "\n",
       "    function canvas_keyboard_event(event) {\n",
       "        return fig.key_event(event, event['data']);\n",
       "    }\n",
       "\n",
       "    canvas_div.keydown('key_press', canvas_keyboard_event);\n",
       "    canvas_div.keyup('key_release', canvas_keyboard_event);\n",
       "    this.canvas_div = canvas_div\n",
       "    this._canvas_extra_style(canvas_div)\n",
       "    this.root.append(canvas_div);\n",
       "\n",
       "    var canvas = $('<canvas/>');\n",
       "    canvas.addClass('mpl-canvas');\n",
       "    canvas.attr('style', \"left: 0; top: 0; z-index: 0; outline: 0\")\n",
       "\n",
       "    this.canvas = canvas[0];\n",
       "    this.context = canvas[0].getContext(\"2d\");\n",
       "\n",
       "    var backingStore = this.context.backingStorePixelRatio ||\n",
       "\tthis.context.webkitBackingStorePixelRatio ||\n",
       "\tthis.context.mozBackingStorePixelRatio ||\n",
       "\tthis.context.msBackingStorePixelRatio ||\n",
       "\tthis.context.oBackingStorePixelRatio ||\n",
       "\tthis.context.backingStorePixelRatio || 1;\n",
       "\n",
       "    mpl.ratio = (window.devicePixelRatio || 1) / backingStore;\n",
       "\n",
       "    var rubberband = $('<canvas/>');\n",
       "    rubberband.attr('style', \"position: absolute; left: 0; top: 0; z-index: 1;\")\n",
       "\n",
       "    var pass_mouse_events = true;\n",
       "\n",
       "    canvas_div.resizable({\n",
       "        start: function(event, ui) {\n",
       "            pass_mouse_events = false;\n",
       "        },\n",
       "        resize: function(event, ui) {\n",
       "            fig.request_resize(ui.size.width, ui.size.height);\n",
       "        },\n",
       "        stop: function(event, ui) {\n",
       "            pass_mouse_events = true;\n",
       "            fig.request_resize(ui.size.width, ui.size.height);\n",
       "        },\n",
       "    });\n",
       "\n",
       "    function mouse_event_fn(event) {\n",
       "        if (pass_mouse_events)\n",
       "            return fig.mouse_event(event, event['data']);\n",
       "    }\n",
       "\n",
       "    rubberband.mousedown('button_press', mouse_event_fn);\n",
       "    rubberband.mouseup('button_release', mouse_event_fn);\n",
       "    // Throttle sequential mouse events to 1 every 20ms.\n",
       "    rubberband.mousemove('motion_notify', mouse_event_fn);\n",
       "\n",
       "    rubberband.mouseenter('figure_enter', mouse_event_fn);\n",
       "    rubberband.mouseleave('figure_leave', mouse_event_fn);\n",
       "\n",
       "    canvas_div.on(\"wheel\", function (event) {\n",
       "        event = event.originalEvent;\n",
       "        event['data'] = 'scroll'\n",
       "        if (event.deltaY < 0) {\n",
       "            event.step = 1;\n",
       "        } else {\n",
       "            event.step = -1;\n",
       "        }\n",
       "        mouse_event_fn(event);\n",
       "    });\n",
       "\n",
       "    canvas_div.append(canvas);\n",
       "    canvas_div.append(rubberband);\n",
       "\n",
       "    this.rubberband = rubberband;\n",
       "    this.rubberband_canvas = rubberband[0];\n",
       "    this.rubberband_context = rubberband[0].getContext(\"2d\");\n",
       "    this.rubberband_context.strokeStyle = \"#000000\";\n",
       "\n",
       "    this._resize_canvas = function(width, height) {\n",
       "        // Keep the size of the canvas, canvas container, and rubber band\n",
       "        // canvas in synch.\n",
       "        canvas_div.css('width', width)\n",
       "        canvas_div.css('height', height)\n",
       "\n",
       "        canvas.attr('width', width * mpl.ratio);\n",
       "        canvas.attr('height', height * mpl.ratio);\n",
       "        canvas.attr('style', 'width: ' + width + 'px; height: ' + height + 'px;');\n",
       "\n",
       "        rubberband.attr('width', width);\n",
       "        rubberband.attr('height', height);\n",
       "    }\n",
       "\n",
       "    // Set the figure to an initial 600x600px, this will subsequently be updated\n",
       "    // upon first draw.\n",
       "    this._resize_canvas(600, 600);\n",
       "\n",
       "    // Disable right mouse context menu.\n",
       "    $(this.rubberband_canvas).bind(\"contextmenu\",function(e){\n",
       "        return false;\n",
       "    });\n",
       "\n",
       "    function set_focus () {\n",
       "        canvas.focus();\n",
       "        canvas_div.focus();\n",
       "    }\n",
       "\n",
       "    window.setTimeout(set_focus, 100);\n",
       "}\n",
       "\n",
       "mpl.figure.prototype._init_toolbar = function() {\n",
       "    var fig = this;\n",
       "\n",
       "    var nav_element = $('<div/>')\n",
       "    nav_element.attr('style', 'width: 100%');\n",
       "    this.root.append(nav_element);\n",
       "\n",
       "    // Define a callback function for later on.\n",
       "    function toolbar_event(event) {\n",
       "        return fig.toolbar_button_onclick(event['data']);\n",
       "    }\n",
       "    function toolbar_mouse_event(event) {\n",
       "        return fig.toolbar_button_onmouseover(event['data']);\n",
       "    }\n",
       "\n",
       "    for(var toolbar_ind in mpl.toolbar_items) {\n",
       "        var name = mpl.toolbar_items[toolbar_ind][0];\n",
       "        var tooltip = mpl.toolbar_items[toolbar_ind][1];\n",
       "        var image = mpl.toolbar_items[toolbar_ind][2];\n",
       "        var method_name = mpl.toolbar_items[toolbar_ind][3];\n",
       "\n",
       "        if (!name) {\n",
       "            // put a spacer in here.\n",
       "            continue;\n",
       "        }\n",
       "        var button = $('<button/>');\n",
       "        button.addClass('ui-button ui-widget ui-state-default ui-corner-all ' +\n",
       "                        'ui-button-icon-only');\n",
       "        button.attr('role', 'button');\n",
       "        button.attr('aria-disabled', 'false');\n",
       "        button.click(method_name, toolbar_event);\n",
       "        button.mouseover(tooltip, toolbar_mouse_event);\n",
       "\n",
       "        var icon_img = $('<span/>');\n",
       "        icon_img.addClass('ui-button-icon-primary ui-icon');\n",
       "        icon_img.addClass(image);\n",
       "        icon_img.addClass('ui-corner-all');\n",
       "\n",
       "        var tooltip_span = $('<span/>');\n",
       "        tooltip_span.addClass('ui-button-text');\n",
       "        tooltip_span.html(tooltip);\n",
       "\n",
       "        button.append(icon_img);\n",
       "        button.append(tooltip_span);\n",
       "\n",
       "        nav_element.append(button);\n",
       "    }\n",
       "\n",
       "    var fmt_picker_span = $('<span/>');\n",
       "\n",
       "    var fmt_picker = $('<select/>');\n",
       "    fmt_picker.addClass('mpl-toolbar-option ui-widget ui-widget-content');\n",
       "    fmt_picker_span.append(fmt_picker);\n",
       "    nav_element.append(fmt_picker_span);\n",
       "    this.format_dropdown = fmt_picker[0];\n",
       "\n",
       "    for (var ind in mpl.extensions) {\n",
       "        var fmt = mpl.extensions[ind];\n",
       "        var option = $(\n",
       "            '<option/>', {selected: fmt === mpl.default_extension}).html(fmt);\n",
       "        fmt_picker.append(option)\n",
       "    }\n",
       "\n",
       "    // Add hover states to the ui-buttons\n",
       "    $( \".ui-button\" ).hover(\n",
       "        function() { $(this).addClass(\"ui-state-hover\");},\n",
       "        function() { $(this).removeClass(\"ui-state-hover\");}\n",
       "    );\n",
       "\n",
       "    var status_bar = $('<span class=\"mpl-message\"/>');\n",
       "    nav_element.append(status_bar);\n",
       "    this.message = status_bar[0];\n",
       "}\n",
       "\n",
       "mpl.figure.prototype.request_resize = function(x_pixels, y_pixels) {\n",
       "    // Request matplotlib to resize the figure. Matplotlib will then trigger a resize in the client,\n",
       "    // which will in turn request a refresh of the image.\n",
       "    this.send_message('resize', {'width': x_pixels, 'height': y_pixels});\n",
       "}\n",
       "\n",
       "mpl.figure.prototype.send_message = function(type, properties) {\n",
       "    properties['type'] = type;\n",
       "    properties['figure_id'] = this.id;\n",
       "    this.ws.send(JSON.stringify(properties));\n",
       "}\n",
       "\n",
       "mpl.figure.prototype.send_draw_message = function() {\n",
       "    if (!this.waiting) {\n",
       "        this.waiting = true;\n",
       "        this.ws.send(JSON.stringify({type: \"draw\", figure_id: this.id}));\n",
       "    }\n",
       "}\n",
       "\n",
       "\n",
       "mpl.figure.prototype.handle_save = function(fig, msg) {\n",
       "    var format_dropdown = fig.format_dropdown;\n",
       "    var format = format_dropdown.options[format_dropdown.selectedIndex].value;\n",
       "    fig.ondownload(fig, format);\n",
       "}\n",
       "\n",
       "\n",
       "mpl.figure.prototype.handle_resize = function(fig, msg) {\n",
       "    var size = msg['size'];\n",
       "    if (size[0] != fig.canvas.width || size[1] != fig.canvas.height) {\n",
       "        fig._resize_canvas(size[0], size[1]);\n",
       "        fig.send_message(\"refresh\", {});\n",
       "    };\n",
       "}\n",
       "\n",
       "mpl.figure.prototype.handle_rubberband = function(fig, msg) {\n",
       "    var x0 = msg['x0'] / mpl.ratio;\n",
       "    var y0 = (fig.canvas.height - msg['y0']) / mpl.ratio;\n",
       "    var x1 = msg['x1'] / mpl.ratio;\n",
       "    var y1 = (fig.canvas.height - msg['y1']) / mpl.ratio;\n",
       "    x0 = Math.floor(x0) + 0.5;\n",
       "    y0 = Math.floor(y0) + 0.5;\n",
       "    x1 = Math.floor(x1) + 0.5;\n",
       "    y1 = Math.floor(y1) + 0.5;\n",
       "    var min_x = Math.min(x0, x1);\n",
       "    var min_y = Math.min(y0, y1);\n",
       "    var width = Math.abs(x1 - x0);\n",
       "    var height = Math.abs(y1 - y0);\n",
       "\n",
       "    fig.rubberband_context.clearRect(\n",
       "        0, 0, fig.canvas.width, fig.canvas.height);\n",
       "\n",
       "    fig.rubberband_context.strokeRect(min_x, min_y, width, height);\n",
       "}\n",
       "\n",
       "mpl.figure.prototype.handle_figure_label = function(fig, msg) {\n",
       "    // Updates the figure title.\n",
       "    fig.header.textContent = msg['label'];\n",
       "}\n",
       "\n",
       "mpl.figure.prototype.handle_cursor = function(fig, msg) {\n",
       "    var cursor = msg['cursor'];\n",
       "    switch(cursor)\n",
       "    {\n",
       "    case 0:\n",
       "        cursor = 'pointer';\n",
       "        break;\n",
       "    case 1:\n",
       "        cursor = 'default';\n",
       "        break;\n",
       "    case 2:\n",
       "        cursor = 'crosshair';\n",
       "        break;\n",
       "    case 3:\n",
       "        cursor = 'move';\n",
       "        break;\n",
       "    }\n",
       "    fig.rubberband_canvas.style.cursor = cursor;\n",
       "}\n",
       "\n",
       "mpl.figure.prototype.handle_message = function(fig, msg) {\n",
       "    fig.message.textContent = msg['message'];\n",
       "}\n",
       "\n",
       "mpl.figure.prototype.handle_draw = function(fig, msg) {\n",
       "    // Request the server to send over a new figure.\n",
       "    fig.send_draw_message();\n",
       "}\n",
       "\n",
       "mpl.figure.prototype.handle_image_mode = function(fig, msg) {\n",
       "    fig.image_mode = msg['mode'];\n",
       "}\n",
       "\n",
       "mpl.figure.prototype.updated_canvas_event = function() {\n",
       "    // Called whenever the canvas gets updated.\n",
       "    this.send_message(\"ack\", {});\n",
       "}\n",
       "\n",
       "// A function to construct a web socket function for onmessage handling.\n",
       "// Called in the figure constructor.\n",
       "mpl.figure.prototype._make_on_message_function = function(fig) {\n",
       "    return function socket_on_message(evt) {\n",
       "        if (evt.data instanceof Blob) {\n",
       "            /* FIXME: We get \"Resource interpreted as Image but\n",
       "             * transferred with MIME type text/plain:\" errors on\n",
       "             * Chrome.  But how to set the MIME type?  It doesn't seem\n",
       "             * to be part of the websocket stream */\n",
       "            evt.data.type = \"image/png\";\n",
       "\n",
       "            /* Free the memory for the previous frames */\n",
       "            if (fig.imageObj.src) {\n",
       "                (window.URL || window.webkitURL).revokeObjectURL(\n",
       "                    fig.imageObj.src);\n",
       "            }\n",
       "\n",
       "            fig.imageObj.src = (window.URL || window.webkitURL).createObjectURL(\n",
       "                evt.data);\n",
       "            fig.updated_canvas_event();\n",
       "            fig.waiting = false;\n",
       "            return;\n",
       "        }\n",
       "        else if (typeof evt.data === 'string' && evt.data.slice(0, 21) == \"data:image/png;base64\") {\n",
       "            fig.imageObj.src = evt.data;\n",
       "            fig.updated_canvas_event();\n",
       "            fig.waiting = false;\n",
       "            return;\n",
       "        }\n",
       "\n",
       "        var msg = JSON.parse(evt.data);\n",
       "        var msg_type = msg['type'];\n",
       "\n",
       "        // Call the  \"handle_{type}\" callback, which takes\n",
       "        // the figure and JSON message as its only arguments.\n",
       "        try {\n",
       "            var callback = fig[\"handle_\" + msg_type];\n",
       "        } catch (e) {\n",
       "            console.log(\"No handler for the '\" + msg_type + \"' message type: \", msg);\n",
       "            return;\n",
       "        }\n",
       "\n",
       "        if (callback) {\n",
       "            try {\n",
       "                // console.log(\"Handling '\" + msg_type + \"' message: \", msg);\n",
       "                callback(fig, msg);\n",
       "            } catch (e) {\n",
       "                console.log(\"Exception inside the 'handler_\" + msg_type + \"' callback:\", e, e.stack, msg);\n",
       "            }\n",
       "        }\n",
       "    };\n",
       "}\n",
       "\n",
       "// from http://stackoverflow.com/questions/1114465/getting-mouse-location-in-canvas\n",
       "mpl.findpos = function(e) {\n",
       "    //this section is from http://www.quirksmode.org/js/events_properties.html\n",
       "    var targ;\n",
       "    if (!e)\n",
       "        e = window.event;\n",
       "    if (e.target)\n",
       "        targ = e.target;\n",
       "    else if (e.srcElement)\n",
       "        targ = e.srcElement;\n",
       "    if (targ.nodeType == 3) // defeat Safari bug\n",
       "        targ = targ.parentNode;\n",
       "\n",
       "    // jQuery normalizes the pageX and pageY\n",
       "    // pageX,Y are the mouse positions relative to the document\n",
       "    // offset() returns the position of the element relative to the document\n",
       "    var x = e.pageX - $(targ).offset().left;\n",
       "    var y = e.pageY - $(targ).offset().top;\n",
       "\n",
       "    return {\"x\": x, \"y\": y};\n",
       "};\n",
       "\n",
       "/*\n",
       " * return a copy of an object with only non-object keys\n",
       " * we need this to avoid circular references\n",
       " * http://stackoverflow.com/a/24161582/3208463\n",
       " */\n",
       "function simpleKeys (original) {\n",
       "  return Object.keys(original).reduce(function (obj, key) {\n",
       "    if (typeof original[key] !== 'object')\n",
       "        obj[key] = original[key]\n",
       "    return obj;\n",
       "  }, {});\n",
       "}\n",
       "\n",
       "mpl.figure.prototype.mouse_event = function(event, name) {\n",
       "    var canvas_pos = mpl.findpos(event)\n",
       "\n",
       "    if (name === 'button_press')\n",
       "    {\n",
       "        this.canvas.focus();\n",
       "        this.canvas_div.focus();\n",
       "    }\n",
       "\n",
       "    var x = canvas_pos.x * mpl.ratio;\n",
       "    var y = canvas_pos.y * mpl.ratio;\n",
       "\n",
       "    this.send_message(name, {x: x, y: y, button: event.button,\n",
       "                             step: event.step,\n",
       "                             guiEvent: simpleKeys(event)});\n",
       "\n",
       "    /* This prevents the web browser from automatically changing to\n",
       "     * the text insertion cursor when the button is pressed.  We want\n",
       "     * to control all of the cursor setting manually through the\n",
       "     * 'cursor' event from matplotlib */\n",
       "    event.preventDefault();\n",
       "    return false;\n",
       "}\n",
       "\n",
       "mpl.figure.prototype._key_event_extra = function(event, name) {\n",
       "    // Handle any extra behaviour associated with a key event\n",
       "}\n",
       "\n",
       "mpl.figure.prototype.key_event = function(event, name) {\n",
       "\n",
       "    // Prevent repeat events\n",
       "    if (name == 'key_press')\n",
       "    {\n",
       "        if (event.which === this._key)\n",
       "            return;\n",
       "        else\n",
       "            this._key = event.which;\n",
       "    }\n",
       "    if (name == 'key_release')\n",
       "        this._key = null;\n",
       "\n",
       "    var value = '';\n",
       "    if (event.ctrlKey && event.which != 17)\n",
       "        value += \"ctrl+\";\n",
       "    if (event.altKey && event.which != 18)\n",
       "        value += \"alt+\";\n",
       "    if (event.shiftKey && event.which != 16)\n",
       "        value += \"shift+\";\n",
       "\n",
       "    value += 'k';\n",
       "    value += event.which.toString();\n",
       "\n",
       "    this._key_event_extra(event, name);\n",
       "\n",
       "    this.send_message(name, {key: value,\n",
       "                             guiEvent: simpleKeys(event)});\n",
       "    return false;\n",
       "}\n",
       "\n",
       "mpl.figure.prototype.toolbar_button_onclick = function(name) {\n",
       "    if (name == 'download') {\n",
       "        this.handle_save(this, null);\n",
       "    } else {\n",
       "        this.send_message(\"toolbar_button\", {name: name});\n",
       "    }\n",
       "};\n",
       "\n",
       "mpl.figure.prototype.toolbar_button_onmouseover = function(tooltip) {\n",
       "    this.message.textContent = tooltip;\n",
       "};\n",
       "mpl.toolbar_items = [[\"Home\", \"Reset original view\", \"fa fa-home icon-home\", \"home\"], [\"Back\", \"Back to previous view\", \"fa fa-arrow-left icon-arrow-left\", \"back\"], [\"Forward\", \"Forward to next view\", \"fa fa-arrow-right icon-arrow-right\", \"forward\"], [\"\", \"\", \"\", \"\"], [\"Pan\", \"Pan axes with left mouse, zoom with right\", \"fa fa-arrows icon-move\", \"pan\"], [\"Zoom\", \"Zoom to rectangle\", \"fa fa-square-o icon-check-empty\", \"zoom\"], [\"\", \"\", \"\", \"\"], [\"Download\", \"Download plot\", \"fa fa-floppy-o icon-save\", \"download\"]];\n",
       "\n",
       "mpl.extensions = [\"eps\", \"jpeg\", \"pdf\", \"png\", \"ps\", \"raw\", \"svg\", \"tif\"];\n",
       "\n",
       "mpl.default_extension = \"png\";var comm_websocket_adapter = function(comm) {\n",
       "    // Create a \"websocket\"-like object which calls the given IPython comm\n",
       "    // object with the appropriate methods. Currently this is a non binary\n",
       "    // socket, so there is still some room for performance tuning.\n",
       "    var ws = {};\n",
       "\n",
       "    ws.close = function() {\n",
       "        comm.close()\n",
       "    };\n",
       "    ws.send = function(m) {\n",
       "        //console.log('sending', m);\n",
       "        comm.send(m);\n",
       "    };\n",
       "    // Register the callback with on_msg.\n",
       "    comm.on_msg(function(msg) {\n",
       "        //console.log('receiving', msg['content']['data'], msg);\n",
       "        // Pass the mpl event to the overridden (by mpl) onmessage function.\n",
       "        ws.onmessage(msg['content']['data'])\n",
       "    });\n",
       "    return ws;\n",
       "}\n",
       "\n",
       "mpl.mpl_figure_comm = function(comm, msg) {\n",
       "    // This is the function which gets called when the mpl process\n",
       "    // starts-up an IPython Comm through the \"matplotlib\" channel.\n",
       "\n",
       "    var id = msg.content.data.id;\n",
       "    // Get hold of the div created by the display call when the Comm\n",
       "    // socket was opened in Python.\n",
       "    var element = $(\"#\" + id);\n",
       "    var ws_proxy = comm_websocket_adapter(comm)\n",
       "\n",
       "    function ondownload(figure, format) {\n",
       "        window.open(figure.imageObj.src);\n",
       "    }\n",
       "\n",
       "    var fig = new mpl.figure(id, ws_proxy,\n",
       "                           ondownload,\n",
       "                           element.get(0));\n",
       "\n",
       "    // Call onopen now - mpl needs it, as it is assuming we've passed it a real\n",
       "    // web socket which is closed, not our websocket->open comm proxy.\n",
       "    ws_proxy.onopen();\n",
       "\n",
       "    fig.parent_element = element.get(0);\n",
       "    fig.cell_info = mpl.find_output_cell(\"<div id='\" + id + \"'></div>\");\n",
       "    if (!fig.cell_info) {\n",
       "        console.error(\"Failed to find cell for figure\", id, fig);\n",
       "        return;\n",
       "    }\n",
       "\n",
       "    var output_index = fig.cell_info[2]\n",
       "    var cell = fig.cell_info[0];\n",
       "\n",
       "};\n",
       "\n",
       "mpl.figure.prototype.handle_close = function(fig, msg) {\n",
       "    var width = fig.canvas.width/mpl.ratio\n",
       "    fig.root.unbind('remove')\n",
       "\n",
       "    // Update the output cell to use the data from the current canvas.\n",
       "    fig.push_to_output();\n",
       "    var dataURL = fig.canvas.toDataURL();\n",
       "    // Re-enable the keyboard manager in IPython - without this line, in FF,\n",
       "    // the notebook keyboard shortcuts fail.\n",
       "    IPython.keyboard_manager.enable()\n",
       "    $(fig.parent_element).html('<img src=\"' + dataURL + '\" width=\"' + width + '\">');\n",
       "    fig.close_ws(fig, msg);\n",
       "}\n",
       "\n",
       "mpl.figure.prototype.close_ws = function(fig, msg){\n",
       "    fig.send_message('closing', msg);\n",
       "    // fig.ws.close()\n",
       "}\n",
       "\n",
       "mpl.figure.prototype.push_to_output = function(remove_interactive) {\n",
       "    // Turn the data on the canvas into data in the output cell.\n",
       "    var width = this.canvas.width/mpl.ratio\n",
       "    var dataURL = this.canvas.toDataURL();\n",
       "    this.cell_info[1]['text/html'] = '<img src=\"' + dataURL + '\" width=\"' + width + '\">';\n",
       "}\n",
       "\n",
       "mpl.figure.prototype.updated_canvas_event = function() {\n",
       "    // Tell IPython that the notebook contents must change.\n",
       "    IPython.notebook.set_dirty(true);\n",
       "    this.send_message(\"ack\", {});\n",
       "    var fig = this;\n",
       "    // Wait a second, then push the new image to the DOM so\n",
       "    // that it is saved nicely (might be nice to debounce this).\n",
       "    setTimeout(function () { fig.push_to_output() }, 1000);\n",
       "}\n",
       "\n",
       "mpl.figure.prototype._init_toolbar = function() {\n",
       "    var fig = this;\n",
       "\n",
       "    var nav_element = $('<div/>')\n",
       "    nav_element.attr('style', 'width: 100%');\n",
       "    this.root.append(nav_element);\n",
       "\n",
       "    // Define a callback function for later on.\n",
       "    function toolbar_event(event) {\n",
       "        return fig.toolbar_button_onclick(event['data']);\n",
       "    }\n",
       "    function toolbar_mouse_event(event) {\n",
       "        return fig.toolbar_button_onmouseover(event['data']);\n",
       "    }\n",
       "\n",
       "    for(var toolbar_ind in mpl.toolbar_items){\n",
       "        var name = mpl.toolbar_items[toolbar_ind][0];\n",
       "        var tooltip = mpl.toolbar_items[toolbar_ind][1];\n",
       "        var image = mpl.toolbar_items[toolbar_ind][2];\n",
       "        var method_name = mpl.toolbar_items[toolbar_ind][3];\n",
       "\n",
       "        if (!name) { continue; };\n",
       "\n",
       "        var button = $('<button class=\"btn btn-default\" href=\"#\" title=\"' + name + '\"><i class=\"fa ' + image + ' fa-lg\"></i></button>');\n",
       "        button.click(method_name, toolbar_event);\n",
       "        button.mouseover(tooltip, toolbar_mouse_event);\n",
       "        nav_element.append(button);\n",
       "    }\n",
       "\n",
       "    // Add the status bar.\n",
       "    var status_bar = $('<span class=\"mpl-message\" style=\"text-align:right; float: right;\"/>');\n",
       "    nav_element.append(status_bar);\n",
       "    this.message = status_bar[0];\n",
       "\n",
       "    // Add the close button to the window.\n",
       "    var buttongrp = $('<div class=\"btn-group inline pull-right\"></div>');\n",
       "    var button = $('<button class=\"btn btn-mini btn-primary\" href=\"#\" title=\"Stop Interaction\"><i class=\"fa fa-power-off icon-remove icon-large\"></i></button>');\n",
       "    button.click(function (evt) { fig.handle_close(fig, {}); } );\n",
       "    button.mouseover('Stop Interaction', toolbar_mouse_event);\n",
       "    buttongrp.append(button);\n",
       "    var titlebar = this.root.find($('.ui-dialog-titlebar'));\n",
       "    titlebar.prepend(buttongrp);\n",
       "}\n",
       "\n",
       "mpl.figure.prototype._root_extra_style = function(el){\n",
       "    var fig = this\n",
       "    el.on(\"remove\", function(){\n",
       "\tfig.close_ws(fig, {});\n",
       "    });\n",
       "}\n",
       "\n",
       "mpl.figure.prototype._canvas_extra_style = function(el){\n",
       "    // this is important to make the div 'focusable\n",
       "    el.attr('tabindex', 0)\n",
       "    // reach out to IPython and tell the keyboard manager to turn it's self\n",
       "    // off when our div gets focus\n",
       "\n",
       "    // location in version 3\n",
       "    if (IPython.notebook.keyboard_manager) {\n",
       "        IPython.notebook.keyboard_manager.register_events(el);\n",
       "    }\n",
       "    else {\n",
       "        // location in version 2\n",
       "        IPython.keyboard_manager.register_events(el);\n",
       "    }\n",
       "\n",
       "}\n",
       "\n",
       "mpl.figure.prototype._key_event_extra = function(event, name) {\n",
       "    var manager = IPython.notebook.keyboard_manager;\n",
       "    if (!manager)\n",
       "        manager = IPython.keyboard_manager;\n",
       "\n",
       "    // Check for shift+enter\n",
       "    if (event.shiftKey && event.which == 13) {\n",
       "        this.canvas_div.blur();\n",
       "        event.shiftKey = false;\n",
       "        // Send a \"J\" for go to next cell\n",
       "        event.which = 74;\n",
       "        event.keyCode = 74;\n",
       "        manager.command_mode();\n",
       "        manager.handle_keydown(event);\n",
       "    }\n",
       "}\n",
       "\n",
       "mpl.figure.prototype.handle_save = function(fig, msg) {\n",
       "    fig.ondownload(fig, null);\n",
       "}\n",
       "\n",
       "\n",
       "mpl.find_output_cell = function(html_output) {\n",
       "    // Return the cell and output element which can be found *uniquely* in the notebook.\n",
       "    // Note - this is a bit hacky, but it is done because the \"notebook_saving.Notebook\"\n",
       "    // IPython event is triggered only after the cells have been serialised, which for\n",
       "    // our purposes (turning an active figure into a static one), is too late.\n",
       "    var cells = IPython.notebook.get_cells();\n",
       "    var ncells = cells.length;\n",
       "    for (var i=0; i<ncells; i++) {\n",
       "        var cell = cells[i];\n",
       "        if (cell.cell_type === 'code'){\n",
       "            for (var j=0; j<cell.output_area.outputs.length; j++) {\n",
       "                var data = cell.output_area.outputs[j];\n",
       "                if (data.data) {\n",
       "                    // IPython >= 3 moved mimebundle to data attribute of output\n",
       "                    data = data.data;\n",
       "                }\n",
       "                if (data['text/html'] == html_output) {\n",
       "                    return [cell, data, j];\n",
       "                }\n",
       "            }\n",
       "        }\n",
       "    }\n",
       "}\n",
       "\n",
       "// Register the function which deals with the matplotlib target/channel.\n",
       "// The kernel may be null if the page has been refreshed.\n",
       "if (IPython.notebook.kernel != null) {\n",
       "    IPython.notebook.kernel.comm_manager.register_target('matplotlib', mpl.mpl_figure_comm);\n",
       "}\n"
      ],
      "text/plain": [
       "<IPython.core.display.Javascript object>"
      ]
     },
     "metadata": {},
     "output_type": "display_data"
    },
    {
     "data": {
      "text/html": [
       "<img src=\"data:image/png;base64,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\" width=\"639.5657841543434\">"
      ],
      "text/plain": [
       "<IPython.core.display.HTML object>"
      ]
     },
     "metadata": {},
     "output_type": "display_data"
    }
   ],
   "source": [
    "ns.initNetwork(Striatum)\n",
    "ns.runplot(5000, ns.monitorind([40,40,20]));"
   ]
  },
  {
   "cell_type": "code",
   "execution_count": 26,
   "metadata": {},
   "outputs": [],
   "source": [
    "plt.savefig('plot3.png', dpi=1000)"
   ]
  },
  {
   "cell_type": "markdown",
   "metadata": {},
   "source": [
    "## statistical analysis"
   ]
  },
  {
   "cell_type": "code",
   "execution_count": 12,
   "metadata": {},
   "outputs": [],
   "source": [
    "def plotPDF(data):\n",
    "    y,binEdges = np.histogram(data,bins=20)\n",
    "    validy = y>1\n",
    "    y = y/len(data)\n",
    "    bincenters = 0.5*(binEdges[1:]+binEdges[:-1])\n",
    "    menStd     = np.sqrt(y*(1-y))\n",
    "    width      = 1\n",
    "    plt.plot(bincenters[validy], y[validy], '-o')\n",
    "    "
   ]
  },
  {
   "cell_type": "code",
   "execution_count": 17,
   "metadata": {
    "scrolled": true
   },
   "outputs": [
    {
     "data": {
      "application/vnd.jupyter.widget-view+json": {
       "model_id": "b918ff211fb340489f7b63598b8c7d27",
       "version_major": 2,
       "version_minor": 0
      },
      "text/plain": [
       "HBox(children=(IntProgress(value=0, max=2000), HTML(value='')))"
      ]
     },
     "metadata": {},
     "output_type": "display_data"
    },
    {
     "name": "stdout",
     "output_type": "stream",
     "text": [
      "\n"
     ]
    },
    {
     "data": {
      "application/vnd.jupyter.widget-view+json": {
       "model_id": "630f28a1e5754032bab4d797da41082b",
       "version_major": 2,
       "version_minor": 0
      },
      "text/plain": [
       "HBox(children=(IntProgress(value=0, max=10000), HTML(value='')))"
      ]
     },
     "metadata": {},
     "output_type": "display_data"
    },
    {
     "name": "stdout",
     "output_type": "stream",
     "text": [
      "\n"
     ]
    },
    {
     "data": {
      "application/vnd.jupyter.widget-view+json": {
       "model_id": "94a5db58888a4e30b91e826a95cbc595",
       "version_major": 2,
       "version_minor": 0
      },
      "text/plain": [
       "HBox(children=(IntProgress(value=0, max=2000), HTML(value='')))"
      ]
     },
     "metadata": {},
     "output_type": "display_data"
    },
    {
     "name": "stdout",
     "output_type": "stream",
     "text": [
      "\n"
     ]
    },
    {
     "data": {
      "application/vnd.jupyter.widget-view+json": {
       "model_id": "c1a25302eb254aadb32275fac1b01127",
       "version_major": 2,
       "version_minor": 0
      },
      "text/plain": [
       "HBox(children=(IntProgress(value=0, max=10000), HTML(value='')))"
      ]
     },
     "metadata": {},
     "output_type": "display_data"
    },
    {
     "name": "stdout",
     "output_type": "stream",
     "text": [
      "\n"
     ]
    },
    {
     "data": {
      "application/vnd.jupyter.widget-view+json": {
       "model_id": "af9b705533f3454bb307fa8fc9e99b28",
       "version_major": 2,
       "version_minor": 0
      },
      "text/plain": [
       "HBox(children=(IntProgress(value=0, max=2000), HTML(value='')))"
      ]
     },
     "metadata": {},
     "output_type": "display_data"
    },
    {
     "name": "stdout",
     "output_type": "stream",
     "text": [
      "\n"
     ]
    },
    {
     "data": {
      "application/vnd.jupyter.widget-view+json": {
       "model_id": "41177426a0e348ffa871605ab02e98ea",
       "version_major": 2,
       "version_minor": 0
      },
      "text/plain": [
       "HBox(children=(IntProgress(value=0, max=10000), HTML(value='')))"
      ]
     },
     "metadata": {},
     "output_type": "display_data"
    },
    {
     "name": "stdout",
     "output_type": "stream",
     "text": [
      "\n"
     ]
    },
    {
     "data": {
      "application/vnd.jupyter.widget-view+json": {
       "model_id": "0601ca35b5d847908079f6f660675deb",
       "version_major": 2,
       "version_minor": 0
      },
      "text/plain": [
       "HBox(children=(IntProgress(value=0, max=2000), HTML(value='')))"
      ]
     },
     "metadata": {},
     "output_type": "display_data"
    },
    {
     "name": "stdout",
     "output_type": "stream",
     "text": [
      "\n"
     ]
    },
    {
     "data": {
      "application/vnd.jupyter.widget-view+json": {
       "model_id": "3cbc951eff4d4fd99394bda655915b75",
       "version_major": 2,
       "version_minor": 0
      },
      "text/plain": [
       "HBox(children=(IntProgress(value=0, max=10000), HTML(value='')))"
      ]
     },
     "metadata": {},
     "output_type": "display_data"
    },
    {
     "name": "stdout",
     "output_type": "stream",
     "text": [
      "\n"
     ]
    },
    {
     "data": {
      "application/vnd.jupyter.widget-view+json": {
       "model_id": "a2aca932f70b432b9b591db21233695e",
       "version_major": 2,
       "version_minor": 0
      },
      "text/plain": [
       "HBox(children=(IntProgress(value=0, max=2000), HTML(value='')))"
      ]
     },
     "metadata": {},
     "output_type": "display_data"
    },
    {
     "name": "stdout",
     "output_type": "stream",
     "text": [
      "\n"
     ]
    },
    {
     "data": {
      "application/vnd.jupyter.widget-view+json": {
       "model_id": "96e7725faedb4b47962f0afa0b92dbed",
       "version_major": 2,
       "version_minor": 0
      },
      "text/plain": [
       "HBox(children=(IntProgress(value=0, max=10000), HTML(value='')))"
      ]
     },
     "metadata": {},
     "output_type": "display_data"
    },
    {
     "name": "stdout",
     "output_type": "stream",
     "text": [
      "\n"
     ]
    },
    {
     "data": {
      "application/vnd.jupyter.widget-view+json": {
       "model_id": "50353b9df0bb4e39b662a568f5a85da8",
       "version_major": 2,
       "version_minor": 0
      },
      "text/plain": [
       "HBox(children=(IntProgress(value=0, max=2000), HTML(value='')))"
      ]
     },
     "metadata": {},
     "output_type": "display_data"
    },
    {
     "name": "stdout",
     "output_type": "stream",
     "text": [
      "\n"
     ]
    },
    {
     "data": {
      "application/vnd.jupyter.widget-view+json": {
       "model_id": "f45469fcd30c4ae795b1558cd0cda801",
       "version_major": 2,
       "version_minor": 0
      },
      "text/plain": [
       "HBox(children=(IntProgress(value=0, max=10000), HTML(value='')))"
      ]
     },
     "metadata": {},
     "output_type": "display_data"
    },
    {
     "name": "stdout",
     "output_type": "stream",
     "text": [
      "\n"
     ]
    },
    {
     "data": {
      "application/vnd.jupyter.widget-view+json": {
       "model_id": "3595ef8b58124f228c8a0746f88d6e35",
       "version_major": 2,
       "version_minor": 0
      },
      "text/plain": [
       "HBox(children=(IntProgress(value=0, max=2000), HTML(value='')))"
      ]
     },
     "metadata": {},
     "output_type": "display_data"
    },
    {
     "name": "stdout",
     "output_type": "stream",
     "text": [
      "\n"
     ]
    },
    {
     "data": {
      "application/vnd.jupyter.widget-view+json": {
       "model_id": "a813ea6a0e2e449ab06f6fb9cfe01595",
       "version_major": 2,
       "version_minor": 0
      },
      "text/plain": [
       "HBox(children=(IntProgress(value=0, max=10000), HTML(value='')))"
      ]
     },
     "metadata": {},
     "output_type": "display_data"
    },
    {
     "name": "stdout",
     "output_type": "stream",
     "text": [
      "\n"
     ]
    },
    {
     "data": {
      "application/vnd.jupyter.widget-view+json": {
       "model_id": "9d38e057efe04b8fb0bb74cef116c032",
       "version_major": 2,
       "version_minor": 0
      },
      "text/plain": [
       "HBox(children=(IntProgress(value=0, max=2000), HTML(value='')))"
      ]
     },
     "metadata": {},
     "output_type": "display_data"
    },
    {
     "name": "stdout",
     "output_type": "stream",
     "text": [
      "\n"
     ]
    },
    {
     "data": {
      "application/vnd.jupyter.widget-view+json": {
       "model_id": "affb6f7fa8a547408571cbac2db6b7d9",
       "version_major": 2,
       "version_minor": 0
      },
      "text/plain": [
       "HBox(children=(IntProgress(value=0, max=10000), HTML(value='')))"
      ]
     },
     "metadata": {},
     "output_type": "display_data"
    },
    {
     "name": "stdout",
     "output_type": "stream",
     "text": [
      "\n"
     ]
    },
    {
     "data": {
      "application/vnd.jupyter.widget-view+json": {
       "model_id": "7acbc4a5d9744f9296f0b3d1bd47af4e",
       "version_major": 2,
       "version_minor": 0
      },
      "text/plain": [
       "HBox(children=(IntProgress(value=0, max=2000), HTML(value='')))"
      ]
     },
     "metadata": {},
     "output_type": "display_data"
    },
    {
     "name": "stdout",
     "output_type": "stream",
     "text": [
      "\n"
     ]
    },
    {
     "data": {
      "application/vnd.jupyter.widget-view+json": {
       "model_id": "2b51ffc547244e5d80b07b9cd10227bc",
       "version_major": 2,
       "version_minor": 0
      },
      "text/plain": [
       "HBox(children=(IntProgress(value=0, max=10000), HTML(value='')))"
      ]
     },
     "metadata": {},
     "output_type": "display_data"
    },
    {
     "name": "stdout",
     "output_type": "stream",
     "text": [
      "\n"
     ]
    },
    {
     "data": {
      "application/vnd.jupyter.widget-view+json": {
       "model_id": "8fa6105d0dfb4c608a1b6ea4917a1a23",
       "version_major": 2,
       "version_minor": 0
      },
      "text/plain": [
       "HBox(children=(IntProgress(value=0, max=2000), HTML(value='')))"
      ]
     },
     "metadata": {},
     "output_type": "display_data"
    },
    {
     "name": "stdout",
     "output_type": "stream",
     "text": [
      "\n"
     ]
    },
    {
     "data": {
      "application/vnd.jupyter.widget-view+json": {
       "model_id": "ca79d03f02c54566bb5abd111a38898e",
       "version_major": 2,
       "version_minor": 0
      },
      "text/plain": [
       "HBox(children=(IntProgress(value=0, max=10000), HTML(value='')))"
      ]
     },
     "metadata": {},
     "output_type": "display_data"
    },
    {
     "name": "stdout",
     "output_type": "stream",
     "text": [
      "\n"
     ]
    },
    {
     "data": {
      "application/vnd.jupyter.widget-view+json": {
       "model_id": "4b196b165bc64f69b29f827dcbe5a963",
       "version_major": 2,
       "version_minor": 0
      },
      "text/plain": [
       "HBox(children=(IntProgress(value=0, max=2000), HTML(value='')))"
      ]
     },
     "metadata": {},
     "output_type": "display_data"
    },
    {
     "name": "stdout",
     "output_type": "stream",
     "text": [
      "\n"
     ]
    },
    {
     "data": {
      "application/vnd.jupyter.widget-view+json": {
       "model_id": "95387dff192b480390087a019d49b91b",
       "version_major": 2,
       "version_minor": 0
      },
      "text/plain": [
       "HBox(children=(IntProgress(value=0, max=10000), HTML(value='')))"
      ]
     },
     "metadata": {},
     "output_type": "display_data"
    },
    {
     "name": "stdout",
     "output_type": "stream",
     "text": [
      "\n"
     ]
    },
    {
     "data": {
      "application/vnd.jupyter.widget-view+json": {
       "model_id": "361018c50670488faec11894efa5e745",
       "version_major": 2,
       "version_minor": 0
      },
      "text/plain": [
       "HBox(children=(IntProgress(value=0, max=2000), HTML(value='')))"
      ]
     },
     "metadata": {},
     "output_type": "display_data"
    },
    {
     "name": "stdout",
     "output_type": "stream",
     "text": [
      "\n"
     ]
    },
    {
     "data": {
      "application/vnd.jupyter.widget-view+json": {
       "model_id": "4f8b665bb3c541c1bc87e8c85a31b188",
       "version_major": 2,
       "version_minor": 0
      },
      "text/plain": [
       "HBox(children=(IntProgress(value=0, max=10000), HTML(value='')))"
      ]
     },
     "metadata": {},
     "output_type": "display_data"
    },
    {
     "name": "stdout",
     "output_type": "stream",
     "text": [
      "\n"
     ]
    },
    {
     "data": {
      "application/vnd.jupyter.widget-view+json": {
       "model_id": "4284ec465fc040c697c544ed3b5a0f8b",
       "version_major": 2,
       "version_minor": 0
      },
      "text/plain": [
       "HBox(children=(IntProgress(value=0, max=2000), HTML(value='')))"
      ]
     },
     "metadata": {},
     "output_type": "display_data"
    },
    {
     "name": "stdout",
     "output_type": "stream",
     "text": [
      "\n"
     ]
    },
    {
     "data": {
      "application/vnd.jupyter.widget-view+json": {
       "model_id": "895ae9d7e28547489509d5e8f784c3de",
       "version_major": 2,
       "version_minor": 0
      },
      "text/plain": [
       "HBox(children=(IntProgress(value=0, max=10000), HTML(value='')))"
      ]
     },
     "metadata": {},
     "output_type": "display_data"
    },
    {
     "name": "stdout",
     "output_type": "stream",
     "text": [
      "\n"
     ]
    },
    {
     "data": {
      "application/vnd.jupyter.widget-view+json": {
       "model_id": "8e733810d47044e2ab98f44e0e2fbdeb",
       "version_major": 2,
       "version_minor": 0
      },
      "text/plain": [
       "HBox(children=(IntProgress(value=0, max=2000), HTML(value='')))"
      ]
     },
     "metadata": {},
     "output_type": "display_data"
    },
    {
     "name": "stdout",
     "output_type": "stream",
     "text": [
      "\n"
     ]
    },
    {
     "data": {
      "application/vnd.jupyter.widget-view+json": {
       "model_id": "11331f8fd22c48b3a5362a90c3f26ca5",
       "version_major": 2,
       "version_minor": 0
      },
      "text/plain": [
       "HBox(children=(IntProgress(value=0, max=10000), HTML(value='')))"
      ]
     },
     "metadata": {},
     "output_type": "display_data"
    },
    {
     "name": "stdout",
     "output_type": "stream",
     "text": [
      "\n"
     ]
    },
    {
     "data": {
      "application/vnd.jupyter.widget-view+json": {
       "model_id": "a631fbd413204fb9b8c25e8a8022ce06",
       "version_major": 2,
       "version_minor": 0
      },
      "text/plain": [
       "HBox(children=(IntProgress(value=0, max=2000), HTML(value='')))"
      ]
     },
     "metadata": {},
     "output_type": "display_data"
    },
    {
     "name": "stdout",
     "output_type": "stream",
     "text": [
      "\n"
     ]
    },
    {
     "data": {
      "application/vnd.jupyter.widget-view+json": {
       "model_id": "d8d197a346fd40ca94a3a3bd027b168b",
       "version_major": 2,
       "version_minor": 0
      },
      "text/plain": [
       "HBox(children=(IntProgress(value=0, max=10000), HTML(value='')))"
      ]
     },
     "metadata": {},
     "output_type": "display_data"
    },
    {
     "name": "stdout",
     "output_type": "stream",
     "text": [
      "\n"
     ]
    },
    {
     "data": {
      "application/vnd.jupyter.widget-view+json": {
       "model_id": "dff99687cd194aff904267efce31d901",
       "version_major": 2,
       "version_minor": 0
      },
      "text/plain": [
       "HBox(children=(IntProgress(value=0, max=2000), HTML(value='')))"
      ]
     },
     "metadata": {},
     "output_type": "display_data"
    },
    {
     "name": "stdout",
     "output_type": "stream",
     "text": [
      "\n"
     ]
    },
    {
     "data": {
      "application/vnd.jupyter.widget-view+json": {
       "model_id": "226e1416e40740f09138f235479208dd",
       "version_major": 2,
       "version_minor": 0
      },
      "text/plain": [
       "HBox(children=(IntProgress(value=0, max=10000), HTML(value='')))"
      ]
     },
     "metadata": {},
     "output_type": "display_data"
    },
    {
     "name": "stdout",
     "output_type": "stream",
     "text": [
      "\n"
     ]
    },
    {
     "data": {
      "application/vnd.jupyter.widget-view+json": {
       "model_id": "5a629a8b080d4a1c8b028215a0497f7a",
       "version_major": 2,
       "version_minor": 0
      },
      "text/plain": [
       "HBox(children=(IntProgress(value=0, max=2000), HTML(value='')))"
      ]
     },
     "metadata": {},
     "output_type": "display_data"
    },
    {
     "name": "stdout",
     "output_type": "stream",
     "text": [
      "\n"
     ]
    },
    {
     "data": {
      "application/vnd.jupyter.widget-view+json": {
       "model_id": "73b46d32d2864e9b9a415c0ea9270f03",
       "version_major": 2,
       "version_minor": 0
      },
      "text/plain": [
       "HBox(children=(IntProgress(value=0, max=10000), HTML(value='')))"
      ]
     },
     "metadata": {},
     "output_type": "display_data"
    },
    {
     "name": "stdout",
     "output_type": "stream",
     "text": [
      "\n"
     ]
    },
    {
     "data": {
      "application/vnd.jupyter.widget-view+json": {
       "model_id": "10da34c8cf4345028bed886ce1f44414",
       "version_major": 2,
       "version_minor": 0
      },
      "text/plain": [
       "HBox(children=(IntProgress(value=0, max=2000), HTML(value='')))"
      ]
     },
     "metadata": {},
     "output_type": "display_data"
    },
    {
     "name": "stdout",
     "output_type": "stream",
     "text": [
      "\n"
     ]
    },
    {
     "data": {
      "application/vnd.jupyter.widget-view+json": {
       "model_id": "336c29d479da478e9bfed39ef3aa4992",
       "version_major": 2,
       "version_minor": 0
      },
      "text/plain": [
       "HBox(children=(IntProgress(value=0, max=10000), HTML(value='')))"
      ]
     },
     "metadata": {},
     "output_type": "display_data"
    },
    {
     "name": "stdout",
     "output_type": "stream",
     "text": [
      "\n"
     ]
    },
    {
     "data": {
      "application/vnd.jupyter.widget-view+json": {
       "model_id": "fc50250eedcd4a92869331ded04af4e7",
       "version_major": 2,
       "version_minor": 0
      },
      "text/plain": [
       "HBox(children=(IntProgress(value=0, max=2000), HTML(value='')))"
      ]
     },
     "metadata": {},
     "output_type": "display_data"
    },
    {
     "name": "stdout",
     "output_type": "stream",
     "text": [
      "\n"
     ]
    },
    {
     "data": {
      "application/vnd.jupyter.widget-view+json": {
       "model_id": "513f152a17c94f30b574e2111f6383d1",
       "version_major": 2,
       "version_minor": 0
      },
      "text/plain": [
       "HBox(children=(IntProgress(value=0, max=10000), HTML(value='')))"
      ]
     },
     "metadata": {},
     "output_type": "display_data"
    },
    {
     "name": "stdout",
     "output_type": "stream",
     "text": [
      "\n"
     ]
    },
    {
     "data": {
      "application/vnd.jupyter.widget-view+json": {
       "model_id": "f69aa897b4fc42a5a85068587086ccb6",
       "version_major": 2,
       "version_minor": 0
      },
      "text/plain": [
       "HBox(children=(IntProgress(value=0, max=2000), HTML(value='')))"
      ]
     },
     "metadata": {},
     "output_type": "display_data"
    },
    {
     "name": "stdout",
     "output_type": "stream",
     "text": [
      "\n"
     ]
    },
    {
     "data": {
      "application/vnd.jupyter.widget-view+json": {
       "model_id": "4c6b750a2631459684f0fa30f324e5ca",
       "version_major": 2,
       "version_minor": 0
      },
      "text/plain": [
       "HBox(children=(IntProgress(value=0, max=10000), HTML(value='')))"
      ]
     },
     "metadata": {},
     "output_type": "display_data"
    },
    {
     "name": "stdout",
     "output_type": "stream",
     "text": [
      "\n"
     ]
    },
    {
     "name": "stderr",
     "output_type": "stream",
     "text": [
      "C:\\ProgramData\\Anaconda3\\lib\\site-packages\\matplotlib\\figure.py:98: MatplotlibDeprecationWarning: \n",
      "Adding an axes using the same arguments as a previous axes currently reuses the earlier instance.  In a future version, a new instance will always be created and returned.  Meanwhile, this warning can be suppressed, and the future behavior ensured, by passing a unique label to each axes instance.\n",
      "  \"Adding an axes using the same arguments as a previous axes \"\n",
      "C:\\ProgramData\\Anaconda3\\lib\\site-packages\\matplotlib\\figure.py:98: MatplotlibDeprecationWarning: \n",
      "Adding an axes using the same arguments as a previous axes currently reuses the earlier instance.  In a future version, a new instance will always be created and returned.  Meanwhile, this warning can be suppressed, and the future behavior ensured, by passing a unique label to each axes instance.\n",
      "  \"Adding an axes using the same arguments as a previous axes \"\n",
      "C:\\ProgramData\\Anaconda3\\lib\\site-packages\\matplotlib\\figure.py:98: MatplotlibDeprecationWarning: \n",
      "Adding an axes using the same arguments as a previous axes currently reuses the earlier instance.  In a future version, a new instance will always be created and returned.  Meanwhile, this warning can be suppressed, and the future behavior ensured, by passing a unique label to each axes instance.\n",
      "  \"Adding an axes using the same arguments as a previous axes \"\n"
     ]
    },
    {
     "data": {
      "application/vnd.jupyter.widget-view+json": {
       "model_id": "f738cb5885b34592bbf2e915084c0758",
       "version_major": 2,
       "version_minor": 0
      },
      "text/plain": [
       "HBox(children=(IntProgress(value=0, max=2000), HTML(value='')))"
      ]
     },
     "metadata": {},
     "output_type": "display_data"
    },
    {
     "name": "stdout",
     "output_type": "stream",
     "text": [
      "\n"
     ]
    },
    {
     "data": {
      "application/vnd.jupyter.widget-view+json": {
       "model_id": "9ed7e94fc05a408aace0963e9eae284f",
       "version_major": 2,
       "version_minor": 0
      },
      "text/plain": [
       "HBox(children=(IntProgress(value=0, max=10000), HTML(value='')))"
      ]
     },
     "metadata": {},
     "output_type": "display_data"
    },
    {
     "name": "stdout",
     "output_type": "stream",
     "text": [
      "\n"
     ]
    },
    {
     "data": {
      "application/vnd.jupyter.widget-view+json": {
       "model_id": "4527f2f00a824adaa63ca012fdbc0351",
       "version_major": 2,
       "version_minor": 0
      },
      "text/plain": [
       "HBox(children=(IntProgress(value=0, max=2000), HTML(value='')))"
      ]
     },
     "metadata": {},
     "output_type": "display_data"
    },
    {
     "name": "stdout",
     "output_type": "stream",
     "text": [
      "\n"
     ]
    },
    {
     "data": {
      "application/vnd.jupyter.widget-view+json": {
       "model_id": "4ed44171fc134146a76d459c6a301b70",
       "version_major": 2,
       "version_minor": 0
      },
      "text/plain": [
       "HBox(children=(IntProgress(value=0, max=10000), HTML(value='')))"
      ]
     },
     "metadata": {},
     "output_type": "display_data"
    },
    {
     "name": "stdout",
     "output_type": "stream",
     "text": [
      "\n"
     ]
    },
    {
     "data": {
      "application/vnd.jupyter.widget-view+json": {
       "model_id": "58f3ab443b8c4104ab11c0781d54fecf",
       "version_major": 2,
       "version_minor": 0
      },
      "text/plain": [
       "HBox(children=(IntProgress(value=0, max=2000), HTML(value='')))"
      ]
     },
     "metadata": {},
     "output_type": "display_data"
    },
    {
     "name": "stdout",
     "output_type": "stream",
     "text": [
      "\n"
     ]
    },
    {
     "data": {
      "application/vnd.jupyter.widget-view+json": {
       "model_id": "e60d32ce34a14914aef27bb0782f90d0",
       "version_major": 2,
       "version_minor": 0
      },
      "text/plain": [
       "HBox(children=(IntProgress(value=0, max=10000), HTML(value='')))"
      ]
     },
     "metadata": {},
     "output_type": "display_data"
    },
    {
     "name": "stdout",
     "output_type": "stream",
     "text": [
      "\n"
     ]
    },
    {
     "data": {
      "application/vnd.jupyter.widget-view+json": {
       "model_id": "061794aa8d4c4c0b967b20f1f96c0af7",
       "version_major": 2,
       "version_minor": 0
      },
      "text/plain": [
       "HBox(children=(IntProgress(value=0, max=2000), HTML(value='')))"
      ]
     },
     "metadata": {},
     "output_type": "display_data"
    },
    {
     "name": "stdout",
     "output_type": "stream",
     "text": [
      "\n"
     ]
    },
    {
     "data": {
      "application/vnd.jupyter.widget-view+json": {
       "model_id": "c3b55371ea604846b5dd2c45ed99070e",
       "version_major": 2,
       "version_minor": 0
      },
      "text/plain": [
       "HBox(children=(IntProgress(value=0, max=10000), HTML(value='')))"
      ]
     },
     "metadata": {},
     "output_type": "display_data"
    },
    {
     "name": "stdout",
     "output_type": "stream",
     "text": [
      "\n"
     ]
    },
    {
     "data": {
      "application/vnd.jupyter.widget-view+json": {
       "model_id": "4e5e07a266f746ec85f419bef226a760",
       "version_major": 2,
       "version_minor": 0
      },
      "text/plain": [
       "HBox(children=(IntProgress(value=0, max=2000), HTML(value='')))"
      ]
     },
     "metadata": {},
     "output_type": "display_data"
    },
    {
     "name": "stdout",
     "output_type": "stream",
     "text": [
      "\n"
     ]
    },
    {
     "data": {
      "application/vnd.jupyter.widget-view+json": {
       "model_id": "7342c2823e8b4941912cd7df7c378f9c",
       "version_major": 2,
       "version_minor": 0
      },
      "text/plain": [
       "HBox(children=(IntProgress(value=0, max=10000), HTML(value='')))"
      ]
     },
     "metadata": {},
     "output_type": "display_data"
    },
    {
     "name": "stdout",
     "output_type": "stream",
     "text": [
      "\n"
     ]
    },
    {
     "data": {
      "application/vnd.jupyter.widget-view+json": {
       "model_id": "1609ebdca50c4b2a9a0eeb9a3cdb20bd",
       "version_major": 2,
       "version_minor": 0
      },
      "text/plain": [
       "HBox(children=(IntProgress(value=0, max=2000), HTML(value='')))"
      ]
     },
     "metadata": {},
     "output_type": "display_data"
    },
    {
     "name": "stdout",
     "output_type": "stream",
     "text": [
      "\n"
     ]
    },
    {
     "data": {
      "application/vnd.jupyter.widget-view+json": {
       "model_id": "81ec0d0d045b47458b772e0152ab2dbc",
       "version_major": 2,
       "version_minor": 0
      },
      "text/plain": [
       "HBox(children=(IntProgress(value=0, max=10000), HTML(value='')))"
      ]
     },
     "metadata": {},
     "output_type": "display_data"
    },
    {
     "name": "stdout",
     "output_type": "stream",
     "text": [
      "\n"
     ]
    },
    {
     "data": {
      "application/vnd.jupyter.widget-view+json": {
       "model_id": "9b620de9f08344d8b7658ad362fd579f",
       "version_major": 2,
       "version_minor": 0
      },
      "text/plain": [
       "HBox(children=(IntProgress(value=0, max=2000), HTML(value='')))"
      ]
     },
     "metadata": {},
     "output_type": "display_data"
    },
    {
     "name": "stdout",
     "output_type": "stream",
     "text": [
      "\n"
     ]
    },
    {
     "data": {
      "application/vnd.jupyter.widget-view+json": {
       "model_id": "c5b468cede96434180a4f4bd712d96cc",
       "version_major": 2,
       "version_minor": 0
      },
      "text/plain": [
       "HBox(children=(IntProgress(value=0, max=10000), HTML(value='')))"
      ]
     },
     "metadata": {},
     "output_type": "display_data"
    },
    {
     "name": "stdout",
     "output_type": "stream",
     "text": [
      "\n"
     ]
    },
    {
     "data": {
      "application/vnd.jupyter.widget-view+json": {
       "model_id": "207f15eabf2e484eb5fe0bc63c34d1e9",
       "version_major": 2,
       "version_minor": 0
      },
      "text/plain": [
       "HBox(children=(IntProgress(value=0, max=2000), HTML(value='')))"
      ]
     },
     "metadata": {},
     "output_type": "display_data"
    },
    {
     "name": "stdout",
     "output_type": "stream",
     "text": [
      "\n"
     ]
    },
    {
     "data": {
      "application/vnd.jupyter.widget-view+json": {
       "model_id": "9af20ba0844e4c9cb8f2d4416e646a12",
       "version_major": 2,
       "version_minor": 0
      },
      "text/plain": [
       "HBox(children=(IntProgress(value=0, max=10000), HTML(value='')))"
      ]
     },
     "metadata": {},
     "output_type": "display_data"
    },
    {
     "name": "stdout",
     "output_type": "stream",
     "text": [
      "\n"
     ]
    },
    {
     "data": {
      "application/vnd.jupyter.widget-view+json": {
       "model_id": "65ed391e45194ca8b4189cfac507e622",
       "version_major": 2,
       "version_minor": 0
      },
      "text/plain": [
       "HBox(children=(IntProgress(value=0, max=2000), HTML(value='')))"
      ]
     },
     "metadata": {},
     "output_type": "display_data"
    },
    {
     "name": "stdout",
     "output_type": "stream",
     "text": [
      "\n"
     ]
    },
    {
     "data": {
      "application/vnd.jupyter.widget-view+json": {
       "model_id": "b051259497854f079a1d0e3cb8e9bf1b",
       "version_major": 2,
       "version_minor": 0
      },
      "text/plain": [
       "HBox(children=(IntProgress(value=0, max=10000), HTML(value='')))"
      ]
     },
     "metadata": {},
     "output_type": "display_data"
    },
    {
     "name": "stdout",
     "output_type": "stream",
     "text": [
      "\n"
     ]
    },
    {
     "data": {
      "application/vnd.jupyter.widget-view+json": {
       "model_id": "a7d78e8f2ce3401393db5393de16b95f",
       "version_major": 2,
       "version_minor": 0
      },
      "text/plain": [
       "HBox(children=(IntProgress(value=0, max=2000), HTML(value='')))"
      ]
     },
     "metadata": {},
     "output_type": "display_data"
    },
    {
     "name": "stdout",
     "output_type": "stream",
     "text": [
      "\n"
     ]
    },
    {
     "data": {
      "application/vnd.jupyter.widget-view+json": {
       "model_id": "5cb0d5ebdc044858b224cebd4dd86f86",
       "version_major": 2,
       "version_minor": 0
      },
      "text/plain": [
       "HBox(children=(IntProgress(value=0, max=10000), HTML(value='')))"
      ]
     },
     "metadata": {},
     "output_type": "display_data"
    },
    {
     "name": "stdout",
     "output_type": "stream",
     "text": [
      "\n"
     ]
    },
    {
     "name": "stderr",
     "output_type": "stream",
     "text": [
      "C:\\ProgramData\\Anaconda3\\lib\\site-packages\\matplotlib\\figure.py:98: MatplotlibDeprecationWarning: \n",
      "Adding an axes using the same arguments as a previous axes currently reuses the earlier instance.  In a future version, a new instance will always be created and returned.  Meanwhile, this warning can be suppressed, and the future behavior ensured, by passing a unique label to each axes instance.\n",
      "  \"Adding an axes using the same arguments as a previous axes \"\n",
      "C:\\ProgramData\\Anaconda3\\lib\\site-packages\\matplotlib\\figure.py:98: MatplotlibDeprecationWarning: \n",
      "Adding an axes using the same arguments as a previous axes currently reuses the earlier instance.  In a future version, a new instance will always be created and returned.  Meanwhile, this warning can be suppressed, and the future behavior ensured, by passing a unique label to each axes instance.\n",
      "  \"Adding an axes using the same arguments as a previous axes \"\n",
      "C:\\ProgramData\\Anaconda3\\lib\\site-packages\\matplotlib\\figure.py:98: MatplotlibDeprecationWarning: \n",
      "Adding an axes using the same arguments as a previous axes currently reuses the earlier instance.  In a future version, a new instance will always be created and returned.  Meanwhile, this warning can be suppressed, and the future behavior ensured, by passing a unique label to each axes instance.\n",
      "  \"Adding an axes using the same arguments as a previous axes \"\n"
     ]
    },
    {
     "data": {
      "image/png": "[encoded data removed]",
      "text/plain": [
       "<Figure size 432x648 with 3 Axes>"
      ]
     },
     "metadata": {
      "needs_background": "light"
     },
     "output_type": "display_data"
    }
   ],
   "source": [
    "import neurosimulator as ns\n",
    "import numpy as np\n",
    "from matplotlib import pyplot as plt\n",
    "from populations import Striatum\n",
    "\n",
    "fig, axs = plt.subplots(3,1,figsize=(6,9))\n",
    "for i in range(len(axs)):\n",
    "    axs[i].set_yscale('log')\n",
    "\n",
    "CWmods = np.array([-6, -9, -12])\n",
    "for mod in range(len(CWmods)):\n",
    "    Striatum.CW[2,2] = CWmods[mod]\n",
    "    Striatum.MeanIx[2] = 21.\n",
    "    dsp = np.array([])\n",
    "    isp = np.array([])\n",
    "    fsi = np.array([])\n",
    "    for i in range(10):\n",
    "        ns.initNetwork(Striatum)\n",
    "        ns.rundynamics(200);\n",
    "        ns.rundynamics(1000);\n",
    "        dsp = np.append(dsp, ns.Neuron.SpikeCount[ns.Neuron.Tag==0])\n",
    "        isp = np.append(isp, ns.Neuron.SpikeCount[ns.Neuron.Tag==1])\n",
    "        fsi = np.append(fsi, ns.Neuron.SpikeCount[ns.Neuron.Tag==2])\n",
    "\n",
    "\n",
    "    \n",
    "    plt.subplot(3,1,1)\n",
    "    plotPDF(dsp)\n",
    "    plt.subplot(3,1,2)\n",
    "    plotPDF(isp)\n",
    "    plt.subplot(3,1,3)\n",
    "    plotPDF(fsi)\n",
    "\n",
    "plt.tight_layout()\n",
    "plt.show()\n"
   ]
  },
  {
   "cell_type": "markdown",
   "metadata": {},
   "source": [
    "## Increasing GABA"
   ]
  },
  {
   "cell_type": "code",
   "execution_count": 48,
   "metadata": {},
   "outputs": [
    {
     "data": {
      "application/vnd.jupyter.widget-view+json": {
       "model_id": "31e2f620c4804e02a737a77ac495083b",
       "version_major": 2,
       "version_minor": 0
      },
      "text/plain": [
       "HBox(children=(IntProgress(value=0, max=2000), HTML(value='')))"
      ]
     },
     "metadata": {},
     "output_type": "display_data"
    },
    {
     "name": "stdout",
     "output_type": "stream",
     "text": [
      "\n"
     ]
    },
    {
     "data": {
      "application/vnd.jupyter.widget-view+json": {
       "model_id": "1a4f1d2209df4ad6bb640c389fc30e08",
       "version_major": 2,
       "version_minor": 0
      },
      "text/plain": [
       "HBox(children=(IntProgress(value=0, max=10000), HTML(value='')))"
      ]
     },
     "metadata": {},
     "output_type": "display_data"
    },
    {
     "name": "stdout",
     "output_type": "stream",
     "text": [
      "\n"
     ]
    },
    {
     "data": {
      "application/vnd.jupyter.widget-view+json": {
       "model_id": "2622a40397784adbb9c09df7cd5e6f0c",
       "version_major": 2,
       "version_minor": 0
      },
      "text/plain": [
       "HBox(children=(IntProgress(value=0, max=2000), HTML(value='')))"
      ]
     },
     "metadata": {},
     "output_type": "display_data"
    },
    {
     "name": "stdout",
     "output_type": "stream",
     "text": [
      "\n"
     ]
    },
    {
     "data": {
      "application/vnd.jupyter.widget-view+json": {
       "model_id": "5d02b181f25243b8ac6a3235cd0eb5e4",
       "version_major": 2,
       "version_minor": 0
      },
      "text/plain": [
       "HBox(children=(IntProgress(value=0, max=10000), HTML(value='')))"
      ]
     },
     "metadata": {},
     "output_type": "display_data"
    },
    {
     "name": "stdout",
     "output_type": "stream",
     "text": [
      "\n"
     ]
    },
    {
     "data": {
      "application/vnd.jupyter.widget-view+json": {
       "model_id": "7f5025baf10547cf9c9fa049559815b9",
       "version_major": 2,
       "version_minor": 0
      },
      "text/plain": [
       "HBox(children=(IntProgress(value=0, max=2000), HTML(value='')))"
      ]
     },
     "metadata": {},
     "output_type": "display_data"
    },
    {
     "name": "stdout",
     "output_type": "stream",
     "text": [
      "\n"
     ]
    },
    {
     "data": {
      "application/vnd.jupyter.widget-view+json": {
       "model_id": "85baada832eb47e181573d1e08056eb9",
       "version_major": 2,
       "version_minor": 0
      },
      "text/plain": [
       "HBox(children=(IntProgress(value=0, max=10000), HTML(value='')))"
      ]
     },
     "metadata": {},
     "output_type": "display_data"
    },
    {
     "name": "stdout",
     "output_type": "stream",
     "text": [
      "\n"
     ]
    },
    {
     "data": {
      "application/vnd.jupyter.widget-view+json": {
       "model_id": "3bb65d70645a476db05315e50c1a165b",
       "version_major": 2,
       "version_minor": 0
      },
      "text/plain": [
       "HBox(children=(IntProgress(value=0, max=2000), HTML(value='')))"
      ]
     },
     "metadata": {},
     "output_type": "display_data"
    },
    {
     "name": "stdout",
     "output_type": "stream",
     "text": [
      "\n"
     ]
    },
    {
     "data": {
      "application/vnd.jupyter.widget-view+json": {
       "model_id": "838ac7e1cf454401bf6b771cca09dd55",
       "version_major": 2,
       "version_minor": 0
      },
      "text/plain": [
       "HBox(children=(IntProgress(value=0, max=10000), HTML(value='')))"
      ]
     },
     "metadata": {},
     "output_type": "display_data"
    },
    {
     "name": "stdout",
     "output_type": "stream",
     "text": [
      "\n"
     ]
    },
    {
     "data": {
      "application/vnd.jupyter.widget-view+json": {
       "model_id": "412bf96b94f14f0293a5f69675af5bb0",
       "version_major": 2,
       "version_minor": 0
      },
      "text/plain": [
       "HBox(children=(IntProgress(value=0, max=2000), HTML(value='')))"
      ]
     },
     "metadata": {},
     "output_type": "display_data"
    },
    {
     "name": "stdout",
     "output_type": "stream",
     "text": [
      "\n"
     ]
    },
    {
     "data": {
      "application/vnd.jupyter.widget-view+json": {
       "model_id": "f715d72a5e34451fa0c672a8a620a01b",
       "version_major": 2,
       "version_minor": 0
      },
      "text/plain": [
       "HBox(children=(IntProgress(value=0, max=10000), HTML(value='')))"
      ]
     },
     "metadata": {},
     "output_type": "display_data"
    },
    {
     "name": "stdout",
     "output_type": "stream",
     "text": [
      "\n"
     ]
    },
    {
     "data": {
      "application/vnd.jupyter.widget-view+json": {
       "model_id": "d43aada2693840c0b0f4f0d82774d0e3",
       "version_major": 2,
       "version_minor": 0
      },
      "text/plain": [
       "HBox(children=(IntProgress(value=0, max=2000), HTML(value='')))"
      ]
     },
     "metadata": {},
     "output_type": "display_data"
    },
    {
     "name": "stdout",
     "output_type": "stream",
     "text": [
      "\n"
     ]
    },
    {
     "data": {
      "application/vnd.jupyter.widget-view+json": {
       "model_id": "a0e8ec576d714515866b0a739ab144db",
       "version_major": 2,
       "version_minor": 0
      },
      "text/plain": [
       "HBox(children=(IntProgress(value=0, max=10000), HTML(value='')))"
      ]
     },
     "metadata": {},
     "output_type": "display_data"
    },
    {
     "name": "stdout",
     "output_type": "stream",
     "text": [
      "\n"
     ]
    },
    {
     "data": {
      "application/vnd.jupyter.widget-view+json": {
       "model_id": "f050c6a149ab4cdaba958d062270ad13",
       "version_major": 2,
       "version_minor": 0
      },
      "text/plain": [
       "HBox(children=(IntProgress(value=0, max=2000), HTML(value='')))"
      ]
     },
     "metadata": {},
     "output_type": "display_data"
    },
    {
     "name": "stdout",
     "output_type": "stream",
     "text": [
      "\n"
     ]
    },
    {
     "data": {
      "application/vnd.jupyter.widget-view+json": {
       "model_id": "64835321288d4bf1b87d49f936bb8322",
       "version_major": 2,
       "version_minor": 0
      },
      "text/plain": [
       "HBox(children=(IntProgress(value=0, max=10000), HTML(value='')))"
      ]
     },
     "metadata": {},
     "output_type": "display_data"
    },
    {
     "name": "stdout",
     "output_type": "stream",
     "text": [
      "\n"
     ]
    },
    {
     "data": {
      "application/vnd.jupyter.widget-view+json": {
       "model_id": "bdb42cbb269c4872bee0fce2d0d722af",
       "version_major": 2,
       "version_minor": 0
      },
      "text/plain": [
       "HBox(children=(IntProgress(value=0, max=2000), HTML(value='')))"
      ]
     },
     "metadata": {},
     "output_type": "display_data"
    },
    {
     "name": "stdout",
     "output_type": "stream",
     "text": [
      "\n"
     ]
    },
    {
     "data": {
      "application/vnd.jupyter.widget-view+json": {
       "model_id": "9c4093c0d7a24a468333046034a39402",
       "version_major": 2,
       "version_minor": 0
      },
      "text/plain": [
       "HBox(children=(IntProgress(value=0, max=10000), HTML(value='')))"
      ]
     },
     "metadata": {},
     "output_type": "display_data"
    },
    {
     "name": "stdout",
     "output_type": "stream",
     "text": [
      "\n"
     ]
    },
    {
     "data": {
      "application/vnd.jupyter.widget-view+json": {
       "model_id": "33a680f46f8f43098b116978aa5cbf0f",
       "version_major": 2,
       "version_minor": 0
      },
      "text/plain": [
       "HBox(children=(IntProgress(value=0, max=2000), HTML(value='')))"
      ]
     },
     "metadata": {},
     "output_type": "display_data"
    },
    {
     "name": "stdout",
     "output_type": "stream",
     "text": [
      "\n"
     ]
    },
    {
     "data": {
      "application/vnd.jupyter.widget-view+json": {
       "model_id": "6f0e52721a314c74918e926c49ac3ca0",
       "version_major": 2,
       "version_minor": 0
      },
      "text/plain": [
       "HBox(children=(IntProgress(value=0, max=10000), HTML(value='')))"
      ]
     },
     "metadata": {},
     "output_type": "display_data"
    },
    {
     "name": "stdout",
     "output_type": "stream",
     "text": [
      "\n"
     ]
    },
    {
     "data": {
      "application/vnd.jupyter.widget-view+json": {
       "model_id": "d0ec7331c0f54193b4889555043823df",
       "version_major": 2,
       "version_minor": 0
      },
      "text/plain": [
       "HBox(children=(IntProgress(value=0, max=2000), HTML(value='')))"
      ]
     },
     "metadata": {},
     "output_type": "display_data"
    },
    {
     "name": "stdout",
     "output_type": "stream",
     "text": [
      "\n"
     ]
    },
    {
     "data": {
      "application/vnd.jupyter.widget-view+json": {
       "model_id": "af2366625fb045d1b325ab03c0019f12",
       "version_major": 2,
       "version_minor": 0
      },
      "text/plain": [
       "HBox(children=(IntProgress(value=0, max=10000), HTML(value='')))"
      ]
     },
     "metadata": {},
     "output_type": "display_data"
    },
    {
     "name": "stdout",
     "output_type": "stream",
     "text": [
      "\n"
     ]
    },
    {
     "data": {
      "application/vnd.jupyter.widget-view+json": {
       "model_id": "10a1b202dbf0447b83f2be97d9961ec0",
       "version_major": 2,
       "version_minor": 0
      },
      "text/plain": [
       "HBox(children=(IntProgress(value=0, max=2000), HTML(value='')))"
      ]
     },
     "metadata": {},
     "output_type": "display_data"
    },
    {
     "name": "stdout",
     "output_type": "stream",
     "text": [
      "\n"
     ]
    },
    {
     "data": {
      "application/vnd.jupyter.widget-view+json": {
       "model_id": "ed70ba70299f4e469bba1716df654be3",
       "version_major": 2,
       "version_minor": 0
      },
      "text/plain": [
       "HBox(children=(IntProgress(value=0, max=10000), HTML(value='')))"
      ]
     },
     "metadata": {},
     "output_type": "display_data"
    },
    {
     "name": "stdout",
     "output_type": "stream",
     "text": [
      "\n"
     ]
    },
    {
     "data": {
      "application/vnd.jupyter.widget-view+json": {
       "model_id": "9c9341f42bab4f7f9333029703e11969",
       "version_major": 2,
       "version_minor": 0
      },
      "text/plain": [
       "HBox(children=(IntProgress(value=0, max=2000), HTML(value='')))"
      ]
     },
     "metadata": {},
     "output_type": "display_data"
    },
    {
     "name": "stdout",
     "output_type": "stream",
     "text": [
      "\n"
     ]
    },
    {
     "data": {
      "application/vnd.jupyter.widget-view+json": {
       "model_id": "7d8c336708fb46fb8ce760e009020966",
       "version_major": 2,
       "version_minor": 0
      },
      "text/plain": [
       "HBox(children=(IntProgress(value=0, max=10000), HTML(value='')))"
      ]
     },
     "metadata": {},
     "output_type": "display_data"
    },
    {
     "name": "stdout",
     "output_type": "stream",
     "text": [
      "\n"
     ]
    },
    {
     "data": {
      "application/vnd.jupyter.widget-view+json": {
       "model_id": "b9e32ec1c7c44d6bbd4f8a7d2c339510",
       "version_major": 2,
       "version_minor": 0
      },
      "text/plain": [
       "HBox(children=(IntProgress(value=0, max=2000), HTML(value='')))"
      ]
     },
     "metadata": {},
     "output_type": "display_data"
    },
    {
     "name": "stdout",
     "output_type": "stream",
     "text": [
      "\n"
     ]
    },
    {
     "data": {
      "application/vnd.jupyter.widget-view+json": {
       "model_id": "af90ee3706ba4a94989bb230368581b9",
       "version_major": 2,
       "version_minor": 0
      },
      "text/plain": [
       "HBox(children=(IntProgress(value=0, max=10000), HTML(value='')))"
      ]
     },
     "metadata": {},
     "output_type": "display_data"
    },
    {
     "name": "stdout",
     "output_type": "stream",
     "text": [
      "\n"
     ]
    },
    {
     "data": {
      "application/vnd.jupyter.widget-view+json": {
       "model_id": "448944074af94588b6028f83d628128c",
       "version_major": 2,
       "version_minor": 0
      },
      "text/plain": [
       "HBox(children=(IntProgress(value=0, max=2000), HTML(value='')))"
      ]
     },
     "metadata": {},
     "output_type": "display_data"
    },
    {
     "name": "stdout",
     "output_type": "stream",
     "text": [
      "\n"
     ]
    },
    {
     "data": {
      "application/vnd.jupyter.widget-view+json": {
       "model_id": "7f376f89961f46f1a481e593f4074ad5",
       "version_major": 2,
       "version_minor": 0
      },
      "text/plain": [
       "HBox(children=(IntProgress(value=0, max=10000), HTML(value='')))"
      ]
     },
     "metadata": {},
     "output_type": "display_data"
    },
    {
     "name": "stdout",
     "output_type": "stream",
     "text": [
      "\n"
     ]
    },
    {
     "data": {
      "application/vnd.jupyter.widget-view+json": {
       "model_id": "67fd525a2249453d9ed52f640604cfa1",
       "version_major": 2,
       "version_minor": 0
      },
      "text/plain": [
       "HBox(children=(IntProgress(value=0, max=2000), HTML(value='')))"
      ]
     },
     "metadata": {},
     "output_type": "display_data"
    },
    {
     "name": "stdout",
     "output_type": "stream",
     "text": [
      "\n"
     ]
    },
    {
     "data": {
      "application/vnd.jupyter.widget-view+json": {
       "model_id": "9c60302f10844900bfadf5b7c52083f9",
       "version_major": 2,
       "version_minor": 0
      },
      "text/plain": [
       "HBox(children=(IntProgress(value=0, max=10000), HTML(value='')))"
      ]
     },
     "metadata": {},
     "output_type": "display_data"
    },
    {
     "name": "stdout",
     "output_type": "stream",
     "text": [
      "\n"
     ]
    },
    {
     "data": {
      "application/vnd.jupyter.widget-view+json": {
       "model_id": "327ba56663b74f2c83ed9c4b1f81dc1c",
       "version_major": 2,
       "version_minor": 0
      },
      "text/plain": [
       "HBox(children=(IntProgress(value=0, max=2000), HTML(value='')))"
      ]
     },
     "metadata": {},
     "output_type": "display_data"
    },
    {
     "name": "stdout",
     "output_type": "stream",
     "text": [
      "\n"
     ]
    },
    {
     "data": {
      "application/vnd.jupyter.widget-view+json": {
       "model_id": "40c9b4152b984056b433aae54f870ba5",
       "version_major": 2,
       "version_minor": 0
      },
      "text/plain": [
       "HBox(children=(IntProgress(value=0, max=10000), HTML(value='')))"
      ]
     },
     "metadata": {},
     "output_type": "display_data"
    },
    {
     "name": "stdout",
     "output_type": "stream",
     "text": [
      "\n"
     ]
    },
    {
     "data": {
      "application/vnd.jupyter.widget-view+json": {
       "model_id": "e4d50c4ce1ac4f0e9af99d8c1c42eec8",
       "version_major": 2,
       "version_minor": 0
      },
      "text/plain": [
       "HBox(children=(IntProgress(value=0, max=2000), HTML(value='')))"
      ]
     },
     "metadata": {},
     "output_type": "display_data"
    },
    {
     "name": "stdout",
     "output_type": "stream",
     "text": [
      "\n"
     ]
    },
    {
     "data": {
      "application/vnd.jupyter.widget-view+json": {
       "model_id": "97e57923e1804928bde63dc78ed10d56",
       "version_major": 2,
       "version_minor": 0
      },
      "text/plain": [
       "HBox(children=(IntProgress(value=0, max=10000), HTML(value='')))"
      ]
     },
     "metadata": {},
     "output_type": "display_data"
    },
    {
     "name": "stdout",
     "output_type": "stream",
     "text": [
      "\n"
     ]
    },
    {
     "data": {
      "application/vnd.jupyter.widget-view+json": {
       "model_id": "3fe983a8118c41b4b2efb48b1fd08fc1",
       "version_major": 2,
       "version_minor": 0
      },
      "text/plain": [
       "HBox(children=(IntProgress(value=0, max=2000), HTML(value='')))"
      ]
     },
     "metadata": {},
     "output_type": "display_data"
    },
    {
     "name": "stdout",
     "output_type": "stream",
     "text": [
      "\n"
     ]
    },
    {
     "data": {
      "application/vnd.jupyter.widget-view+json": {
       "model_id": "5255c879602a400685886f8d566d447d",
       "version_major": 2,
       "version_minor": 0
      },
      "text/plain": [
       "HBox(children=(IntProgress(value=0, max=10000), HTML(value='')))"
      ]
     },
     "metadata": {},
     "output_type": "display_data"
    },
    {
     "name": "stdout",
     "output_type": "stream",
     "text": [
      "\n"
     ]
    },
    {
     "data": {
      "application/vnd.jupyter.widget-view+json": {
       "model_id": "4b537988c743440c9439af1c582bcb3d",
       "version_major": 2,
       "version_minor": 0
      },
      "text/plain": [
       "HBox(children=(IntProgress(value=0, max=2000), HTML(value='')))"
      ]
     },
     "metadata": {},
     "output_type": "display_data"
    },
    {
     "name": "stdout",
     "output_type": "stream",
     "text": [
      "\n"
     ]
    },
    {
     "data": {
      "application/vnd.jupyter.widget-view+json": {
       "model_id": "4310bd8b6cae476ca7c5e8a01c1d6325",
       "version_major": 2,
       "version_minor": 0
      },
      "text/plain": [
       "HBox(children=(IntProgress(value=0, max=10000), HTML(value='')))"
      ]
     },
     "metadata": {},
     "output_type": "display_data"
    },
    {
     "name": "stdout",
     "output_type": "stream",
     "text": [
      "\n"
     ]
    },
    {
     "data": {
      "application/vnd.jupyter.widget-view+json": {
       "model_id": "8ef507b602544bdea4b4fa52406183df",
       "version_major": 2,
       "version_minor": 0
      },
      "text/plain": [
       "HBox(children=(IntProgress(value=0, max=2000), HTML(value='')))"
      ]
     },
     "metadata": {},
     "output_type": "display_data"
    },
    {
     "name": "stdout",
     "output_type": "stream",
     "text": [
      "\n"
     ]
    },
    {
     "data": {
      "application/vnd.jupyter.widget-view+json": {
       "model_id": "aa68fe4b8e4747e4ad94119b43e6819e",
       "version_major": 2,
       "version_minor": 0
      },
      "text/plain": [
       "HBox(children=(IntProgress(value=0, max=10000), HTML(value='')))"
      ]
     },
     "metadata": {},
     "output_type": "display_data"
    },
    {
     "name": "stdout",
     "output_type": "stream",
     "text": [
      "\n"
     ]
    },
    {
     "data": {
      "application/vnd.jupyter.widget-view+json": {
       "model_id": "4ee42a2d35054e7d936a69f388d317cd",
       "version_major": 2,
       "version_minor": 0
      },
      "text/plain": [
       "HBox(children=(IntProgress(value=0, max=2000), HTML(value='')))"
      ]
     },
     "metadata": {},
     "output_type": "display_data"
    },
    {
     "name": "stdout",
     "output_type": "stream",
     "text": [
      "\n"
     ]
    },
    {
     "data": {
      "application/vnd.jupyter.widget-view+json": {
       "model_id": "8dca1f281751483184f29ed263ad1863",
       "version_major": 2,
       "version_minor": 0
      },
      "text/plain": [
       "HBox(children=(IntProgress(value=0, max=10000), HTML(value='')))"
      ]
     },
     "metadata": {},
     "output_type": "display_data"
    },
    {
     "name": "stdout",
     "output_type": "stream",
     "text": [
      "\n"
     ]
    },
    {
     "data": {
      "application/vnd.jupyter.widget-view+json": {
       "model_id": "0c95daee9d474e5b8a719c88e817d133",
       "version_major": 2,
       "version_minor": 0
      },
      "text/plain": [
       "HBox(children=(IntProgress(value=0, max=2000), HTML(value='')))"
      ]
     },
     "metadata": {},
     "output_type": "display_data"
    },
    {
     "name": "stdout",
     "output_type": "stream",
     "text": [
      "\n"
     ]
    },
    {
     "data": {
      "application/vnd.jupyter.widget-view+json": {
       "model_id": "88811c7a039a4b44a331bb3380a27100",
       "version_major": 2,
       "version_minor": 0
      },
      "text/plain": [
       "HBox(children=(IntProgress(value=0, max=10000), HTML(value='')))"
      ]
     },
     "metadata": {},
     "output_type": "display_data"
    },
    {
     "name": "stdout",
     "output_type": "stream",
     "text": [
      "\n"
     ]
    },
    {
     "data": {
      "application/vnd.jupyter.widget-view+json": {
       "model_id": "552f4d4eda9748e7bbacfa95d82ae80e",
       "version_major": 2,
       "version_minor": 0
      },
      "text/plain": [
       "HBox(children=(IntProgress(value=0, max=2000), HTML(value='')))"
      ]
     },
     "metadata": {},
     "output_type": "display_data"
    },
    {
     "name": "stdout",
     "output_type": "stream",
     "text": [
      "\n"
     ]
    },
    {
     "data": {
      "application/vnd.jupyter.widget-view+json": {
       "model_id": "641fa9bbf5c04634be69a7c4bdd5b162",
       "version_major": 2,
       "version_minor": 0
      },
      "text/plain": [
       "HBox(children=(IntProgress(value=0, max=10000), HTML(value='')))"
      ]
     },
     "metadata": {},
     "output_type": "display_data"
    },
    {
     "name": "stdout",
     "output_type": "stream",
     "text": [
      "\n"
     ]
    },
    {
     "data": {
      "application/vnd.jupyter.widget-view+json": {
       "model_id": "26684945b2664aa3ab769e945f4d8ad5",
       "version_major": 2,
       "version_minor": 0
      },
      "text/plain": [
       "HBox(children=(IntProgress(value=0, max=2000), HTML(value='')))"
      ]
     },
     "metadata": {},
     "output_type": "display_data"
    },
    {
     "name": "stdout",
     "output_type": "stream",
     "text": [
      "\n"
     ]
    },
    {
     "data": {
      "application/vnd.jupyter.widget-view+json": {
       "model_id": "a8b0d43a1da644748f1543e42323fd1e",
       "version_major": 2,
       "version_minor": 0
      },
      "text/plain": [
       "HBox(children=(IntProgress(value=0, max=10000), HTML(value='')))"
      ]
     },
     "metadata": {},
     "output_type": "display_data"
    },
    {
     "name": "stdout",
     "output_type": "stream",
     "text": [
      "\n"
     ]
    },
    {
     "data": {
      "application/vnd.jupyter.widget-view+json": {
       "model_id": "76ab624b3a1d41099792c6202b86c5be",
       "version_major": 2,
       "version_minor": 0
      },
      "text/plain": [
       "HBox(children=(IntProgress(value=0, max=2000), HTML(value='')))"
      ]
     },
     "metadata": {},
     "output_type": "display_data"
    },
    {
     "name": "stdout",
     "output_type": "stream",
     "text": [
      "\n"
     ]
    },
    {
     "data": {
      "application/vnd.jupyter.widget-view+json": {
       "model_id": "14f07c0d71a24381a045eb2abf5dd74d",
       "version_major": 2,
       "version_minor": 0
      },
      "text/plain": [
       "HBox(children=(IntProgress(value=0, max=10000), HTML(value='')))"
      ]
     },
     "metadata": {},
     "output_type": "display_data"
    },
    {
     "name": "stdout",
     "output_type": "stream",
     "text": [
      "\n"
     ]
    },
    {
     "data": {
      "application/vnd.jupyter.widget-view+json": {
       "model_id": "3a42c29ce11d4382b575e4a4bfb725eb",
       "version_major": 2,
       "version_minor": 0
      },
      "text/plain": [
       "HBox(children=(IntProgress(value=0, max=2000), HTML(value='')))"
      ]
     },
     "metadata": {},
     "output_type": "display_data"
    },
    {
     "name": "stdout",
     "output_type": "stream",
     "text": [
      "\n"
     ]
    },
    {
     "data": {
      "application/vnd.jupyter.widget-view+json": {
       "model_id": "18c2017705f74914be89ccb17481da8e",
       "version_major": 2,
       "version_minor": 0
      },
      "text/plain": [
       "HBox(children=(IntProgress(value=0, max=10000), HTML(value='')))"
      ]
     },
     "metadata": {},
     "output_type": "display_data"
    },
    {
     "name": "stdout",
     "output_type": "stream",
     "text": [
      "\n"
     ]
    },
    {
     "data": {
      "application/vnd.jupyter.widget-view+json": {
       "model_id": "fd71e0001cfa4bdd9af9e3ea66bffc6e",
       "version_major": 2,
       "version_minor": 0
      },
      "text/plain": [
       "HBox(children=(IntProgress(value=0, max=2000), HTML(value='')))"
      ]
     },
     "metadata": {},
     "output_type": "display_data"
    },
    {
     "name": "stdout",
     "output_type": "stream",
     "text": [
      "\n"
     ]
    },
    {
     "data": {
      "application/vnd.jupyter.widget-view+json": {
       "model_id": "c8a242d91dd34457a3a225bb06175b19",
       "version_major": 2,
       "version_minor": 0
      },
      "text/plain": [
       "HBox(children=(IntProgress(value=0, max=10000), HTML(value='')))"
      ]
     },
     "metadata": {},
     "output_type": "display_data"
    },
    {
     "name": "stdout",
     "output_type": "stream",
     "text": [
      "\n"
     ]
    },
    {
     "data": {
      "application/vnd.jupyter.widget-view+json": {
       "model_id": "be4387ed358a48eaace9ffb603ac37b9",
       "version_major": 2,
       "version_minor": 0
      },
      "text/plain": [
       "HBox(children=(IntProgress(value=0, max=2000), HTML(value='')))"
      ]
     },
     "metadata": {},
     "output_type": "display_data"
    },
    {
     "name": "stdout",
     "output_type": "stream",
     "text": [
      "\n"
     ]
    },
    {
     "data": {
      "application/vnd.jupyter.widget-view+json": {
       "model_id": "d0ebf18a57fc4edfaf2687a1ab9b3608",
       "version_major": 2,
       "version_minor": 0
      },
      "text/plain": [
       "HBox(children=(IntProgress(value=0, max=10000), HTML(value='')))"
      ]
     },
     "metadata": {},
     "output_type": "display_data"
    },
    {
     "name": "stdout",
     "output_type": "stream",
     "text": [
      "\n"
     ]
    },
    {
     "data": {
      "application/vnd.jupyter.widget-view+json": {
       "model_id": "fe30013311764cb6b589a8f5ec7e72cb",
       "version_major": 2,
       "version_minor": 0
      },
      "text/plain": [
       "HBox(children=(IntProgress(value=0, max=2000), HTML(value='')))"
      ]
     },
     "metadata": {},
     "output_type": "display_data"
    },
    {
     "name": "stdout",
     "output_type": "stream",
     "text": [
      "\n"
     ]
    },
    {
     "data": {
      "application/vnd.jupyter.widget-view+json": {
       "model_id": "92c7ca291d904ba39b8961a602f12d6d",
       "version_major": 2,
       "version_minor": 0
      },
      "text/plain": [
       "HBox(children=(IntProgress(value=0, max=10000), HTML(value='')))"
      ]
     },
     "metadata": {},
     "output_type": "display_data"
    },
    {
     "name": "stdout",
     "output_type": "stream",
     "text": [
      "\n"
     ]
    },
    {
     "data": {
      "application/vnd.jupyter.widget-view+json": {
       "model_id": "f16e6ca4f9fe491abcd46157d93125bf",
       "version_major": 2,
       "version_minor": 0
      },
      "text/plain": [
       "HBox(children=(IntProgress(value=0, max=2000), HTML(value='')))"
      ]
     },
     "metadata": {},
     "output_type": "display_data"
    },
    {
     "name": "stdout",
     "output_type": "stream",
     "text": [
      "\n"
     ]
    },
    {
     "data": {
      "application/vnd.jupyter.widget-view+json": {
       "model_id": "64d9ef762fb0483caa6b44769bd8222f",
       "version_major": 2,
       "version_minor": 0
      },
      "text/plain": [
       "HBox(children=(IntProgress(value=0, max=10000), HTML(value='')))"
      ]
     },
     "metadata": {},
     "output_type": "display_data"
    },
    {
     "name": "stdout",
     "output_type": "stream",
     "text": [
      "\n"
     ]
    }
   ],
   "source": [
    "import neurosimulator as ns\n",
    "import numpy as np\n",
    "from matplotlib import pyplot as plt\n",
    "from populations import Striatum\n",
    "\n",
    "\n",
    "CWmods = range(-6, -60, -6)\n",
    "CWmods = range(-6, -600, -60)\n",
    "meanRate = np.zeros((3,len(CWmods)))\n",
    "stdRate = np.zeros((3,len(CWmods)))\n",
    "\n",
    "for mod in range(len(CWmods)):\n",
    "    Striatum.CW[2,2] = CWmods[mod]\n",
    "    Striatum.MeanIx[2] = 22. \n",
    "    dsp = np.array([])\n",
    "    isp = np.array([])\n",
    "    fsi = np.array([])\n",
    "    for i in range(3):\n",
    "        ns.initNetwork(Striatum)\n",
    "        ns.rundynamics(200);\n",
    "        ns.rundynamics(1000);\n",
    "        dsp = np.append(dsp, ns.Neuron.SpikeCount[ns.Neuron.Tag==0])\n",
    "        isp = np.append(isp, ns.Neuron.SpikeCount[ns.Neuron.Tag==1])\n",
    "        fsi = np.append(fsi, ns.Neuron.SpikeCount[ns.Neuron.Tag==2])\n",
    "  \n",
    "    meanRate[0,mod] = np.mean(dsp)\n",
    "    meanRate[1,mod] = np.mean(isp)\n",
    "    meanRate[2,mod] = np.mean(fsi)\n",
    "    stdRate[0,mod] = np.std(dsp)\n",
    "    stdRate[1,mod] = np.std(isp)\n",
    "    stdRate[2,mod] = np.std(fsi)\n",
    "\n"
   ]
  },
  {
   "cell_type": "code",
   "execution_count": 51,
   "metadata": {
    "scrolled": false
   },
   "outputs": [
    {
     "data": {
      "text/plain": [
       "<matplotlib.legend.Legend at 0x1ef5a1d4dd8>"
      ]
     },
     "execution_count": 51,
     "metadata": {},
     "output_type": "execute_result"
    },
    {
     "data": {
      "image/png": "[encoded data removed]",
      "text/plain": [
       "<Figure size 432x288 with 1 Axes>"
      ]
     },
     "metadata": {
      "needs_background": "light"
     },
     "output_type": "display_data"
    }
   ],
   "source": [
    "fig, axs = plt.subplots(1,1)\n",
    "modsPercent = np.array(CWmods)/CWmods[0]*100\n",
    "plt.plot(modsPercent, meanRate[0,:], 'b-o')\n",
    "plt.plot(modsPercent, meanRate[1,:], 'g-o')\n",
    "plt.plot(modsPercent, meanRate[2,:], 'r-o')\n",
    "plt.ylabel('mean rate (Hz)')\n",
    "plt.xlabel('FSI GABA strength (%)')\n",
    "plt.legend(('iSPN', 'dSPN', 'FSI'))\n",
    "\n",
    "#fig.savefig('meanRate_vs_GABA.png', dpi=1000)"
   ]
  },
  {
   "cell_type": "markdown",
   "metadata": {},
   "source": [
    "## Decreasing FSI input"
   ]
  },
  {
   "cell_type": "code",
   "execution_count": 42,
   "metadata": {},
   "outputs": [
    {
     "data": {
      "application/vnd.jupyter.widget-view+json": {
       "model_id": "92a7d7718fd643daa4b5cdd9c7508afb",
       "version_major": 2,
       "version_minor": 0
      },
      "text/plain": [
       "HBox(children=(IntProgress(value=0, max=2000), HTML(value='')))"
      ]
     },
     "metadata": {},
     "output_type": "display_data"
    },
    {
     "name": "stdout",
     "output_type": "stream",
     "text": [
      "\n"
     ]
    },
    {
     "data": {
      "application/vnd.jupyter.widget-view+json": {
       "model_id": "eeb32646bd8e4c70b3b54e9b31258f35",
       "version_major": 2,
       "version_minor": 0
      },
      "text/plain": [
       "HBox(children=(IntProgress(value=0, max=10000), HTML(value='')))"
      ]
     },
     "metadata": {},
     "output_type": "display_data"
    },
    {
     "name": "stdout",
     "output_type": "stream",
     "text": [
      "\n"
     ]
    },
    {
     "data": {
      "application/vnd.jupyter.widget-view+json": {
       "model_id": "85154109773044e9bdb6f8856de2e5a6",
       "version_major": 2,
       "version_minor": 0
      },
      "text/plain": [
       "HBox(children=(IntProgress(value=0, max=2000), HTML(value='')))"
      ]
     },
     "metadata": {},
     "output_type": "display_data"
    },
    {
     "name": "stdout",
     "output_type": "stream",
     "text": [
      "\n"
     ]
    },
    {
     "data": {
      "application/vnd.jupyter.widget-view+json": {
       "model_id": "327688848ba841edab94deb1cdc582ff",
       "version_major": 2,
       "version_minor": 0
      },
      "text/plain": [
       "HBox(children=(IntProgress(value=0, max=10000), HTML(value='')))"
      ]
     },
     "metadata": {},
     "output_type": "display_data"
    },
    {
     "name": "stdout",
     "output_type": "stream",
     "text": [
      "\n"
     ]
    },
    {
     "data": {
      "application/vnd.jupyter.widget-view+json": {
       "model_id": "688ba2cda3a643f49e12415a0a3ae777",
       "version_major": 2,
       "version_minor": 0
      },
      "text/plain": [
       "HBox(children=(IntProgress(value=0, max=2000), HTML(value='')))"
      ]
     },
     "metadata": {},
     "output_type": "display_data"
    },
    {
     "name": "stdout",
     "output_type": "stream",
     "text": [
      "\n"
     ]
    },
    {
     "data": {
      "application/vnd.jupyter.widget-view+json": {
       "model_id": "f007bb32f8e041528e670d0fde6e6dd0",
       "version_major": 2,
       "version_minor": 0
      },
      "text/plain": [
       "HBox(children=(IntProgress(value=0, max=10000), HTML(value='')))"
      ]
     },
     "metadata": {},
     "output_type": "display_data"
    },
    {
     "name": "stdout",
     "output_type": "stream",
     "text": [
      "\n"
     ]
    },
    {
     "data": {
      "application/vnd.jupyter.widget-view+json": {
       "model_id": "264d26ede8ac4f0b9dac3c0d7612db68",
       "version_major": 2,
       "version_minor": 0
      },
      "text/plain": [
       "HBox(children=(IntProgress(value=0, max=2000), HTML(value='')))"
      ]
     },
     "metadata": {},
     "output_type": "display_data"
    },
    {
     "name": "stdout",
     "output_type": "stream",
     "text": [
      "\n"
     ]
    },
    {
     "data": {
      "application/vnd.jupyter.widget-view+json": {
       "model_id": "acad8c32ccb3418ebe5de97fd138dcbc",
       "version_major": 2,
       "version_minor": 0
      },
      "text/plain": [
       "HBox(children=(IntProgress(value=0, max=10000), HTML(value='')))"
      ]
     },
     "metadata": {},
     "output_type": "display_data"
    },
    {
     "name": "stdout",
     "output_type": "stream",
     "text": [
      "\n"
     ]
    },
    {
     "data": {
      "application/vnd.jupyter.widget-view+json": {
       "model_id": "be1775e626714ba28030e5b8faa2c24b",
       "version_major": 2,
       "version_minor": 0
      },
      "text/plain": [
       "HBox(children=(IntProgress(value=0, max=2000), HTML(value='')))"
      ]
     },
     "metadata": {},
     "output_type": "display_data"
    },
    {
     "name": "stdout",
     "output_type": "stream",
     "text": [
      "\n"
     ]
    },
    {
     "data": {
      "application/vnd.jupyter.widget-view+json": {
       "model_id": "50ef78ced87144b1a9e896cf230aed63",
       "version_major": 2,
       "version_minor": 0
      },
      "text/plain": [
       "HBox(children=(IntProgress(value=0, max=10000), HTML(value='')))"
      ]
     },
     "metadata": {},
     "output_type": "display_data"
    },
    {
     "name": "stdout",
     "output_type": "stream",
     "text": [
      "\n"
     ]
    },
    {
     "data": {
      "application/vnd.jupyter.widget-view+json": {
       "model_id": "e39f3c95f22544a7815b5b3a4e4fd3b4",
       "version_major": 2,
       "version_minor": 0
      },
      "text/plain": [
       "HBox(children=(IntProgress(value=0, max=2000), HTML(value='')))"
      ]
     },
     "metadata": {},
     "output_type": "display_data"
    },
    {
     "name": "stdout",
     "output_type": "stream",
     "text": [
      "\n"
     ]
    },
    {
     "data": {
      "application/vnd.jupyter.widget-view+json": {
       "model_id": "61ca03cf50a54686bd48a159e8c63b02",
       "version_major": 2,
       "version_minor": 0
      },
      "text/plain": [
       "HBox(children=(IntProgress(value=0, max=10000), HTML(value='')))"
      ]
     },
     "metadata": {},
     "output_type": "display_data"
    },
    {
     "name": "stdout",
     "output_type": "stream",
     "text": [
      "\n"
     ]
    },
    {
     "data": {
      "application/vnd.jupyter.widget-view+json": {
       "model_id": "ab89406674f74ef5907e1c0931703734",
       "version_major": 2,
       "version_minor": 0
      },
      "text/plain": [
       "HBox(children=(IntProgress(value=0, max=2000), HTML(value='')))"
      ]
     },
     "metadata": {},
     "output_type": "display_data"
    },
    {
     "name": "stdout",
     "output_type": "stream",
     "text": [
      "\n"
     ]
    },
    {
     "data": {
      "application/vnd.jupyter.widget-view+json": {
       "model_id": "2d48f550e0e0415aa5a38cc8ef202a36",
       "version_major": 2,
       "version_minor": 0
      },
      "text/plain": [
       "HBox(children=(IntProgress(value=0, max=10000), HTML(value='')))"
      ]
     },
     "metadata": {},
     "output_type": "display_data"
    },
    {
     "name": "stdout",
     "output_type": "stream",
     "text": [
      "\n"
     ]
    },
    {
     "data": {
      "application/vnd.jupyter.widget-view+json": {
       "model_id": "2113055d8d7841dc84ec86294858e509",
       "version_major": 2,
       "version_minor": 0
      },
      "text/plain": [
       "HBox(children=(IntProgress(value=0, max=2000), HTML(value='')))"
      ]
     },
     "metadata": {},
     "output_type": "display_data"
    },
    {
     "name": "stdout",
     "output_type": "stream",
     "text": [
      "\n"
     ]
    },
    {
     "data": {
      "application/vnd.jupyter.widget-view+json": {
       "model_id": "a1baf8f241cb45a68f68446add7e211e",
       "version_major": 2,
       "version_minor": 0
      },
      "text/plain": [
       "HBox(children=(IntProgress(value=0, max=10000), HTML(value='')))"
      ]
     },
     "metadata": {},
     "output_type": "display_data"
    },
    {
     "name": "stdout",
     "output_type": "stream",
     "text": [
      "\n"
     ]
    },
    {
     "data": {
      "application/vnd.jupyter.widget-view+json": {
       "model_id": "5f70fb98beb244ef9c6853b40ff06ded",
       "version_major": 2,
       "version_minor": 0
      },
      "text/plain": [
       "HBox(children=(IntProgress(value=0, max=2000), HTML(value='')))"
      ]
     },
     "metadata": {},
     "output_type": "display_data"
    },
    {
     "name": "stdout",
     "output_type": "stream",
     "text": [
      "\n"
     ]
    },
    {
     "data": {
      "application/vnd.jupyter.widget-view+json": {
       "model_id": "d559b948a8774394ba1f0f24ad518f2c",
       "version_major": 2,
       "version_minor": 0
      },
      "text/plain": [
       "HBox(children=(IntProgress(value=0, max=10000), HTML(value='')))"
      ]
     },
     "metadata": {},
     "output_type": "display_data"
    },
    {
     "name": "stdout",
     "output_type": "stream",
     "text": [
      "\n"
     ]
    },
    {
     "data": {
      "application/vnd.jupyter.widget-view+json": {
       "model_id": "a5b83a1eb0bb4f868efabbec86d6922b",
       "version_major": 2,
       "version_minor": 0
      },
      "text/plain": [
       "HBox(children=(IntProgress(value=0, max=2000), HTML(value='')))"
      ]
     },
     "metadata": {},
     "output_type": "display_data"
    },
    {
     "name": "stdout",
     "output_type": "stream",
     "text": [
      "\n"
     ]
    },
    {
     "data": {
      "application/vnd.jupyter.widget-view+json": {
       "model_id": "ff90f9cee498442fa0c6a501a8ac60fd",
       "version_major": 2,
       "version_minor": 0
      },
      "text/plain": [
       "HBox(children=(IntProgress(value=0, max=10000), HTML(value='')))"
      ]
     },
     "metadata": {},
     "output_type": "display_data"
    },
    {
     "name": "stdout",
     "output_type": "stream",
     "text": [
      "\n"
     ]
    },
    {
     "data": {
      "application/vnd.jupyter.widget-view+json": {
       "model_id": "a714fbcd5b7841feb2f322429e5fd3d9",
       "version_major": 2,
       "version_minor": 0
      },
      "text/plain": [
       "HBox(children=(IntProgress(value=0, max=2000), HTML(value='')))"
      ]
     },
     "metadata": {},
     "output_type": "display_data"
    },
    {
     "name": "stdout",
     "output_type": "stream",
     "text": [
      "\n"
     ]
    },
    {
     "data": {
      "application/vnd.jupyter.widget-view+json": {
       "model_id": "a3224eff51c7432d9274282f36d9659c",
       "version_major": 2,
       "version_minor": 0
      },
      "text/plain": [
       "HBox(children=(IntProgress(value=0, max=10000), HTML(value='')))"
      ]
     },
     "metadata": {},
     "output_type": "display_data"
    },
    {
     "name": "stdout",
     "output_type": "stream",
     "text": [
      "\n"
     ]
    },
    {
     "data": {
      "application/vnd.jupyter.widget-view+json": {
       "model_id": "ee7d8ec33cb4437796af7076e31357c3",
       "version_major": 2,
       "version_minor": 0
      },
      "text/plain": [
       "HBox(children=(IntProgress(value=0, max=2000), HTML(value='')))"
      ]
     },
     "metadata": {},
     "output_type": "display_data"
    },
    {
     "name": "stdout",
     "output_type": "stream",
     "text": [
      "\n"
     ]
    },
    {
     "data": {
      "application/vnd.jupyter.widget-view+json": {
       "model_id": "11f223a194494940b51b8d06e8816148",
       "version_major": 2,
       "version_minor": 0
      },
      "text/plain": [
       "HBox(children=(IntProgress(value=0, max=10000), HTML(value='')))"
      ]
     },
     "metadata": {},
     "output_type": "display_data"
    },
    {
     "name": "stdout",
     "output_type": "stream",
     "text": [
      "\n"
     ]
    },
    {
     "data": {
      "application/vnd.jupyter.widget-view+json": {
       "model_id": "00ed9e58be31469d98a5174aae36eb94",
       "version_major": 2,
       "version_minor": 0
      },
      "text/plain": [
       "HBox(children=(IntProgress(value=0, max=2000), HTML(value='')))"
      ]
     },
     "metadata": {},
     "output_type": "display_data"
    },
    {
     "name": "stdout",
     "output_type": "stream",
     "text": [
      "\n"
     ]
    },
    {
     "data": {
      "application/vnd.jupyter.widget-view+json": {
       "model_id": "ce9009055d9943169cfb271318d7e271",
       "version_major": 2,
       "version_minor": 0
      },
      "text/plain": [
       "HBox(children=(IntProgress(value=0, max=10000), HTML(value='')))"
      ]
     },
     "metadata": {},
     "output_type": "display_data"
    },
    {
     "name": "stdout",
     "output_type": "stream",
     "text": [
      "\n"
     ]
    },
    {
     "data": {
      "application/vnd.jupyter.widget-view+json": {
       "model_id": "c0678de1d6024150a936231842d01cb7",
       "version_major": 2,
       "version_minor": 0
      },
      "text/plain": [
       "HBox(children=(IntProgress(value=0, max=2000), HTML(value='')))"
      ]
     },
     "metadata": {},
     "output_type": "display_data"
    },
    {
     "name": "stdout",
     "output_type": "stream",
     "text": [
      "\n"
     ]
    },
    {
     "data": {
      "application/vnd.jupyter.widget-view+json": {
       "model_id": "ba9528105e5c4fb5937b256ad624fa1d",
       "version_major": 2,
       "version_minor": 0
      },
      "text/plain": [
       "HBox(children=(IntProgress(value=0, max=10000), HTML(value='')))"
      ]
     },
     "metadata": {},
     "output_type": "display_data"
    },
    {
     "name": "stdout",
     "output_type": "stream",
     "text": [
      "\n"
     ]
    },
    {
     "data": {
      "application/vnd.jupyter.widget-view+json": {
       "model_id": "a82ac67875c949bb9c4ec3162a13f92a",
       "version_major": 2,
       "version_minor": 0
      },
      "text/plain": [
       "HBox(children=(IntProgress(value=0, max=2000), HTML(value='')))"
      ]
     },
     "metadata": {},
     "output_type": "display_data"
    },
    {
     "name": "stdout",
     "output_type": "stream",
     "text": [
      "\n"
     ]
    },
    {
     "data": {
      "application/vnd.jupyter.widget-view+json": {
       "model_id": "dc5c8e99cbf54b53ba9e7d6c6c1c0ad1",
       "version_major": 2,
       "version_minor": 0
      },
      "text/plain": [
       "HBox(children=(IntProgress(value=0, max=10000), HTML(value='')))"
      ]
     },
     "metadata": {},
     "output_type": "display_data"
    },
    {
     "name": "stdout",
     "output_type": "stream",
     "text": [
      "\n"
     ]
    },
    {
     "data": {
      "application/vnd.jupyter.widget-view+json": {
       "model_id": "62fd99e10e6c499e8bdd5b5eb7c4b98f",
       "version_major": 2,
       "version_minor": 0
      },
      "text/plain": [
       "HBox(children=(IntProgress(value=0, max=2000), HTML(value='')))"
      ]
     },
     "metadata": {},
     "output_type": "display_data"
    },
    {
     "name": "stdout",
     "output_type": "stream",
     "text": [
      "\n"
     ]
    },
    {
     "data": {
      "application/vnd.jupyter.widget-view+json": {
       "model_id": "740d8987c40a4824bd6e893562926f8a",
       "version_major": 2,
       "version_minor": 0
      },
      "text/plain": [
       "HBox(children=(IntProgress(value=0, max=10000), HTML(value='')))"
      ]
     },
     "metadata": {},
     "output_type": "display_data"
    },
    {
     "name": "stdout",
     "output_type": "stream",
     "text": [
      "\n"
     ]
    },
    {
     "data": {
      "application/vnd.jupyter.widget-view+json": {
       "model_id": "42d6d7b6bb904f2984991480c2177a90",
       "version_major": 2,
       "version_minor": 0
      },
      "text/plain": [
       "HBox(children=(IntProgress(value=0, max=2000), HTML(value='')))"
      ]
     },
     "metadata": {},
     "output_type": "display_data"
    },
    {
     "name": "stdout",
     "output_type": "stream",
     "text": [
      "\n"
     ]
    },
    {
     "data": {
      "application/vnd.jupyter.widget-view+json": {
       "model_id": "775d60b512b1452c9d9c7fa990d90ca2",
       "version_major": 2,
       "version_minor": 0
      },
      "text/plain": [
       "HBox(children=(IntProgress(value=0, max=10000), HTML(value='')))"
      ]
     },
     "metadata": {},
     "output_type": "display_data"
    },
    {
     "name": "stdout",
     "output_type": "stream",
     "text": [
      "\n"
     ]
    },
    {
     "data": {
      "application/vnd.jupyter.widget-view+json": {
       "model_id": "62c77f759106489490b5d76912655fb8",
       "version_major": 2,
       "version_minor": 0
      },
      "text/plain": [
       "HBox(children=(IntProgress(value=0, max=2000), HTML(value='')))"
      ]
     },
     "metadata": {},
     "output_type": "display_data"
    },
    {
     "name": "stdout",
     "output_type": "stream",
     "text": [
      "\n"
     ]
    },
    {
     "data": {
      "application/vnd.jupyter.widget-view+json": {
       "model_id": "34583e2e6df44093910c8cf0b89d1c17",
       "version_major": 2,
       "version_minor": 0
      },
      "text/plain": [
       "HBox(children=(IntProgress(value=0, max=10000), HTML(value='')))"
      ]
     },
     "metadata": {},
     "output_type": "display_data"
    },
    {
     "name": "stdout",
     "output_type": "stream",
     "text": [
      "\n"
     ]
    }
   ],
   "source": [
    "import neurosimulator as ns\n",
    "import numpy as np\n",
    "from matplotlib import pyplot as plt\n",
    "from populations import Striatum\n",
    "\n",
    "\n",
    "Ixmods = np.array(range(2200, 2050, -25))/100\n",
    "meanRate = np.zeros((3,len(Ixmods)))\n",
    "stdRate = np.zeros((3,len(Ixmods)))\n",
    "\n",
    "for mod in range(len(Ixmods)):\n",
    "    Striatum.MeanIx[2] = Ixmods[mod]\n",
    "    Striatum.CW[2,2] = -6.\n",
    "    dsp = np.array([])\n",
    "    isp = np.array([])\n",
    "    fsi = np.array([])\n",
    "    for i in range(3):\n",
    "        ns.initNetwork(Striatum)\n",
    "        ns.rundynamics(200);\n",
    "        ns.rundynamics(1000);\n",
    "        dsp = np.append(dsp, ns.Neuron.SpikeCount[ns.Neuron.Tag==0])\n",
    "        isp = np.append(isp, ns.Neuron.SpikeCount[ns.Neuron.Tag==1])\n",
    "        fsi = np.append(fsi, ns.Neuron.SpikeCount[ns.Neuron.Tag==2])\n",
    "  \n",
    "    meanRate[0,mod] = np.mean(dsp)\n",
    "    meanRate[1,mod] = np.mean(isp)\n",
    "    meanRate[2,mod] = np.mean(fsi)\n",
    "    stdRate[0,mod] = np.std(dsp)\n",
    "    stdRate[1,mod] = np.std(isp)\n",
    "    stdRate[2,mod] = np.std(fsi)\n",
    "\n"
   ]
  },
  {
   "cell_type": "code",
   "execution_count": 45,
   "metadata": {},
   "outputs": [
    {
     "data": {
      "image/png": "[encoded data removed]",
      "text/plain": [
       "<Figure size 432x288 with 1 Axes>"
      ]
     },
     "metadata": {
      "needs_background": "light"
     },
     "output_type": "display_data"
    }
   ],
   "source": [
    "fig, axs = plt.subplots(1,1)\n",
    "modsPercent = np.array(Ixmods)/Ixmods[0]*100\n",
    "plt.plot(modsPercent, meanRate[0,:], 'b-o')\n",
    "plt.plot(modsPercent, meanRate[1,:], 'g-o')\n",
    "plt.plot(modsPercent, meanRate[2,:], 'r-o')\n",
    "plt.ylabel('mean rate (Hz)')\n",
    "plt.xlabel('FSI input strength (%)')\n",
    "plt.legend(('iSPN', 'dSPN', 'FSI'))\n",
    "fig.savefig('meanRate_vs_input.png', dpi=1000)"
   ]
  },
  {
   "cell_type": "code",
   "execution_count": null,
   "metadata": {},
   "outputs": [],
   "source": []
  }
 ],
 "metadata": {
  "kernelspec": {
   "display_name": "Python 3",
   "language": "python",
   "name": "python3"
  },
  "language_info": {
   "codemirror_mode": {
    "name": "ipython",
    "version": 3
   },
   "file_extension": ".py",
   "mimetype": "text/x-python",
   "name": "python",
   "nbconvert_exporter": "python",
   "pygments_lexer": "ipython3",
   "version": "3.6.9"
  }
 },
 "nbformat": 4,
 "nbformat_minor": 2
}
